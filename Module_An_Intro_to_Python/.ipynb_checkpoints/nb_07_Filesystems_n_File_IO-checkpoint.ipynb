{
 "cells": [
  {
   "cell_type": "code",
   "execution_count": null,
   "metadata": {
    "ExecuteTime": {
     "end_time": "2022-07-06T18:40:53.972247Z",
     "start_time": "2022-07-06T18:40:53.966900Z"
    }
   },
   "outputs": [],
   "source": [
    "from IPython.core.display import HTML\n",
    "from IPython.lib.display import YouTubeVideo"
   ]
  },
  {
   "cell_type": "markdown",
   "metadata": {},
   "source": [
    "# Synopsis\n",
    "\n",
    "In this unit we will earn an important skill, how to read and write files. In order to do that, we will cover:\n",
    "\n",
    "1. How files are organized on a computer and how to view/find file locations with terminal commands from the notebook\n",
    "2. How to open a file and read it\n",
    "3. How to open a file and write text to it. "
   ]
  },
  {
   "cell_type": "markdown",
   "metadata": {},
   "source": [
    "# Videos"
   ]
  },
  {
   "cell_type": "code",
   "execution_count": null,
   "metadata": {
    "ExecuteTime": {
     "end_time": "2022-07-06T18:40:58.088950Z",
     "start_time": "2022-07-06T18:40:57.977610Z"
    }
   },
   "outputs": [],
   "source": [
    "vid = YouTubeVideo('pTT7HMqDnJw', width = 600)\n",
    "display(vid)\n"
   ]
  },
  {
   "cell_type": "markdown",
   "metadata": {},
   "source": [
    "# Filesystems\n",
    "\n",
    "Typing strings and numbers into a `Jupyter` Notebook is a great way to learn the basics.\n",
    "\n",
    "However, sooner or later you will have to learn how to read data from a file, perform some analyses on that data, and (ideally) save results of the analyses. \n",
    "\n",
    "In order to do this effectively, we first must go over the basics of `filesystems` so you understand how data is organized in your storage drive.\n",
    "\n",
    "**Mac OS** `filesystems` are organized in similar manner to **Unix** `filesystems`. \n",
    "\n",
    "> It all starts at `/` -- the root!  \n",
    "\n",
    "The root location holds several folders, as shown below by the names in blue\n",
    "\n",
    "<img src = 'Images/dir_list.png' width = '700px'></img>\n",
    "\n",
    "These folders can be seen as branches of a bush with root at `/`.  Of particular interest is the `Users` branch which stores the home accounts.  \n",
    "\n",
    "My home account is named `amaral` and it is located 2 levels above the root `/`.\n",
    "\n",
    "<img src = 'Images/more_dir_lists.png' width = '700px'></img>\n",
    "\n",
    "The location of a file or folder can be specified in an absolute or relative manner using a string that reports the intermediate branches between the file and the root or some relative location, respectively. The intermediate branches are separated by `/`.\n",
    "\n",
    "The absolute path for the file `update.zip` is\n",
    "\n",
    "> /Users/amaral/update.zip\n",
    "\n",
    "The relative path with regards to the folder `Users` is\n",
    "\n",
    "> amaral/update.zip\n",
    "\n",
    "\n",
    "On **Windows**, things are not that different. There is still a root which is located at `C:\\` instead of `/` and the separators are `\\` instead of `/`.\n",
    "\n"
   ]
  },
  {
   "cell_type": "markdown",
   "metadata": {},
   "source": [
    "In the image above, you can see that a lot of information is provided for each item in a folder. For example,\n",
    "\n",
    "<img src = 'Images/file_info.png' width = '700px'></img>\n",
    "\n",
    "> The first column of codes contains information of the **privileges/permissions** of different types of accounts. \n",
    ">\n",
    "> The second column indicates the number of real items inside the folder `share` (don't worry about it)\n",
    ">\n",
    "> The third column shows the **owner** of the file or folder. \n",
    ">\n",
    "> The fourth column shows the name of the **group** with special permissions for the file or folder, \n",
    ">\n",
    "> The fifth column shows the **size** of the file or folder.\n",
    ">\n",
    "> The sixth column shows **the last date and time** (if in the same calendar year) the file was modified. \n",
    ">\n",
    "> The seventh column shows the **name** of the file or folder.\n"
   ]
  },
  {
   "cell_type": "code",
   "execution_count": null,
   "metadata": {
    "ExecuteTime": {
     "end_time": "2022-07-06T18:49:51.148008Z",
     "start_time": "2022-07-06T18:49:50.250245Z"
    }
   },
   "outputs": [],
   "source": [
    "ls ~/"
   ]
  },
  {
   "cell_type": "markdown",
   "metadata": {},
   "source": [
    "`ls` is a **shell** command, not a Python command. Because shell commands are so useful, the `Jupyter` notebook allows us to use this command natively **in any code cell as long as there is no Python code in the cell**.\n",
    "\n",
    "Shell commands are little programs that are native to the operating system and that can be provided additional parameters and input using so-called **flags**. \n",
    "\n",
    "For example, we can use the flags `l`, `h`, and `t` to enhance the output of `ls` by showing a list of information, human-readable file sizes, and a time ordered printout, respectively.\n",
    "\n",
    "\n",
    "ASIDE: *Many many years ago, when Windows did not yet exist and Microsoft's OS was named DOS, Microsoft used `/` to indicate flag values. For this reason, they were 'forced' to use `\\` for separating folders.*"
   ]
  },
  {
   "cell_type": "code",
   "execution_count": null,
   "metadata": {
    "ExecuteTime": {
     "end_time": "2022-07-06T18:50:45.598926Z",
     "start_time": "2022-07-06T18:50:44.820243Z"
    }
   },
   "outputs": [],
   "source": [
    "ls -lht ~/"
   ]
  },
  {
   "cell_type": "markdown",
   "metadata": {
    "ExecuteTime": {
     "end_time": "2022-07-06T18:51:24.967017Z",
     "start_time": "2022-07-06T18:51:24.953993Z"
    }
   },
   "source": [
    "without the `h` flag sizes are harder to calculate"
   ]
  },
  {
   "cell_type": "code",
   "execution_count": null,
   "metadata": {
    "ExecuteTime": {
     "end_time": "2022-07-06T18:52:04.167708Z",
     "start_time": "2022-07-06T18:52:03.386156Z"
    }
   },
   "outputs": [],
   "source": [
    "ls -lt ~/"
   ]
  },
  {
   "cell_type": "markdown",
   "metadata": {},
   "source": [
    "An important concept in coding is that of *current/present working folder/directory*.  The current working folder for this notebook can be retrieved using the command `pwd`.\n",
    "\n",
    "Results will depend on your setup. "
   ]
  },
  {
   "cell_type": "code",
   "execution_count": null,
   "metadata": {
    "ExecuteTime": {
     "end_time": "2022-07-06T18:52:19.659361Z",
     "start_time": "2022-07-06T18:52:19.643057Z"
    }
   },
   "outputs": [],
   "source": [
    "pwd"
   ]
  },
  {
   "cell_type": "code",
   "execution_count": null,
   "metadata": {
    "ExecuteTime": {
     "end_time": "2022-07-06T18:52:51.121374Z",
     "start_time": "2022-07-06T18:52:50.330951Z"
    }
   },
   "outputs": [],
   "source": [
    "ls -lht"
   ]
  },
  {
   "cell_type": "markdown",
   "metadata": {},
   "source": [
    "## Ownership and permissions\n",
    "\n",
    "You can use so-called **shell** commands in a terminal to navigate the filesystem, to create files and folders, to delete, copy, and move files and folders and to run programs.  The things that you can do depend on your privileges which are related to the account and group ownership of the file or folder.\n",
    "\n",
    "The privilege information is organized according ownership level.  The three ownership levels are **user**, **group**, and **all**. User refers to the privileges of the account that owns the file. In the example above, all files are owned by the `amaral` account.\n",
    "\n",
    "Users of a filesystem can be organized into groups.  A user account can belong to several groups, but a file or folder can only be assigned to a single group.  Groups enable different users -- for example, collaborators on a project -- to share greater privileges in accessing a file or folder.\n",
    "\n",
    "All accounts -- including those that run services for the computer, such as communicating with the printer, or the mouse -- fall into the last ownership level: all.\n",
    "\n",
    "The first code in the set of 10 characters of the first column indicates whether the name at the end refers to a directory (will display a `d`), a symbolic link (`l`), or a regular file (`-`).\n",
    "\n",
    "The following 3 characters concern reading (`r`), writing (`w`), and execution (`x`) permissions for the owner of the file or folder.  Files storing data can typically be read and written. If you want to make sure a file is not overwritten, you can remove writing privileges from everyone including the file's owner.  \n",
    "\n",
    "The following 3 characters concern reading (`r`), writing (`w`), and execution (`x`) permissions for all the users belong to the relevant group.\n",
    "\n",
    "The final 3 characters concern reading (`r`), writing (`w`), and execution (`x`) permissions for everyone else."
   ]
  },
  {
   "cell_type": "markdown",
   "metadata": {},
   "source": [
    "You can use the command `touch` to create an empty file. \n",
    "\n",
    "**The `!` lets the notebook 'know' that what follows in not a Python command**."
   ]
  },
  {
   "cell_type": "code",
   "execution_count": null,
   "metadata": {
    "ExecuteTime": {
     "end_time": "2022-07-06T18:54:32.514098Z",
     "start_time": "2022-07-06T18:54:31.737161Z"
    }
   },
   "outputs": [],
   "source": [
    "!touch text.txt"
   ]
  },
  {
   "cell_type": "code",
   "execution_count": null,
   "metadata": {
    "ExecuteTime": {
     "end_time": "2022-07-06T18:54:40.288140Z",
     "start_time": "2022-07-06T18:54:39.503412Z"
    }
   },
   "outputs": [],
   "source": [
    "ls "
   ]
  },
  {
   "cell_type": "markdown",
   "metadata": {},
   "source": [
    "The shell allows for the use of **wildcards** to filter output.  For example, \n",
    "\n",
    "> `*` stands for any number of arbitrary characters, \n",
    "\n",
    "> `?` stands for any single arbitrary character, \n",
    "\n",
    "> `[ ]` stand for one occurrence of any of the characters enclosed within the square brackets. \n",
    "\n",
    "To list just our new file we can write"
   ]
  },
  {
   "cell_type": "code",
   "execution_count": null,
   "metadata": {
    "ExecuteTime": {
     "end_time": "2022-07-06T18:54:44.668740Z",
     "start_time": "2022-07-06T18:54:43.890107Z"
    }
   },
   "outputs": [],
   "source": [
    "ls -lht *.txt"
   ]
  },
  {
   "cell_type": "markdown",
   "metadata": {},
   "source": [
    "To see which groups are defined, in MacOS, you can use "
   ]
  },
  {
   "cell_type": "code",
   "execution_count": null,
   "metadata": {
    "ExecuteTime": {
     "end_time": "2022-07-06T18:55:14.408910Z",
     "start_time": "2022-07-06T18:55:13.615441Z"
    }
   },
   "outputs": [],
   "source": [
    "!groups"
   ]
  },
  {
   "cell_type": "markdown",
   "metadata": {},
   "source": [
    "and to see the groups you belong to"
   ]
  },
  {
   "cell_type": "code",
   "execution_count": null,
   "metadata": {
    "ExecuteTime": {
     "end_time": "2022-07-06T18:55:19.398374Z",
     "start_time": "2022-07-06T18:55:18.617779Z"
    }
   },
   "outputs": [],
   "source": [
    "!id amaral"
   ]
  },
  {
   "cell_type": "markdown",
   "metadata": {},
   "source": [
    "To read all users and groups is now quite complex in MacOS (unlike in Unix).  You use"
   ]
  },
  {
   "cell_type": "code",
   "execution_count": null,
   "metadata": {
    "ExecuteTime": {
     "end_time": "2022-07-06T18:55:30.343733Z",
     "start_time": "2022-07-06T18:55:29.522517Z"
    }
   },
   "outputs": [],
   "source": [
    "!dscl localhost -list /Local/Default/Groups"
   ]
  },
  {
   "cell_type": "code",
   "execution_count": null,
   "metadata": {
    "ExecuteTime": {
     "end_time": "2022-07-06T18:55:35.586623Z",
     "start_time": "2022-07-06T18:55:34.803276Z"
    }
   },
   "outputs": [],
   "source": [
    "!chgrp everyone text.txt"
   ]
  },
  {
   "cell_type": "code",
   "execution_count": null,
   "metadata": {
    "ExecuteTime": {
     "end_time": "2022-07-06T18:55:38.712622Z",
     "start_time": "2022-07-06T18:55:37.912186Z"
    }
   },
   "outputs": [],
   "source": [
    "ls -lht *.txt"
   ]
  },
  {
   "cell_type": "markdown",
   "metadata": {},
   "source": [
    "## Traveling the filesystem tree\n",
    "\n",
    "As was mentioned earlier, there are two ways to report a path: \n",
    "\n",
    "> absolute \n",
    ">\n",
    "> relative.\n",
    "\n",
    "**Absolute paths** start from the *root* of the tree that we showed. On OS X or Windows that means the path will start with `/` or `C:\\`. We just string together the folder names with the path separator to get to our current path.\n",
    "\n",
    "**Note: I have this written for OS X, if you are using Windows change the `/` to `\\`\n",
    "\n",
    "We don't always have to use the root though, the `~` symbol stands for our user directory and we can start paths from there.\n",
    "\n",
    "In order to change working folder we use the command `cd`"
   ]
  },
  {
   "cell_type": "code",
   "execution_count": null,
   "metadata": {
    "ExecuteTime": {
     "end_time": "2022-07-06T18:56:28.380474Z",
     "start_time": "2022-07-06T18:56:28.366947Z"
    }
   },
   "outputs": [],
   "source": [
    "cd /Users"
   ]
  },
  {
   "cell_type": "code",
   "execution_count": null,
   "metadata": {
    "ExecuteTime": {
     "end_time": "2022-07-06T18:56:30.989131Z",
     "start_time": "2022-07-06T18:56:30.977556Z"
    }
   },
   "outputs": [],
   "source": [
    "pwd"
   ]
  },
  {
   "cell_type": "code",
   "execution_count": null,
   "metadata": {
    "ExecuteTime": {
     "end_time": "2022-07-06T18:56:39.890705Z",
     "start_time": "2022-07-06T18:56:39.085713Z"
    }
   },
   "outputs": [],
   "source": [
    "ls -lht"
   ]
  },
  {
   "cell_type": "markdown",
   "metadata": {},
   "source": [
    "**Relative paths** start from where you **currently** are.  The symbol for your **current** directory is `.` The symbol for the **parent** directory (the folder above you) is `..`\n",
    "\n",
    "Annoyingly, `...` is not used, so we cannot easily get to the grandparent directory."
   ]
  },
  {
   "cell_type": "code",
   "execution_count": null,
   "metadata": {
    "ExecuteTime": {
     "end_time": "2022-07-06T18:56:50.211969Z",
     "start_time": "2022-07-06T18:56:50.200857Z"
    }
   },
   "outputs": [],
   "source": [
    "cd ./amaral/"
   ]
  },
  {
   "cell_type": "code",
   "execution_count": null,
   "metadata": {
    "ExecuteTime": {
     "end_time": "2022-07-06T18:57:03.079127Z",
     "start_time": "2022-07-06T18:57:03.074978Z"
    }
   },
   "outputs": [],
   "source": [
    "pwd"
   ]
  },
  {
   "cell_type": "code",
   "execution_count": null,
   "metadata": {
    "ExecuteTime": {
     "end_time": "2022-07-06T18:57:08.715576Z",
     "start_time": "2022-07-06T18:57:07.916790Z"
    }
   },
   "outputs": [],
   "source": [
    "ls -lht"
   ]
  },
  {
   "cell_type": "markdown",
   "metadata": {},
   "source": [
    "Let's get back to where we started"
   ]
  },
  {
   "cell_type": "code",
   "execution_count": null,
   "metadata": {
    "ExecuteTime": {
     "end_time": "2022-07-06T18:57:16.661367Z",
     "start_time": "2022-07-06T18:57:16.647089Z"
    }
   },
   "outputs": [],
   "source": [
    "cd /Users/amaral/Desktop/Dropbox/Code_Development/COURSES/ChemEng_312/Notebooks_Coding"
   ]
  },
  {
   "cell_type": "code",
   "execution_count": null,
   "metadata": {
    "ExecuteTime": {
     "end_time": "2022-07-06T18:57:19.501779Z",
     "start_time": "2022-07-06T18:57:19.486096Z"
    }
   },
   "outputs": [],
   "source": [
    "pwd"
   ]
  },
  {
   "cell_type": "code",
   "execution_count": null,
   "metadata": {
    "ExecuteTime": {
     "end_time": "2022-07-06T18:57:32.642956Z",
     "start_time": "2022-07-06T18:57:31.860143Z"
    }
   },
   "outputs": [],
   "source": [
    "ls -lht .."
   ]
  },
  {
   "cell_type": "code",
   "execution_count": null,
   "metadata": {
    "ExecuteTime": {
     "end_time": "2022-07-06T18:58:24.420615Z",
     "start_time": "2022-07-06T18:58:23.655727Z"
    }
   },
   "outputs": [],
   "source": [
    "# This does not work with the fish shell\n",
    "\n",
    "!ls ../Data/*.cs[a-z]"
   ]
  },
  {
   "cell_type": "code",
   "execution_count": null,
   "metadata": {
    "ExecuteTime": {
     "end_time": "2022-07-06T18:58:06.326145Z",
     "start_time": "2022-07-06T18:58:05.536669Z"
    }
   },
   "outputs": [],
   "source": [
    "ls ../Data/*.csv"
   ]
  },
  {
   "cell_type": "markdown",
   "metadata": {},
   "source": [
    "# Packages for changing path, listing folder contents and so on\n"
   ]
  },
  {
   "cell_type": "markdown",
   "metadata": {},
   "source": [
    "## `pathlib.Path` -- Constructing OS independent path strings\n",
    "\n",
    "For details on this library read the [package documentation](https://docs.python.org/3/library/pathlib.html).\n",
    "\n",
    "For why `pathlib ` is great, read [this](https://treyhunner.com/2018/12/why-you-should-be-using-pathlib/)."
   ]
  },
  {
   "cell_type": "code",
   "execution_count": null,
   "metadata": {
    "ExecuteTime": {
     "end_time": "2022-07-06T18:58:39.542494Z",
     "start_time": "2022-07-06T18:58:39.526948Z"
    }
   },
   "outputs": [],
   "source": [
    "from pathlib import Path\n",
    "\n",
    "dir(Path)"
   ]
  },
  {
   "cell_type": "code",
   "execution_count": null,
   "metadata": {
    "ExecuteTime": {
     "end_time": "2022-07-06T18:59:46.142671Z",
     "start_time": "2022-07-06T18:59:46.132389Z"
    },
    "scrolled": true
   },
   "outputs": [],
   "source": [
    "help( Path.cwd )"
   ]
  },
  {
   "cell_type": "code",
   "execution_count": null,
   "metadata": {
    "ExecuteTime": {
     "end_time": "2022-07-06T18:59:32.685246Z",
     "start_time": "2022-07-06T18:59:32.677403Z"
    }
   },
   "outputs": [],
   "source": [
    "help( Path.glob )"
   ]
  },
  {
   "cell_type": "markdown",
   "metadata": {},
   "source": [
    "### `glob` - Unix-style pathname pattern expansion\n",
    "\n",
    "For details on this library read the [package documentation](https://docs.python.org/3/library/glob.html).\n"
   ]
  },
  {
   "cell_type": "code",
   "execution_count": null,
   "metadata": {
    "ExecuteTime": {
     "end_time": "2022-07-06T19:00:11.211627Z",
     "start_time": "2022-07-06T19:00:11.199319Z"
    }
   },
   "outputs": [],
   "source": [
    "current_folder = Path.cwd()\n",
    "print(current_folder)\n",
    "print()\n",
    "\n",
    "print( current_folder.glob('*5*') )\n",
    "print()\n",
    "\n",
    "for file in current_folder.glob('*5*'):\n",
    "    print(file)"
   ]
  },
  {
   "cell_type": "code",
   "execution_count": null,
   "metadata": {
    "ExecuteTime": {
     "end_time": "2022-07-06T19:00:45.476457Z",
     "start_time": "2022-07-06T19:00:44.700927Z"
    }
   },
   "outputs": [],
   "source": [
    "ls -lht "
   ]
  },
  {
   "cell_type": "code",
   "execution_count": null,
   "metadata": {
    "ExecuteTime": {
     "end_time": "2022-07-06T19:00:52.656178Z",
     "start_time": "2022-07-06T19:00:52.644729Z"
    },
    "scrolled": true
   },
   "outputs": [],
   "source": [
    "parent_folder = current_folder.parent\n",
    "print(parent_folder)\n",
    "print()\n",
    "\n",
    "\n",
    "grandparent_folder = parent_folder.parent\n",
    "print(grandparent_folder)\n",
    "print()"
   ]
  },
  {
   "cell_type": "markdown",
   "metadata": {},
   "source": [
    "The cool thing about `pathlib` is that it enables you to build paths simply by adding folder and file names in the correct sequence."
   ]
  },
  {
   "cell_type": "code",
   "execution_count": null,
   "metadata": {
    "ExecuteTime": {
     "end_time": "2022-07-06T19:01:09.049270Z",
     "start_time": "2022-07-06T19:01:09.037104Z"
    }
   },
   "outputs": [],
   "source": [
    "data_folder = parent_folder / 'Data'\n",
    "print(data_folder)\n",
    "print()\n",
    "\n",
    "for file in data_folder.glob('*'):\n",
    "    print(file)"
   ]
  },
  {
   "cell_type": "markdown",
   "metadata": {},
   "source": [
    "This package also allows you access to glob in an easy manner:  `.rglob` goes recursively, whereas `.glob` does not."
   ]
  },
  {
   "cell_type": "code",
   "execution_count": null,
   "metadata": {
    "ExecuteTime": {
     "end_time": "2022-07-06T19:01:31.121762Z",
     "start_time": "2022-07-06T19:01:31.032556Z"
    }
   },
   "outputs": [],
   "source": [
    "for file in data_folder.rglob('*'):\n",
    "    print(file)"
   ]
  },
  {
   "cell_type": "markdown",
   "metadata": {},
   "source": [
    ".\n",
    "\n",
    "\n",
    "\n",
    "`Path` enables us to get the parts of a path."
   ]
  },
  {
   "cell_type": "code",
   "execution_count": null,
   "metadata": {
    "ExecuteTime": {
     "end_time": "2022-07-06T19:01:44.534087Z",
     "start_time": "2022-07-06T19:01:44.514453Z"
    }
   },
   "outputs": [],
   "source": [
    "current_folder.parts"
   ]
  },
  {
   "cell_type": "markdown",
   "metadata": {},
   "source": [
    "\n",
    "    "
   ]
  },
  {
   "cell_type": "markdown",
   "metadata": {},
   "source": [
    "## `os` -- a library for interacting with the filesystem"
   ]
  },
  {
   "cell_type": "code",
   "execution_count": null,
   "metadata": {
    "ExecuteTime": {
     "end_time": "2022-07-06T19:02:18.100191Z",
     "start_time": "2022-07-06T19:02:18.028722Z"
    }
   },
   "outputs": [],
   "source": [
    "import os\n",
    "\n",
    "help(os)"
   ]
  },
  {
   "cell_type": "code",
   "execution_count": null,
   "metadata": {
    "ExecuteTime": {
     "end_time": "2022-07-06T19:02:24.847560Z",
     "start_time": "2022-07-06T19:02:24.834003Z"
    }
   },
   "outputs": [],
   "source": [
    "# Change permissions of files\n",
    "\n",
    "help(os.chmod)"
   ]
  },
  {
   "cell_type": "code",
   "execution_count": null,
   "metadata": {
    "ExecuteTime": {
     "end_time": "2022-07-06T19:03:56.059095Z",
     "start_time": "2022-07-06T19:03:56.051862Z"
    }
   },
   "outputs": [],
   "source": [
    "# pathlib.Path operates on Posix Paths\n",
    "#\n",
    "print(type(parent_folder))\n",
    "print()\n",
    "\n",
    "\n",
    "# os paths are just strings\n",
    "#\n",
    "current_folder = os.getcwd()\n",
    "print(current_folder)\n",
    "\n",
    "print()\n",
    "print(type(current_folder))\n"
   ]
  },
  {
   "cell_type": "markdown",
   "metadata": {},
   "source": [
    "We can enter both path strings and Posix Path objects to `os` modules"
   ]
  },
  {
   "cell_type": "code",
   "execution_count": null,
   "metadata": {
    "ExecuteTime": {
     "end_time": "2022-07-06T19:04:03.710341Z",
     "start_time": "2022-07-06T19:04:03.699310Z"
    }
   },
   "outputs": [],
   "source": [
    "# Folder contents\n",
    "\n",
    "print( os.listdir(parent_folder) )\n",
    "print()\n",
    "print( os.listdir(current_folder) )"
   ]
  },
  {
   "cell_type": "markdown",
   "metadata": {},
   "source": [
    "# Reading files\n",
    "\n",
    "Inside the `../Data/` folder we have another folder labelled `Roster/`. \n",
    "\n",
    "The `Roster` file is full of lots of small `.txt` files (just raw ASCII text). Each file looks something like this:\n",
    "\n",
    "---\n",
    "```\n",
    "#This is a file that holds important personal information that should not be shared. You are being watched.\n",
    "\n",
    "\n",
    "\n",
    "\n",
    "Name:\tAgatha A. Bailey\n",
    "Date of Birth:\t1/10/75\n",
    "Email Address:\tagatha.bailey@northwestern.edu\n",
    "Department:\tEngineering\n",
    "Height:\t6ft,0in\n",
    "Weight:\t220lbs\n",
    "Favorite Color:\tLime\n",
    "Favorite Animal:\tTurtle\n",
    "Zodiac Sign:\tJanuary\n",
    "```   \n",
    "---"
   ]
  },
  {
   "cell_type": "markdown",
   "metadata": {},
   "source": [
    "You just got hired as IT specialist at Northwestern University. Congratulations!\n",
    "\n",
    "It is now your responsibility to deal with the security of all these files containing private individual information (PII).\n",
    "\n",
    "Your boss asked you to do an analysis of the demographics of the university staff.  You know, age, gender, favorite color.\n"
   ]
  },
  {
   "cell_type": "markdown",
   "metadata": {},
   "source": [
    ".\n",
    "\n",
    "\n",
    ".\n",
    "\n",
    "\n",
    ".\n",
    "\n",
    "\n",
    "When we work with **any** new data the first step is to **look** at it. Print parts of it. Make sure that you're familiar with all the data types before thinking about doing any real calculations with it.\n",
    "\n",
    "So, let's start with an example file."
   ]
  },
  {
   "cell_type": "code",
   "execution_count": null,
   "metadata": {
    "ExecuteTime": {
     "end_time": "2022-07-06T19:14:59.890658Z",
     "start_time": "2022-07-06T19:14:59.880611Z"
    }
   },
   "outputs": [],
   "source": [
    "# Where our data sits\n",
    "roster_path = Path.cwd().parent / 'Data' / 'Roster'\n",
    "print(roster_path)\n",
    "print()\n",
    "\n",
    "# Pick one file\n",
    "agatha_path = roster_path / 'Agatha_Bailey_798.txt'\n",
    "print(agatha_path)\n",
    "print()\n"
   ]
  },
  {
   "cell_type": "code",
   "execution_count": null,
   "metadata": {
    "ExecuteTime": {
     "end_time": "2022-07-06T19:16:04.736589Z",
     "start_time": "2022-07-06T19:16:04.728448Z"
    }
   },
   "outputs": [],
   "source": [
    "# Read the file \n",
    "with open(agatha_path, 'r') as my_file:\n",
    "    print(my_file)\n",
    "    print()"
   ]
  },
  {
   "cell_type": "code",
   "execution_count": null,
   "metadata": {
    "ExecuteTime": {
     "end_time": "2022-07-06T19:16:29.545655Z",
     "start_time": "2022-07-06T19:16:29.537462Z"
    }
   },
   "outputs": [],
   "source": [
    "# Read the file and and print its content\n",
    "with open(agatha_path, 'r') as my_file:\n",
    "    agatha_data = my_file.read()\n",
    "\n",
    "\n",
    "print(type(agatha_data))\n",
    "print('------')\n",
    "print(agatha_data)\n",
    "print('------')"
   ]
  },
  {
   "cell_type": "code",
   "execution_count": null,
   "metadata": {
    "ExecuteTime": {
     "end_time": "2022-07-06T19:17:29.682900Z",
     "start_time": "2022-07-06T19:17:29.672135Z"
    }
   },
   "outputs": [],
   "source": [
    "# Read file inot a list of strings, one for each line\n",
    "with open(agatha_path, 'r') as my_file:\n",
    "    agatha_data = my_file.readlines()\n",
    "    \n",
    "print(type(agatha_data))\n",
    "print('------')\n",
    "print(len(agatha_data))\n",
    "print('------')\n",
    "print(agatha_data)\n",
    "print('------')"
   ]
  },
  {
   "cell_type": "code",
   "execution_count": null,
   "metadata": {
    "ExecuteTime": {
     "end_time": "2022-07-06T19:17:41.209460Z",
     "start_time": "2022-07-06T19:17:41.199560Z"
    }
   },
   "outputs": [],
   "source": [
    "for i, line in enumerate(agatha_data):\n",
    "    print(f\"{i:2} >>{line}<<\")"
   ]
  },
  {
   "cell_type": "code",
   "execution_count": null,
   "metadata": {
    "ExecuteTime": {
     "end_time": "2022-07-06T19:18:38.029313Z",
     "start_time": "2022-07-06T19:18:38.021059Z"
    }
   },
   "outputs": [],
   "source": [
    "print( type(agatha_data) )  \n",
    "print()\n",
    "print( len(agatha_data) )\n",
    "print()\n",
    "print( type(agatha_data[0]) )\n",
    "print()\n",
    "print( len(agatha_data[0]) )\n",
    "print()\n",
    "print( agatha_data[0] )"
   ]
  },
  {
   "cell_type": "markdown",
   "metadata": {},
   "source": [
    "## Reading many many files\n",
    "\n",
    "The power of computer is that, unlike humans, they can easily 'read' vast numbers of files.  How do we intruct the computer to do it, though?\n",
    "\n",
    "That is where the package `glob` comes in!"
   ]
  },
  {
   "cell_type": "code",
   "execution_count": null,
   "metadata": {
    "ExecuteTime": {
     "end_time": "2022-07-06T19:19:18.739362Z",
     "start_time": "2022-07-06T19:19:18.721684Z"
    }
   },
   "outputs": [],
   "source": [
    "my_files = roster_path.glob('*.txt')\n",
    "roster_files = list( my_files )\n",
    "\n",
    "print(f\"my_files is a {type(my_files)}\")\n",
    "print()\n",
    "print(f\"roster_files is a {type(roster_files)}\")\n",
    "print('------')\n",
    "print(f\"There are {len(roster_files)} roster_files\")\n",
    "print('------')\n",
    "print(roster_files[:5])\n",
    "\n"
   ]
  },
  {
   "cell_type": "markdown",
   "metadata": {},
   "source": [
    "# Writing files\n",
    "\n",
    "If you perform some calculation, there are a number of reasons why you should store these values somewhere. \n",
    "\n",
    "There are three primary ways to store data: raw text, comma separated values (`csv`), and `json`.\n",
    "\n",
    "## The dumb way\n",
    "\n",
    "You can simple dump your data as string into a file, just as if you were printing to the screen.\n",
    "\n",
    "**But you should not do this.**\n",
    "\n",
    "**Why would you force yourself to redo all that processing of files that contain unstructured text?** \n",
    "\n",
    "## The OK way\n",
    "\n",
    "You can save your data as a table as if it was a spreadsheet.  This format is called `CSV` (comma separated values) and you can store data that has a list of lists structure.  \n",
    "\n",
    "This is a bit better than unstructured text.  **If you use `pandas` you can even recover the information concerning data types.**\n",
    "\n",
    "## A better way\n",
    "\n",
    "You should save your data using the [`JSON` format](http://json.org/). With `JSON`, we can store Python lists and dictionaries using structured text files.\n",
    "\n",
    "When we read/write files it goes instantly from the raw text to a python data object.\n",
    "\n",
    "Next, we will use `JSON` to store and retrieve structured data.\n",
    "\n",
    "First, we have to import the package."
   ]
  },
  {
   "cell_type": "code",
   "execution_count": null,
   "metadata": {
    "ExecuteTime": {
     "end_time": "2022-07-06T19:21:34.442997Z",
     "start_time": "2022-07-06T19:21:34.434202Z"
    }
   },
   "outputs": [],
   "source": [
    "import json"
   ]
  },
  {
   "cell_type": "code",
   "execution_count": null,
   "metadata": {
    "ExecuteTime": {
     "end_time": "2020-12-15T23:44:40.622179Z",
     "start_time": "2020-12-15T23:44:40.607362Z"
    }
   },
   "outputs": [],
   "source": [
    "# Use the items in roster_files to create a list of \n",
    "# tuples with First and Last Names of everyone.\n",
    "\n",
    "roster_names = []\n",
    "for filename in roster_files[:10]:  # to start limit the number of files you load\n",
    "    # Your code here\n",
    "\n",
    "print(roster_names)"
   ]
  },
  {
   "cell_type": "code",
   "execution_count": null,
   "metadata": {
    "ExecuteTime": {
     "end_time": "2022-04-05T17:12:59.586926Z",
     "start_time": "2022-04-05T17:12:59.493600Z"
    }
   },
   "outputs": [],
   "source": [
    "roster_file = cwdir / 'roster_names.json'\n",
    "print(roster_file)\n",
    "\n",
    "with open(roster_file, 'w') as json_file:\n",
    "    json.dump(roster_names, json_file)\n",
    "\n"
   ]
  },
  {
   "cell_type": "code",
   "execution_count": null,
   "metadata": {
    "ExecuteTime": {
     "end_time": "2020-12-15T23:48:26.224051Z",
     "start_time": "2020-12-15T23:48:25.501530Z"
    }
   },
   "outputs": [],
   "source": [
    "ls ./*.json"
   ]
  },
  {
   "cell_type": "code",
   "execution_count": null,
   "metadata": {
    "ExecuteTime": {
     "end_time": "2020-12-15T23:48:32.896881Z",
     "start_time": "2020-12-15T23:48:32.891762Z"
    }
   },
   "outputs": [],
   "source": [
    "more roster_names.json"
   ]
  },
  {
   "cell_type": "markdown",
   "metadata": {},
   "source": [
    "You can now load the data from the `json` file..."
   ]
  },
  {
   "cell_type": "code",
   "execution_count": null,
   "metadata": {
    "ExecuteTime": {
     "end_time": "2020-12-15T23:49:26.121250Z",
     "start_time": "2020-12-15T23:49:26.113537Z"
    }
   },
   "outputs": [],
   "source": [
    "with open(cwdir / 'roster_names.json', 'r') as json_file:\n",
    "    loaded_names = json.load(json_file)\n",
    "\n",
    "print(loaded_names)"
   ]
  },
  {
   "cell_type": "code",
   "execution_count": null,
   "metadata": {},
   "outputs": [],
   "source": []
  }
 ],
 "metadata": {
  "anaconda-cloud": {},
  "kernelspec": {
   "display_name": "base",
   "language": "python",
   "name": "base"
  },
  "language_info": {
   "codemirror_mode": {
    "name": "ipython",
    "version": 3
   },
   "file_extension": ".py",
   "mimetype": "text/x-python",
   "name": "python",
   "nbconvert_exporter": "python",
   "pygments_lexer": "ipython3",
   "version": "3.9.12"
  },
  "latex_envs": {
   "LaTeX_envs_menu_present": true,
   "autoclose": false,
   "autocomplete": true,
   "bibliofile": "biblio.bib",
   "cite_by": "apalike",
   "current_citInitial": 1,
   "eqLabelWithNumbers": true,
   "eqNumInitial": 1,
   "hotkeys": {
    "equation": "Ctrl-E",
    "itemize": "Ctrl-I"
   },
   "labels_anchors": false,
   "latex_user_defs": false,
   "report_style_numbering": false,
   "user_envs_cfg": false
  },
  "toc": {
   "base_numbering": 1,
   "nav_menu": {},
   "number_sections": true,
   "sideBar": true,
   "skip_h1_title": false,
   "title_cell": "Table of Contents",
   "title_sidebar": "Contents",
   "toc_cell": false,
   "toc_position": {
    "height": "calc(100% - 180px)",
    "left": "10px",
    "top": "150px",
    "width": "165px"
   },
   "toc_section_display": true,
   "toc_window_display": true
  },
  "varInspector": {
   "cols": {
    "lenName": 16,
    "lenType": 16,
    "lenVar": 40
   },
   "kernels_config": {
    "python": {
     "delete_cmd_postfix": "",
     "delete_cmd_prefix": "del ",
     "library": "var_list.py",
     "varRefreshCmd": "print(var_dic_list())"
    },
    "r": {
     "delete_cmd_postfix": ") ",
     "delete_cmd_prefix": "rm(",
     "library": "var_list.r",
     "varRefreshCmd": "cat(var_dic_list()) "
    }
   },
   "types_to_exclude": [
    "module",
    "function",
    "builtin_function_or_method",
    "instance",
    "_Feature"
   ],
   "window_display": false
  }
 },
 "nbformat": 4,
 "nbformat_minor": 1
}
