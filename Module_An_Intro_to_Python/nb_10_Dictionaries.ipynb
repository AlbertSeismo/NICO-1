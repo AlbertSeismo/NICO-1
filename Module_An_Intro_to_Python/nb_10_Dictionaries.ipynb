{
 "cells": [
  {
   "cell_type": "markdown",
   "metadata": {},
   "source": [
    "# Synopsis\n",
    "\n",
    "In this unit we will learn that:\n",
    "\n",
    "1. **Dictionaries** are **mutable unordered** collections whose elements are accessed using **keys**.\n",
    "\n",
    "    1. Dictionaries are created using the `{}` syntax.\n",
    "    \n",
    "    2. Dictionaries are composed of `key, value` pairs.\n",
    "\n",
    "    3. Each `key, value` pair is called an *item*.\n",
    "    \n",
    "    4. `Items` can be added to a dictionary using the built-in method `update()`.\n",
    "    \n",
    "    5. `Items` can be changed using instanciation.\n",
    "    \n",
    "    6. `Items` can be removed usind the functions `del` and the method `pop()`.\n",
    "    \n",
    "2. Dictionaries allow nesting with all data types.\n",
    "\n",
    "3. We can access all `items`, `keys`, and `values` in a dictionary."
   ]
  },
  {
   "cell_type": "markdown",
   "metadata": {},
   "source": [
    "# Read libraries and functions"
   ]
  },
  {
   "cell_type": "code",
   "execution_count": null,
   "metadata": {
    "ExecuteTime": {
     "end_time": "2022-07-06T20:16:45.756704Z",
     "start_time": "2022-07-06T20:16:44.112636Z"
    }
   },
   "outputs": [],
   "source": [
    "from IPython.core.display import HTML\n",
    "from IPython.lib.display import YouTubeVideo\n",
    "from pathlib import Path\n",
    "\n",
    "import datetime\n",
    "import sys\n"
   ]
  },
  {
   "cell_type": "markdown",
   "metadata": {
    "collapsed": true
   },
   "source": [
    "# Videos"
   ]
  },
  {
   "cell_type": "code",
   "execution_count": null,
   "metadata": {
    "ExecuteTime": {
     "end_time": "2022-07-06T20:17:28.051320Z",
     "start_time": "2022-07-06T20:17:27.966319Z"
    }
   },
   "outputs": [],
   "source": [
    "vid = YouTubeVideo('XCcpzWs-CI4', width = 600)\n",
    "display(vid)"
   ]
  },
  {
   "cell_type": "markdown",
   "metadata": {
    "collapsed": true
   },
   "source": [
    "# Dictionaries\n",
    "\n",
    "A `Python` dictionary is an extraordinarily useful data type that expands on the possibilities offered by lists.  In a list one keeps track of the elements by an index that must be an integer.  **Dictionaries keep track of elements by `key`!**\n",
    "\n",
    "Each **item** in a dictionary has both a **key** and a **value**. You use the `key` to \"look up\" the `value`. \n",
    "\n",
    "This approach is just like if we wanted to look up the meaning of a word in a real dictionary. Also, just like in a real dictionary, it means that all of the `keys` **must** be unique. If we had a `key` multiple times, then we wouldn't know where to go look up its `value`. \n",
    "\n",
    "Do you remember `sets`?  **The `keys` in a dictionary form a set!**\n",
    "\n",
    "The syntax to create a dictionary also uses the syntax`{}`. If we are initializing a dictionary, we enter `key-value` pairs separated by commas.  Each `item` has the `key` separated from the `value` by a colon `:`:\n",
    "\n",
    "> `a_dict = {key : value, another_key : another_value}`\n"
   ]
  },
  {
   "cell_type": "markdown",
   "metadata": {},
   "source": [
    "## What are dictionaries good for?\n",
    "\n",
    "Great that you would ask! Recall the project involving all the personnel records?  Dictionaries are **the** data type to deal with records.  What are `Date of Birth` and `Age` if not keys? \n",
    "\n",
    "Let's retrieve our code so that we can start seeing how great dictionaries are."
   ]
  },
  {
   "cell_type": "code",
   "execution_count": null,
   "metadata": {
    "ExecuteTime": {
     "end_time": "2022-02-09T21:05:09.426734Z",
     "start_time": "2022-02-09T21:05:09.411894Z"
    }
   },
   "outputs": [],
   "source": [
    "def parse_record( filename ):\n",
    "    \"\"\"\n",
    "    \n",
    "    \"\"\"\n",
    "    record = []\n",
    "    \n",
    "    # Statements here!\n",
    "    \n",
    "    return record"
   ]
  },
  {
   "cell_type": "code",
   "execution_count": null,
   "metadata": {
    "ExecuteTime": {
     "end_time": "2022-07-06T20:25:35.659928Z",
     "start_time": "2022-07-06T20:25:35.647194Z"
    }
   },
   "outputs": [],
   "source": [
    "filename = Path.cwd().parent / 'Data' / 'Roster' / 'Agatha_Young_172.txt'\n",
    "\n",
    "# open file for reading and read the file contents into a list of strings\n",
    "#\n"
   ]
  },
  {
   "cell_type": "markdown",
   "metadata": {},
   "source": [
    "Let's clean up the data by getting rid of useless lines and cleaning up extra characters in good lines"
   ]
  },
  {
   "cell_type": "code",
   "execution_count": null,
   "metadata": {
    "ExecuteTime": {
     "end_time": "2022-07-06T20:26:25.313024Z",
     "start_time": "2022-07-06T20:26:25.301159Z"
    }
   },
   "outputs": [],
   "source": []
  },
  {
   "cell_type": "markdown",
   "metadata": {},
   "source": [
    "First 4 lines are useless, so we can ignore them"
   ]
  },
  {
   "cell_type": "code",
   "execution_count": null,
   "metadata": {
    "ExecuteTime": {
     "end_time": "2022-07-06T20:28:05.383967Z",
     "start_time": "2022-07-06T20:28:05.374581Z"
    }
   },
   "outputs": [],
   "source": [
    "# Copy code from previous code cell\n",
    "\n"
   ]
  },
  {
   "cell_type": "markdown",
   "metadata": {},
   "source": [
    "Each line as the structure `field: value`.  We can extract those into, for example, a tuple"
   ]
  },
  {
   "cell_type": "code",
   "execution_count": null,
   "metadata": {
    "ExecuteTime": {
     "end_time": "2022-07-06T20:32:22.923544Z",
     "start_time": "2022-07-06T20:32:22.909444Z"
    }
   },
   "outputs": [],
   "source": [
    "# Copy code from previous code cell\n"
   ]
  },
  {
   "cell_type": "markdown",
   "metadata": {},
   "source": [
    "The list of tuples that we create for each student contains all information we have available. However, it is not particular easy to access any particular field.  \n",
    "\n",
    "Imagine we want to find the *Department* where *Agatha Young* works. We need to find the `index` of the `tuple` for which the first item equals *Department* and then print the second item of that `tuple`."
   ]
  },
  {
   "cell_type": "code",
   "execution_count": null,
   "metadata": {
    "ExecuteTime": {
     "end_time": "2022-07-06T20:33:01.446548Z",
     "start_time": "2022-07-06T20:33:01.432790Z"
    }
   },
   "outputs": [],
   "source": [
    "cleaned_lines"
   ]
  },
  {
   "cell_type": "code",
   "execution_count": null,
   "metadata": {
    "ExecuteTime": {
     "end_time": "2022-07-06T20:33:34.891370Z",
     "start_time": "2022-07-06T20:33:34.879354Z"
    }
   },
   "outputs": [],
   "source": [
    "cleaned_lines[3][1]"
   ]
  },
  {
   "cell_type": "markdown",
   "metadata": {},
   "source": [
    "Going from a `list` of `tuples` to a `dictionary` can make all the difference! \n",
    "\n",
    "Let's transform our list of tuple into a dictionary and check how much easier it is to retrieve the same information."
   ]
  },
  {
   "cell_type": "code",
   "execution_count": null,
   "metadata": {
    "ExecuteTime": {
     "end_time": "2022-07-06T20:38:51.107197Z",
     "start_time": "2022-07-06T20:38:51.097118Z"
    }
   },
   "outputs": [],
   "source": [
    "# Copy code from previous code cell\n",
    "\n"
   ]
  },
  {
   "cell_type": "code",
   "execution_count": null,
   "metadata": {
    "ExecuteTime": {
     "end_time": "2022-07-06T20:38:58.965000Z",
     "start_time": "2022-07-06T20:38:58.956271Z"
    }
   },
   "outputs": [],
   "source": [
    "record['Department']"
   ]
  },
  {
   "cell_type": "code",
   "execution_count": null,
   "metadata": {
    "ExecuteTime": {
     "end_time": "2022-07-06T20:39:14.211341Z",
     "start_time": "2022-07-06T20:39:14.203878Z"
    }
   },
   "outputs": [],
   "source": [
    "record['Favorite Color']"
   ]
  },
  {
   "cell_type": "code",
   "execution_count": null,
   "metadata": {
    "ExecuteTime": {
     "end_time": "2022-07-06T20:39:14.632886Z",
     "start_time": "2022-07-06T20:39:14.624190Z"
    }
   },
   "outputs": [],
   "source": [
    "record['Email Address']"
   ]
  },
  {
   "cell_type": "markdown",
   "metadata": {},
   "source": [
    "Let's look into the properties of dictionaries.  Dictionaries are **mutable**. You can change the `value` of an `item` by assigning something to the corresponding `key`.\n",
    "\n",
    "Dictionaries are **unordered**. If you print the same dictionary twice, the order in which `items` will be printed does not need to remain the same. \n",
    "\n",
    "If you ask for a `key` that does not exist, then you will get an error.  Guess what type of error...\n",
    "\n",
    "To avoid crashing your code, `Python` dictionaries provide a method `.get()` that provides a fail-safe to missing `keys`."
   ]
  },
  {
   "cell_type": "code",
   "execution_count": null,
   "metadata": {
    "ExecuteTime": {
     "end_time": "2022-08-10T18:39:00.570755Z",
     "start_time": "2022-08-10T18:39:00.539486Z"
    }
   },
   "outputs": [],
   "source": [
    "record['Favorite Sport']"
   ]
  },
  {
   "cell_type": "code",
   "execution_count": null,
   "metadata": {
    "ExecuteTime": {
     "end_time": "2022-08-10T18:39:22.730451Z",
     "start_time": "2022-08-10T18:39:22.720686Z"
    }
   },
   "outputs": [],
   "source": [
    "print( record.get('Department') )\n",
    "print( record.get('Favorite Sport') )"
   ]
  },
  {
   "cell_type": "code",
   "execution_count": null,
   "metadata": {
    "ExecuteTime": {
     "end_time": "2022-08-10T18:40:02.707286Z",
     "start_time": "2022-08-10T18:40:02.696866Z"
    }
   },
   "outputs": [],
   "source": [
    "print( record.get('Department', 'Unknown' ) )\n",
    "print( record.get('Favorite Sport', 'Unknown') )"
   ]
  },
  {
   "cell_type": "markdown",
   "metadata": {},
   "source": [
    "If you want to add a new `key-value` pair to the dictionary, you access a new `key` and assign it a `value`. \n",
    "\n",
    "If you want to add multiple `items` to a dictionary, you can put them into a dictionary and the use the built-in method `update()`."
   ]
  },
  {
   "cell_type": "code",
   "execution_count": null,
   "metadata": {
    "ExecuteTime": {
     "end_time": "2022-07-06T20:43:47.889051Z",
     "start_time": "2022-07-06T20:43:47.876019Z"
    }
   },
   "outputs": [],
   "source": [
    "record['Favorite Sport'] = 'Soccer'\n",
    "print(record)\n",
    "\n",
    "\n",
    "record.update( {'Favorite Sports Team': 'S. L. Benfica', \n",
    "                'Favorite Sports Team Mascot': 'Eagle'} )\n",
    "print()\n",
    "print(record)"
   ]
  },
  {
   "cell_type": "markdown",
   "metadata": {},
   "source": [
    "To remove a `key-value` pair from a `dict` variable, we can use `del` and provide the `key`. Guess what happens if you provide a `key` that does not exist? \n",
    "\n",
    "**Notice that if you fail to provide a `key`, `del` will delete the entire dictionary**. You are unlikely to truly want to do that. \n",
    "\n",
    "Alternatively, you can use the built-in method `pop()` and provide a `key`. This method deletes the `item` with `key` and returns the `value`.\n"
   ]
  },
  {
   "cell_type": "code",
   "execution_count": null,
   "metadata": {
    "ExecuteTime": {
     "end_time": "2022-07-06T20:43:51.306355Z",
     "start_time": "2022-07-06T20:43:51.280329Z"
    }
   },
   "outputs": [],
   "source": [
    "del record['Favorite Sports Team Mascot']\n",
    "print('--')\n",
    "print( record.pop('Favorite Sports Team') )\n",
    "print('--')\n",
    "print( record.pop('Favorite Sport') )\n",
    "print('--')\n",
    "del record['Favorite Sports Team Mascot']"
   ]
  },
  {
   "cell_type": "code",
   "execution_count": null,
   "metadata": {
    "ExecuteTime": {
     "end_time": "2022-07-06T20:43:58.228528Z",
     "start_time": "2022-07-06T20:43:58.220808Z"
    }
   },
   "outputs": [],
   "source": [
    "record"
   ]
  },
  {
   "cell_type": "markdown",
   "metadata": {},
   "source": [
    "`Dictionary` objects encode additional types of information. \n",
    "\n",
    "You can access all `items`, or all `keys`, or all `values`."
   ]
  },
  {
   "cell_type": "code",
   "execution_count": null,
   "metadata": {
    "ExecuteTime": {
     "end_time": "2022-07-06T20:45:34.267655Z",
     "start_time": "2022-07-06T20:45:34.257478Z"
    }
   },
   "outputs": [],
   "source": [
    "print(record.keys())   # It looks like as list of strings\n",
    "print()\n",
    "print(record.items())  # It looks like a list of tuples\n",
    "print()\n",
    "print(record.values()) # It looks like a list"
   ]
  },
  {
   "cell_type": "markdown",
   "metadata": {},
   "source": [
    "Even though all these objects look like lists they are not lists. They are **iterators**.  This means that you can go in order and access each one in turn, but they are not accessible by index."
   ]
  },
  {
   "cell_type": "code",
   "execution_count": null,
   "metadata": {
    "ExecuteTime": {
     "end_time": "2022-07-06T20:47:02.784011Z",
     "start_time": "2022-07-06T20:47:02.757368Z"
    }
   },
   "outputs": [],
   "source": [
    "for value in record.values():\n",
    "    print(value)\n",
    "\n",
    "print('--')\n",
    "print( type( record.values() ) )\n",
    "print('--')\n",
    "print( list(record.values())[1] )\n",
    "print('--')\n",
    "print( record.values()[1] )"
   ]
  },
  {
   "cell_type": "markdown",
   "metadata": {},
   "source": [
    "Working with dictionaries can be challenging when you are starting.  \n",
    "\n",
    "Accessing information by `key` is less natural for some.  Moreover, things can quickly become rather complex when nesting is involved. Keeping track of the elements in a list of dictionaries that contains lists of list is not easy task.  \n",
    "\n",
    "As in many other situations, being organized and working out specific cases with pencil and paper can make all the difference.\n",
    "\n",
    "In order to gain experience with these challenges, let's create a list of dictionaries using the code for processing the roster files. "
   ]
  },
  {
   "cell_type": "code",
   "execution_count": null,
   "metadata": {},
   "outputs": [],
   "source": [
    "def parse_record( filename ):\n",
    "    \"\"\"\n",
    "    Takes a Path object and returns a dictionary with the cleaned\n",
    "    information retrieved from the file read\n",
    "    \n",
    "    inputs:\n",
    "        filename -- Path object\n",
    "        \n",
    "    output:\n",
    "        record -- dict\n",
    "    \"\"\"\n",
    "    record = {}\n",
    "    \n",
    "    # Statements here!\n",
    "    \n",
    "    return record"
   ]
  },
  {
   "cell_type": "code",
   "execution_count": null,
   "metadata": {},
   "outputs": [],
   "source": [
    "roster_path = ''\n",
    "my_paths = get_path_to_records( roster_path )\n",
    "\n",
    "print(my_paths[:4])\n",
    "\n",
    "records = []\n",
    "for filename in my_paths[:4]:\n",
    "    records.append( parse_record(filename) )\n",
    "#     birthday = extract_birthday( record[-1] )\n",
    "#     age = calculate_age(birthday, relevant_date)\n",
    "      \n",
    "print()\n",
    "print(records)"
   ]
  },
  {
   "cell_type": "markdown",
   "metadata": {},
   "source": [
    "`my_paths` is a list and in the `for` loop we will iterate over paths to `filenames`.\n",
    "\n",
    "`records` is a list of dictionaries. Thus, each element in the list is going to be enclosed inside `{}` and separated by commas. Look for `}, {`. Those mark where a dictionary ends and the next begins.\n",
    "\n",
    "Inside each dictionary, we have `key: value` pairs separated by commas. \n",
    "\n",
    "If you can read them, you can write a command that accesses them!"
   ]
  },
  {
   "cell_type": "markdown",
   "metadata": {},
   "source": [
    "# Exercises\n",
    "\n",
    "You can go back to the **[previous notebook](nb_09_Functions_n_Refactoring.ipynb)** or finish those other functions here."
   ]
  },
  {
   "cell_type": "code",
   "execution_count": null,
   "metadata": {},
   "outputs": [],
   "source": [
    "# Print the Department of the 5th student record\n",
    "#\n"
   ]
  },
  {
   "cell_type": "code",
   "execution_count": null,
   "metadata": {},
   "outputs": [],
   "source": [
    "# Print the Height of the 15th student record\n",
    "#\n"
   ]
  },
  {
   "cell_type": "code",
   "execution_count": null,
   "metadata": {},
   "outputs": [],
   "source": [
    "# Print the string \"My name is ______ and I was born in _month___ of ___year.\" \n",
    "# for the 15th student record\n",
    "#\n"
   ]
  },
  {
   "cell_type": "markdown",
   "metadata": {},
   "source": [
    "What if you want to actually print the name of the month instead of a number?..."
   ]
  },
  {
   "cell_type": "code",
   "execution_count": null,
   "metadata": {},
   "outputs": [],
   "source": []
  },
  {
   "cell_type": "code",
   "execution_count": null,
   "metadata": {},
   "outputs": [],
   "source": [
    "# Print the string \"My name is ______ and I was born in _month___ of ___year.\" \n",
    "# for the 15th student record\n"
   ]
  },
  {
   "cell_type": "code",
   "execution_count": null,
   "metadata": {},
   "outputs": [],
   "source": [
    "# Print the string \"My name is ______ and I love _color_.\" \n",
    "# for the 25th student record\n"
   ]
  },
  {
   "cell_type": "code",
   "execution_count": null,
   "metadata": {},
   "outputs": [],
   "source": [
    "# Print the string \"My name is ______ and I love _color_.\" \n",
    "# for the first 10 student records \n"
   ]
  },
  {
   "cell_type": "markdown",
   "metadata": {
    "collapsed": true
   },
   "source": [
    "Find all students that are within 5 years of age of Agatha Young."
   ]
  },
  {
   "cell_type": "code",
   "execution_count": null,
   "metadata": {},
   "outputs": [],
   "source": []
  },
  {
   "cell_type": "markdown",
   "metadata": {},
   "source": [
    "Save all the processed records into a JSON file and check that it is all correct."
   ]
  },
  {
   "cell_type": "code",
   "execution_count": null,
   "metadata": {},
   "outputs": [],
   "source": []
  }
 ],
 "metadata": {
  "anaconda-cloud": {},
  "kernelspec": {
   "display_name": "base",
   "language": "python",
   "name": "base"
  },
  "language_info": {
   "codemirror_mode": {
    "name": "ipython",
    "version": 3
   },
   "file_extension": ".py",
   "mimetype": "text/x-python",
   "name": "python",
   "nbconvert_exporter": "python",
   "pygments_lexer": "ipython3",
   "version": "3.9.12"
  },
  "latex_envs": {
   "LaTeX_envs_menu_present": true,
   "autoclose": false,
   "autocomplete": true,
   "bibliofile": "biblio.bib",
   "cite_by": "apalike",
   "current_citInitial": 1,
   "eqLabelWithNumbers": true,
   "eqNumInitial": 1,
   "hotkeys": {
    "equation": "Ctrl-E",
    "itemize": "Ctrl-I"
   },
   "labels_anchors": false,
   "latex_user_defs": false,
   "report_style_numbering": false,
   "user_envs_cfg": false
  },
  "toc": {
   "base_numbering": 1,
   "nav_menu": {},
   "number_sections": true,
   "sideBar": true,
   "skip_h1_title": false,
   "title_cell": "Table of Contents",
   "title_sidebar": "Contents",
   "toc_cell": false,
   "toc_position": {
    "height": "calc(100% - 180px)",
    "left": "10px",
    "top": "150px",
    "width": "165px"
   },
   "toc_section_display": true,
   "toc_window_display": true
  },
  "varInspector": {
   "cols": {
    "lenName": 16,
    "lenType": 16,
    "lenVar": 40
   },
   "kernels_config": {
    "python": {
     "delete_cmd_postfix": "",
     "delete_cmd_prefix": "del ",
     "library": "var_list.py",
     "varRefreshCmd": "print(var_dic_list())"
    },
    "r": {
     "delete_cmd_postfix": ") ",
     "delete_cmd_prefix": "rm(",
     "library": "var_list.r",
     "varRefreshCmd": "cat(var_dic_list()) "
    }
   },
   "types_to_exclude": [
    "module",
    "function",
    "builtin_function_or_method",
    "instance",
    "_Feature"
   ],
   "window_display": false
  }
 },
 "nbformat": 4,
 "nbformat_minor": 1
}
