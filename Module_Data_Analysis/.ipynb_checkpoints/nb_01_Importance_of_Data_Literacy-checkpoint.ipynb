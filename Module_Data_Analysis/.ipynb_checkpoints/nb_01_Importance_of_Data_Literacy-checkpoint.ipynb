{
 "cells": [
  {
   "cell_type": "markdown",
   "metadata": {},
   "source": [
    "# Synopsis\n",
    "\n",
    "Visualizing your data is key to both understanding its basic properties and effectively communicating its results to an outside audience. In this unit we will learn:\n",
    "\n",
    "    How to import matplotlib\n",
    "    How to make a line plot\n",
    "    How to make histograms\n",
    "    How to make a bar chart\n",
    "    How to make a scatter plot\n",
    "\n",
    "We will also cover some basic principles for creating clean and informative visualizations."
   ]
  },
  {
   "cell_type": "markdown",
   "metadata": {},
   "source": [
    "# Read libraries and functions"
   ]
  },
  {
   "cell_type": "code",
   "execution_count": 3,
   "metadata": {
    "ExecuteTime": {
     "end_time": "2022-08-10T19:21:02.087655Z",
     "start_time": "2022-08-10T19:21:02.050843Z"
    }
   },
   "outputs": [
    {
     "name": "stdout",
     "output_type": "stream",
     "text": [
      "The autoreload extension is already loaded. To reload it, use:\n",
      "  %reload_ext autoreload\n"
     ]
    }
   ],
   "source": [
    "%load_ext autoreload\n",
    "%autoreload 2\n",
    "%matplotlib inline\n",
    "\n",
    "my_fontsize = 15"
   ]
  },
  {
   "cell_type": "code",
   "execution_count": 4,
   "metadata": {
    "ExecuteTime": {
     "end_time": "2022-08-10T19:21:02.898042Z",
     "start_time": "2022-08-10T19:21:02.858663Z"
    }
   },
   "outputs": [],
   "source": [
    "import sys\n",
    "import random\n",
    "\n",
    "import numpy as np\n",
    "import matplotlib.pyplot as plt\n",
    "import matplotlib.cm as cm\n",
    "import scipy.stats as stats\n",
    "\n",
    "from collections import Counter\n",
    "from pathlib import Path\n",
    "\n",
    "from My_libraries.my_stats import half_frame\n"
   ]
  },
  {
   "cell_type": "markdown",
   "metadata": {},
   "source": [
    "# The challenge of uncertainty\n",
    "\n",
    "Economists have, for a long time, studied *homo economicus*. This strange species is omniscient and able easily and quickly to perform any calculation.  Unlike *economicus*, *sapiens* typically has access to incomplete or even erronious information and rather more limited computing abilities.\n",
    "\n",
    "In fact, in more practical situations, we cannot obtain all necessary information to know with certainty what is the current state of the world.  Consider elections.  You can imagine how a candidate would love to have access to daily updates on the number of votes that they and their rivals would receive if the election was to occur on that day. With that information, they would be able to determine whether their electoral strategy was working or not, and test which changes would improve their ability to receive the most votes.\n",
    "\n",
    "Getting such an update would be prohibitively expensive.  Daily contacting and receiving vote intentions from every potential voter in a given area would require huge numbers of people constantly contacting potential votes.  Even for a small state such as New Hampshire, that would mean contacting on the order to 400 thousand individuals daily.  \n",
    "\n",
    "Moreover, even if you could contact all of those people, there was not assurance that they would answer your question or tell you their true voting intentions. \n",
    "\n",
    "That is why no one runs election polls in that manner. Instead polling groups survey much smaller groups rather infrequently.  Consider some poll results for the 2020 Democratic Presidential Primary in New Hampshire.\n",
    "\n",
    "<img src = \"Images/poll_results.png\" width = '600'>\n",
    "\n",
    "Notice that most polls survey about 700 people and that even that small number of people are reached over a period of several days.   Notice also that even though the polls where all taken in the same period, the voting intentions for Sanders varied between 24% and 31% whereas for Buttigieg, they varied between 21% and 25%.\n",
    "\n",
    "Some times, such poll results are presented with even more digits (25.3%) suggesting a degree of certainty that seems unwarranted. Most time, at the end of the press release there is a statement about the results having an uncertainty of $\\pm 3%$.\n",
    "\n",
    "**What does this means?**\n",
    "\n",
    "We will use the computer the simulate the polling process and see whether we can determine where the uncertainty comes from.\n"
   ]
  },
  {
   "cell_type": "code",
   "execution_count": 3,
   "metadata": {
    "ExecuteTime": {
     "end_time": "2022-08-01T21:29:57.947299Z",
     "start_time": "2022-08-01T21:29:57.913702Z"
    }
   },
   "outputs": [],
   "source": [
    "# Define variables\n",
    "\n",
    "n_voters = 400000\n",
    "real_intentions = { 'Sanders': 0.26, 'Buttigieg': 0.24, 'Klobuchar': 0.2,\n",
    "                    'Warren': 0.09, 'Biden': 0.08 }\n",
    "\n",
    "poll_sizes = [500, 500, 700, 1000]\n"
   ]
  },
  {
   "cell_type": "code",
   "execution_count": 24,
   "metadata": {
    "ExecuteTime": {
     "end_time": "2022-08-01T21:47:01.911783Z",
     "start_time": "2022-08-01T21:47:01.883318Z"
    }
   },
   "outputs": [],
   "source": [
    "# Simulate a poll\n",
    "\n",
    "def poll(n_voters, real_intentions, poll_size):\n",
    "    \"\"\"\n",
    "    \n",
    "    inputs:\n",
    "        n_voters -- int\n",
    "        real_intentions -- dict with candidate's name as key and \n",
    "                           probabilty of getting a vote as value\n",
    "        poll_size -- int\n",
    "        \n",
    "    returns:\n",
    "        counter -- collections.Counter object\n",
    "    \"\"\"\n",
    "    candidates = sorted( list(real_intentions.keys()) )\n",
    "    preferences = []\n",
    "    for i in range(poll_size):\n",
    "        x = random.random()\n",
    "        k = -1\n",
    "        p = 0\n",
    "\n",
    "        while x > p:\n",
    "            k += 1\n",
    "            if k == len(candidates) - 1:\n",
    "                preferences.append('Other')\n",
    "                break\n",
    "            p += real_intentions[candidates[k]]\n",
    "        \n",
    "        preferences.append(candidates[k])\n",
    "        \n",
    "    return Counter(preferences)\n",
    "    \n"
   ]
  },
  {
   "cell_type": "code",
   "execution_count": 50,
   "metadata": {
    "ExecuteTime": {
     "end_time": "2022-08-01T22:02:57.821250Z",
     "start_time": "2022-08-01T22:02:57.739334Z"
    }
   },
   "outputs": [
    {
     "data": {
      "text/plain": [
       "DescribeResult(nobs=100, minmax=(20.599999999999998, 32.0), mean=25.941999999999993, variance=3.793369696969696, skewness=0.12227604264781185, kurtosis=0.40395587423974266)"
      ]
     },
     "execution_count": 50,
     "metadata": {},
     "output_type": "execute_result"
    }
   ],
   "source": [
    "# Run many polls\n",
    "#\n",
    "n_polls = 100\n",
    "poll_size = 500\n",
    "sanders_preferences = []\n",
    "for i in range(n_polls):\n",
    "    counter = poll(n_voters, real_intentions, poll_size)\n",
    "    sanders_preferences.append(counter['Sanders'] / poll_size * 100)\n",
    "\n",
    "stats.describe(sanders_preferences)"
   ]
  },
  {
   "cell_type": "code",
   "execution_count": 49,
   "metadata": {
    "ExecuteTime": {
     "end_time": "2022-08-01T22:02:35.041896Z",
     "start_time": "2022-08-01T22:02:34.886659Z"
    }
   },
   "outputs": [
    {
     "data": {
      "image/png": "[encoded data removed]",
      "text/plain": [
       "<Figure size 432x288 with 1 Axes>"
      ]
     },
     "metadata": {
      "needs_background": "light"
     },
     "output_type": "display_data"
    }
   ],
   "source": [
    "fig = plt.figure( figsize = (6, 4) )\n",
    "ax = fig.add_subplot( 111 )\n",
    "half_frame(ax, \"Sanders' poll result\", 'Frequency', font_size = my_fontsize)\n",
    "\n",
    "ax.hist( sanders_preferences, bins = np.arange(0, 40, 1), color = 'gray',\n",
    "         align = 'mid', rwidth = 0.9 )\n",
    "\n",
    "ax.set_ylim(0, 30)\n",
    "ax.set_xlim(15, 35)\n",
    "ax.set_xticks(list(np.arange(15, 35, 5)))\n",
    "\n",
    "ax.vlines(np.mean(sanders_preferences), 0, 30, color = 'k', lw = 2)\n",
    "\n",
    "ax.text(16, 22, (f\"Poll size: {poll_size}\\n\"\n",
    "                 f\"Mean: {np.mean(sanders_preferences):>.1f}\\n\"\n",
    "                 f\"Std. dev.: {np.std(sanders_preferences):>.1f}\"), \n",
    "        fontsize = my_fontsize)\n",
    "\n",
    "plt.tight_layout()"
   ]
  },
  {
   "cell_type": "code",
   "execution_count": 51,
   "metadata": {
    "ExecuteTime": {
     "end_time": "2022-08-01T22:03:03.352336Z",
     "start_time": "2022-08-01T22:03:03.087172Z"
    }
   },
   "outputs": [
    {
     "data": {
      "image/png": "[encoded data removed]",
      "text/plain": [
       "<Figure size 432x288 with 1 Axes>"
      ]
     },
     "metadata": {
      "needs_background": "light"
     },
     "output_type": "display_data"
    }
   ],
   "source": [
    "fig = plt.figure( figsize = (6, 4) )\n",
    "ax = fig.add_subplot( 111 )\n",
    "half_frame(ax, \"Sanders' poll result\", 'Frequency', font_size = my_fontsize)\n",
    "\n",
    "ax.hist( sanders_preferences, bins = np.arange(0, 40, 1), color = 'gray',\n",
    "         align = 'mid', rwidth = 0.9 )\n",
    "\n",
    "ax.set_ylim(0, 30)\n",
    "ax.set_xlim(15, 35)\n",
    "ax.set_xticks(list(np.arange(15, 35, 5)))\n",
    "\n",
    "ax.vlines(np.mean(sanders_preferences), 0, 30, color = 'k', lw = 2)\n",
    "\n",
    "ax.text(16, 22, (f\"Poll size: {poll_size}\\n\"\n",
    "                 f\"Mean: {np.mean(sanders_preferences):>.1f}\\n\"\n",
    "                 f\"Std. dev.: {np.std(sanders_preferences):>.1f}\"), \n",
    "        fontsize = my_fontsize)\n",
    "\n",
    "plt.tight_layout()"
   ]
  },
  {
   "cell_type": "markdown",
   "metadata": {},
   "source": [
    "The numbers I used for the voting intentions are pretty much the results from the actuall election\n",
    "\n",
    "<img src = \"Images/election_results.png\" width = '500'>\n"
   ]
  },
  {
   "cell_type": "markdown",
   "metadata": {},
   "source": [
    "# Playing games of chance\n",
    "\n",
    "I am inviting you to a game of dice. And just to make it interesting, we will put a little money behind it. Every time I get at least a `1` when I roll two dice, you pay me triple my bet. If I roll no `1`s I loose my bet.\n",
    "\n",
    "Wanna play?\n",
    "\n",
    "\n",
    "\n",
    ".\n",
    "\n",
    "\n",
    "\n",
    ".\n",
    "\n",
    "\n",
    "\n",
    "Let's set our game up:"
   ]
  },
  {
   "cell_type": "code",
   "execution_count": 51,
   "metadata": {
    "ExecuteTime": {
     "end_time": "2022-08-10T19:52:25.689257Z",
     "start_time": "2022-08-10T19:52:25.648426Z"
    }
   },
   "outputs": [],
   "source": [
    "def roll_die():\n",
    "    return random.randint(1, 6)\n",
    "\n",
    "def play_one_round(my_stake, your_stake, total_rounds, fraction):\n",
    "    count = 0\n",
    "    while my_stake > 1/fraction and your_stake > 1/fraction:\n",
    "        count += 1\n",
    "        \n",
    "        # Stakes are expressed in cents and a cent is the smallest \n",
    "        # amount of money that can be bet\n",
    "        bet = int(my_stake * fraction)\n",
    "        \n",
    "        d1 = roll_die()\n",
    "        d2 = roll_die()\n",
    "        if d1 == 1 or d2 == 1:\n",
    "            your_stake -= 3 * bet\n",
    "            \n",
    "            # Should you be able to risk more than your\n",
    "            # minimum stake at risk?\n",
    "            if your_stake < 3 * my_stake:\n",
    "                return count, my_stake\n",
    "            \n",
    "            my_stake += 3 * bet            \n",
    "        else:\n",
    "            my_stake -= bet\n",
    "            your_stake += bet\n",
    "            \n",
    "        if count > total_rounds:\n",
    "            return count, my_stake\n",
    "        \n",
    "    return count, my_stake"
   ]
  },
  {
   "cell_type": "markdown",
   "metadata": {},
   "source": [
    "\n",
    "Let's say I am have $\\$10.00$ (1000 cents) in my wallet, and you feel generous and agree to risk a minimum of $20.00.\n",
    "\n",
    "For simplicity, I will always bet a third of my cash rounded down to the closest cent.\n",
    "\n",
    "Let's also say that we will stop the game if my bet would be smaller than 1 cent, or if we have gone for 100 rounds.\n",
    "\n",
    "**You can see that there are lots of parameters in this game**.\n",
    "\n",
    "**In your view, do any of them matter?**"
   ]
  },
  {
   "cell_type": "code",
   "execution_count": 66,
   "metadata": {
    "ExecuteTime": {
     "end_time": "2022-08-10T19:53:54.609061Z",
     "start_time": "2022-08-10T19:53:53.963837Z"
    }
   },
   "outputs": [
    {
     "name": "stdout",
     "output_type": "stream",
     "text": [
      "The typical game last 37 rounds and I win an average of 36.98 cents.\n"
     ]
    }
   ],
   "source": [
    "my_stake = 1000\n",
    "your_stake = 4000\n",
    "total_rounds = 100\n",
    "fraction = 0.2\n",
    "\n",
    "final_pots = []\n",
    "final_counts = []\n",
    "\n",
    "for i in range(10000):\n",
    "    a, b = play_one_round(my_stake, your_stake, total_rounds, fraction)\n",
    "    final_pots.append(b)\n",
    "    final_counts.append(a)\n",
    "    \n",
    "print(f\"The typical game last {np.mean(final_counts):.0f} rounds and I win\"\n",
    "      f\" an average of {np.mean(final_pots)-my_stake:.2f} cents.\")\n",
    "\n",
    "\n",
    "# plt.plot(final_counts, final_pots, 'ro', alpha = 0.1)\n",
    "# plt.show()"
   ]
  },
  {
   "cell_type": "markdown",
   "metadata": {},
   "source": []
  },
  {
   "cell_type": "markdown",
   "metadata": {},
   "source": [
    "\n",
    "# How much redundancy is enough redundancy?\n",
    "\n",
    "\n",
    "### Uniform distribution \n",
    "\n",
    "Occurs for equi-probable random events: throwing a die, flipping a coin, drawing a rafle.\n",
    "\n",
    "The probability of an event is the inverse of the number of possible events. The probability mass function is:\n",
    "\n",
    "> $Pr(X=k) = \\frac{1}{n}$\n",
    "\n"
   ]
  },
  {
   "cell_type": "code",
   "execution_count": null,
   "metadata": {},
   "outputs": [],
   "source": []
  },
  {
   "cell_type": "code",
   "execution_count": null,
   "metadata": {},
   "outputs": [],
   "source": []
  },
  {
   "cell_type": "code",
   "execution_count": null,
   "metadata": {},
   "outputs": [],
   "source": []
  },
  {
   "cell_type": "code",
   "execution_count": null,
   "metadata": {},
   "outputs": [],
   "source": []
  },
  {
   "cell_type": "code",
   "execution_count": null,
   "metadata": {},
   "outputs": [],
   "source": []
  },
  {
   "cell_type": "code",
   "execution_count": 4,
   "metadata": {
    "ExecuteTime": {
     "end_time": "2021-02-08T20:29:31.113547Z",
     "start_time": "2021-02-08T20:29:30.383694Z"
    }
   },
   "outputs": [
    {
     "data": {
      "image/png": "[encoded data removed]",
      "text/plain": [
       "<Figure size 432x324 with 1 Axes>"
      ]
     },
     "metadata": {
      "needs_background": "light"
     },
     "output_type": "display_data"
    }
   ],
   "source": [
    "n = 6\n",
    "x = np.arange(1, n + 1)\n",
    "rv = stats.randint(1, n + 1)\n",
    "\n",
    "fig = plt.figure( figsize = (6, 4.5) )\n",
    "ax = fig.add_subplot(1,1,1)\n",
    "my_font_size = 15\n",
    "half_frame(ax, \"k\", \"Distribution for\\nUniform\", font_size = my_font_size)\n",
    "\n",
    "# Calculate and plot histogram\n",
    "ax.vlines(x, 0, rv.pmf(x), color = \"g\", linewidth = 5, alpha = 0.5, label = \"Probability mass\")\n",
    "ax.vlines(x+0.2, 0, rv.cdf(x), color = \"b\", linewidth = 5, alpha = 0.5, label = \"Cumulative\")\n",
    "ax.vlines(x+0.4, 0, rv.sf(x), color = \"r\", linewidth = 5, alpha = 0.5, label = \"Survival\")\n",
    "\n",
    "# Format legend\n",
    "ax.legend(loc = (1.0, 0.6), frameon = False, markerscale = 1.8, fontsize = my_font_size)\n",
    "\n",
    "ax.set_xlim(0.5, n+.5)\n",
    "ax.set_ylim(0, 1)\n",
    "\n",
    "plt.show()"
   ]
  },
  {
   "cell_type": "markdown",
   "metadata": {},
   "source": [
    "### Binomial distribution \n",
    "\n",
    "Is the result of the repetition of independent trials. Flipping a coin several times.  Throwing one or more dice.\n",
    "\n",
    "A fair coin has 50% chance of landing on heads and a 50% chance of landing on tails. The binomial distribution with p = 0.5 and n = 20 specifies the probability of tossing k heads. \n",
    "\n",
    "The probability mass function is:\n",
    "\n",
    "> $Pr(X=k) = C^n_k ~ p^{k} ~ (1-p)^{n-k}$\n"
   ]
  },
  {
   "cell_type": "code",
   "execution_count": 13,
   "metadata": {
    "ExecuteTime": {
     "end_time": "2021-02-08T20:39:25.223211Z",
     "start_time": "2021-02-08T20:39:24.808588Z"
    }
   },
   "outputs": [
    {
     "data": {
      "image/png": "[encoded data removed]",
      "text/plain": [
       "<Figure size 432x324 with 1 Axes>"
      ]
     },
     "metadata": {
      "needs_background": "light"
     },
     "output_type": "display_data"
    }
   ],
   "source": [
    "p = 1/6\n",
    "n = 4\n",
    "# x = np.arange(stats.binom.ppf(0.0001, n, p), stats.binom.ppf(0.9999, n, p))\n",
    "x = np.arange(0, n+1)\n",
    "rv = stats.binom(n, p)\n",
    "\n",
    "fig = plt.figure( figsize = (6, 4.5) )\n",
    "ax = fig.add_subplot(1,1,1)\n",
    "my_font_size = 15\n",
    "half_frame(ax, \"k\", \"Distribution for\\nBinomial\", font_size = my_font_size)\n",
    "\n",
    "# Calculate and plot histogram\n",
    "ax.vlines(x, 0, rv.pmf(x), color = \"g\", linewidth = 5, alpha = 0.5, label = \"Probability mass\")\n",
    "# ax.vlines(x+0.2, 0, rv.cdf(x), color = \"b\", linewidth = 5, alpha = 0.5, label = \"Cumulative\")\n",
    "# ax.vlines(x+0.4, 0, rv.sf(x), color = \"r\", linewidth = 5, alpha = 0.5, label = \"Survival\")\n",
    "\n",
    "# Format legend\n",
    "ax.legend(loc = (1.0, 0.6), frameon = False, markerscale = 1.8, fontsize = my_font_size)\n",
    "ax.set_ylim(0, .5)\n",
    "ax.set_xlim(-0.50, 5.5)\n",
    "\n",
    "plt.show()"
   ]
  },
  {
   "cell_type": "markdown",
   "metadata": {},
   "source": [
    "### Poisson distribution \n",
    "\n",
    "Is the result of counting events that have an exponential distribution of inter-event times. Examples are the decay of radiactive nuclei or the failure of light bulbs.\n",
    "\n",
    "The probability mass function is:\n",
    "\n",
    "> $Pr(X=k) =  \\frac{\\lambda^k e^{-\\lambda}}{k!}$"
   ]
  },
  {
   "cell_type": "code",
   "execution_count": 5,
   "metadata": {
    "ExecuteTime": {
     "end_time": "2021-02-12T20:46:39.941547Z",
     "start_time": "2021-02-12T20:46:39.619972Z"
    }
   },
   "outputs": [
    {
     "data": {
      "image/png": "[encoded data removed]",
      "text/plain": [
       "<Figure size 432x324 with 1 Axes>"
      ]
     },
     "metadata": {
      "needs_background": "light"
     },
     "output_type": "display_data"
    }
   ],
   "source": [
    "mu = 500\n",
    "x = np.arange(stats.poisson.ppf(0.0001, mu), stats.poisson.ppf(0.9999, mu))\n",
    "rv = stats.poisson(mu)\n",
    "\n",
    "fig = plt.figure( figsize = (6, 4.5) )\n",
    "ax = fig.add_subplot(1,1,1)\n",
    "my_font_size = 15\n",
    "half_frame(ax, \"k\", \"Probability mass\", font_size = my_font_size)\n",
    "\n",
    "# Calculate and plot histogram\n",
    "ax.vlines(x, 0, rv.pmf(x), color = \"g\", linewidth = 5, alpha = 0.5, label = \"Poisson\")\n",
    "\n",
    "# Format legend\n",
    "ax.legend(loc = \"best\", frameon = False, markerscale = 1.8, fontsize = my_font_size)\n",
    "ax.set_ylim(0, 0.02)\n",
    "\n",
    "plt.show()"
   ]
  },
  {
   "cell_type": "markdown",
   "metadata": {},
   "source": [
    "\n",
    "Let us put these two plots together for better comparison:"
   ]
  },
  {
   "cell_type": "code",
   "execution_count": 18,
   "metadata": {
    "ExecuteTime": {
     "end_time": "2021-02-08T20:50:52.297793Z",
     "start_time": "2021-02-08T20:50:51.804834Z"
    }
   },
   "outputs": [
    {
     "data": {
      "image/png": "[encoded data removed]",
      "text/plain": [
       "<Figure size 432x324 with 1 Axes>"
      ]
     },
     "metadata": {
      "needs_background": "light"
     },
     "output_type": "display_data"
    }
   ],
   "source": [
    "p = 0.05\n",
    "n = 200\n",
    "x = np.arange(stats.binom.ppf(0.0001, n, p), stats.binom.ppf(0.9999, n, p))\n",
    "rv1 = stats.binom(n, p)\n",
    "\n",
    "mu = n * p\n",
    "rv2 = stats.poisson(mu)\n",
    "\n",
    "\n",
    "fig = plt.figure( figsize = (6, 4.5) )\n",
    "ax =  fig.add_subplot(1,1,1) \n",
    "my_font_size = 15\n",
    "half_frame(ax, \"k\", \"Probability mass\", font_size = my_font_size)\n",
    "\n",
    "# Calculate and plot histogram\n",
    "ax.vlines(x-0.1, 0, rv1.pmf(x), color = \"b\", linewidth = 5, alpha = 0.7, label = \"Binomial\")\n",
    "ax.vlines(x+0.1, 0, rv2.pmf(x), color = \"r\", linewidth = 5, alpha = 0.7, label = \"Poisson\")\n",
    "\n",
    "# Format legend\n",
    "ax.legend(loc = \"best\", frameon = False, markerscale = 1.8, fontsize = my_font_size)\n",
    "ax.set_ylim(0, 0.3)\n",
    "\n",
    "plt.show()"
   ]
  },
  {
   "cell_type": "markdown",
   "metadata": {},
   "source": [
    "### Geometric distribution \n",
    "\n",
    "Is the result of counting the number of events until a specific one occurs. For example, how many coins must you flip until you get tails.  The probability mass function is:\n",
    "\n",
    "> $Pr(X=k) = (1-p)^{k-1}p$"
   ]
  },
  {
   "cell_type": "code",
   "execution_count": 26,
   "metadata": {
    "ExecuteTime": {
     "end_time": "2021-02-08T21:01:50.115461Z",
     "start_time": "2021-02-08T21:01:49.085789Z"
    }
   },
   "outputs": [
    {
     "data": {
      "image/png": "[encoded data removed]",
      "text/plain": [
       "<Figure size 432x324 with 1 Axes>"
      ]
     },
     "metadata": {
      "needs_background": "light"
     },
     "output_type": "display_data"
    }
   ],
   "source": [
    "p = 0.01\n",
    "x = np.arange(stats.geom.ppf(0, p), stats.geom.ppf(0.999, p))\n",
    "rv1 = stats.geom(p)\n",
    "\n",
    "\n",
    "fig = plt.figure( figsize = (6, 4.5) )\n",
    "ax = fig.add_subplot(1,1,1)\n",
    "my_font_size = 15\n",
    "half_frame(ax, \"k\", \"Distribution for\\nGeometric\", font_size = my_font_size)\n",
    "\n",
    "# Calculate and plot histogram\n",
    "ax.vlines(x, 0, rv1.pmf(x), color = \"g\", linewidth = 5, alpha = 0.5, label = \"Probability mass\")\n",
    "# ax.vlines(x+0.2, 0, rv1.cdf(x), color = \"b\", linewidth = 5, alpha = 0.5, label = \"Cumulative\")\n",
    "# ax.vlines(x+0.4, 0, rv1.sf(x), color = \"r\", linewidth = 5, alpha = 0.5, label = \"Survival\")\n",
    "\n",
    "# Format legend\n",
    "ax.legend(loc = (1.0, 0.6), frameon = False, markerscale = 1.8, fontsize = my_font_size)\n",
    "ax.set_ylim(0, 0.01)\n",
    "\n",
    "plt.show()"
   ]
  },
  {
   "cell_type": "markdown",
   "metadata": {},
   "source": [
    "### Negative binomial distribution \n",
    "\n",
    "Is the result of counting the number of events until a specific number of desired ones occur. For example, how many coins must you flip until you get three tails.  The probability mass function is:\n",
    "\n",
    "> $Pr(X=(k, n)) = C^{k+n-1}_{n-1} ~ p^n ~ (1-p)^k$"
   ]
  },
  {
   "cell_type": "code",
   "execution_count": 29,
   "metadata": {
    "ExecuteTime": {
     "end_time": "2021-02-08T21:08:46.712861Z",
     "start_time": "2021-02-08T21:08:43.723532Z"
    }
   },
   "outputs": [
    {
     "name": "stdout",
     "output_type": "stream",
     "text": [
      "The type of the variable rv1 is <class 'scipy.stats._distn_infrastructure.rv_frozen'>\n",
      "\n",
      "The type of the variable rv1.pmf is <class 'numpy.ndarray'>\n",
      "\n"
     ]
    },
    {
     "data": {
      "image/png": "[encoded data removed]",
      "text/plain": [
       "<Figure size 432x324 with 1 Axes>"
      ]
     },
     "metadata": {
      "needs_background": "light"
     },
     "output_type": "display_data"
    }
   ],
   "source": [
    "p = 1./6\n",
    "n = 3\n",
    "x = np.arange(stats.nbinom.ppf(0.0001, n, p), stats.nbinom.ppf(0.9999, n, p))\n",
    "# x = range(0, 3000)\n",
    "rv1 = stats.nbinom(n, p)\n",
    "\n",
    "print(f\"The type of the variable rv1 is {type(rv1)}\\n\")\n",
    "\n",
    "\n",
    "fig = plt.figure( figsize = (6, 4.5) )\n",
    "ax = fig.add_subplot(1,1,1)\n",
    "my_font_size = 15\n",
    "half_frame(ax, \"k\", \"Distribution for\\nnegative binomial\", font_size = my_font_size)\n",
    "\n",
    "# Calculate and plot histogram\n",
    "ax.vlines(x, 0, rv1.pmf(x), color = \"g\", linewidth = 2, alpha = 0.5, label = \"Probability mass\")\n",
    "print(f\"The type of the variable rv1.pmf is {type(rv1.pmf(x))}\\n\")\n",
    "\n",
    "# ax.vlines(x+0.2, 0, rv1.cdf(x), color = \"b\", linewidth = 2, alpha = 0.5, label = \"Cumulative\")\n",
    "# ax.vlines(x+0.4, 0, rv1.sf(x), color = \"r\", linewidth = 2, alpha = 0.5, label = \"Survival\")\n",
    "\n",
    "# Format legend\n",
    "ax.legend(loc = (1.0, 0.6), frameon = False, markerscale = 1.8, fontsize = my_font_size)\n",
    "ax.set_xlim(0, 75)\n",
    "\n",
    "plt.show()"
   ]
  }
 ],
 "metadata": {
  "kernelspec": {
   "display_name": "Python 3 (ipykernel)",
   "language": "python",
   "name": "python3"
  },
  "language_info": {
   "codemirror_mode": {
    "name": "ipython",
    "version": 3
   },
   "file_extension": ".py",
   "mimetype": "text/x-python",
   "name": "python",
   "nbconvert_exporter": "python",
   "pygments_lexer": "ipython3",
   "version": "3.9.12"
  },
  "latex_envs": {
   "LaTeX_envs_menu_present": true,
   "autoclose": false,
   "autocomplete": true,
   "bibliofile": "biblio.bib",
   "cite_by": "apalike",
   "current_citInitial": 1,
   "eqLabelWithNumbers": true,
   "eqNumInitial": 1,
   "hotkeys": {
    "equation": "Ctrl-E",
    "itemize": "Ctrl-I"
   },
   "labels_anchors": false,
   "latex_user_defs": false,
   "report_style_numbering": false,
   "user_envs_cfg": false
  },
  "toc": {
   "base_numbering": 1,
   "nav_menu": {},
   "number_sections": true,
   "sideBar": true,
   "skip_h1_title": false,
   "title_cell": "Table of Contents",
   "title_sidebar": "Contents",
   "toc_cell": false,
   "toc_position": {
    "height": "calc(100% - 180px)",
    "left": "10px",
    "top": "150px",
    "width": "210px"
   },
   "toc_section_display": true,
   "toc_window_display": true
  },
  "varInspector": {
   "cols": {
    "lenName": 16,
    "lenType": 16,
    "lenVar": 40
   },
   "kernels_config": {
    "python": {
     "delete_cmd_postfix": "",
     "delete_cmd_prefix": "del ",
     "library": "var_list.py",
     "varRefreshCmd": "print(var_dic_list())"
    },
    "r": {
     "delete_cmd_postfix": ") ",
     "delete_cmd_prefix": "rm(",
     "library": "var_list.r",
     "varRefreshCmd": "cat(var_dic_list()) "
    }
   },
   "types_to_exclude": [
    "module",
    "function",
    "builtin_function_or_method",
    "instance",
    "_Feature"
   ],
   "window_display": false
  }
 },
 "nbformat": 4,
 "nbformat_minor": 2
}
