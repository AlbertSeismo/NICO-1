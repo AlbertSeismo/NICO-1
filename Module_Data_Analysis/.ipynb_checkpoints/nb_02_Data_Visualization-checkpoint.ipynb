{
 "cells": [
  {
   "cell_type": "markdown",
   "metadata": {},
   "source": [
    "# Synopsis\n",
    "\n",
    "Visualizing your data is key to both understanding its basic properties and effectively communicating its results to an outside audience. In this unit we will learn:\n",
    "\n",
    "1. How to import `matplotlib`\n",
    "2. How to make a line plot\n",
    "3. How to make histograms\n",
    "3. How to make a bar chart\n",
    "4. How to make a scatter plot\n",
    "\n",
    "We will also cover some basic principles for creating clean and informative visualizations.\n",
    "\n",
    "\n",
    "## Heavyweight computing libraries\n",
    "\n",
    "\n",
    "### `numpy` - Numerical Python\n",
    "[Package documentation](http://docs.scipy.org/doc/numpy/)\n",
    "\n",
    "\n",
    "###  `scipy` - Scientific Python\n",
    "[Package documentation](http://docs.scipy.org/doc/scipy/reference/)\n",
    "\n",
    "These two packages enable us to reproduce much of the capabilities of software such as *Matlab*.  they contain functions enabling one to do linear algebra, solve differential equations, generate pseudorandom numbers, and conduct statistical analysis.\n",
    "\n",
    "## Heavyweight plotting library\n",
    "\n",
    "### `matplotlib`\n",
    "[Package documentation]()\n",
    "\n",
    "A number of plotting packages for Python have been released in the last few years. Currently, we like and recommend `matplotlib`. `Matplotlib` was created in 2003 and is the oldest Python plotting library that has remained under active development.\n",
    "\n",
    "However, that doesn't mean that it's always the best for all purposes or that it will remain our recommendation for ever. Among biologists, the `seaborn` library has become popular. If you are able to make your data publicly available, there is a service called `plot.ly` with a Python library.\n",
    "\n",
    "A problem with `matplotlib` is that its documentation is not particularly good. Typically, programmers copy the source code of visualizations they like and modify them. There are also lots and lots of **stackoverflow** answers concerning `matplotlib`. \n",
    "\n",
    "**`matplotlib` is completely costumizable.** \n",
    "\n",
    "\n",
    "**To learn more, browse the docummentation.**"
   ]
  },
  {
   "cell_type": "markdown",
   "metadata": {},
   "source": [
    "# Read libraries and functions"
   ]
  },
  {
   "cell_type": "code",
   "execution_count": null,
   "metadata": {
    "ExecuteTime": {
     "end_time": "2022-07-07T21:22:04.984514Z",
     "start_time": "2022-07-07T21:22:04.978282Z"
    }
   },
   "outputs": [],
   "source": [
    "%matplotlib inline\n"
   ]
  },
  {
   "cell_type": "code",
   "execution_count": null,
   "metadata": {
    "ExecuteTime": {
     "end_time": "2022-07-07T21:22:01.959453Z",
     "start_time": "2022-07-07T21:22:00.771351Z"
    }
   },
   "outputs": [],
   "source": [
    "import sys\n",
    "import scipy\n",
    "import random\n",
    "\n",
    "import numpy as np\n",
    "import matplotlib.pyplot as plt\n",
    "import matplotlib.cm as cm\n",
    "\n",
    "from IPython.core.display import HTML\n",
    "from IPython.lib.display import YouTubeVideo\n",
    "from pathlib import Path"
   ]
  },
  {
   "cell_type": "markdown",
   "metadata": {},
   "source": [
    "# Data visualization\n",
    "\n",
    "Visualizing your data is a **key** component of data analysis, no matter how big or small your data is.  Our minds are hardwired to process visual information, in fact **one-third** of our brain is dedicated to image processing and **40% of all** nerve fibers connected to the brain come from the retina. Visualization is essentially a high-speed link to your cognitive systems.\n",
    "\n",
    "Let me show you a quick example.\n",
    "\n",
    "## Traffic accidents\n",
    "\n",
    "Let's look at this image together, it plots the number of accidents per month against the time of day. Then tell me when accidents are likely to occur?\n",
    "\n",
    "<img src='Images/visualization_raw_chart.png' width = '500px'></img>"
   ]
  },
  {
   "cell_type": "markdown",
   "metadata": {},
   "source": [
    "Now let's try something different. This is the same chart, but now I've added a color scale. The individual numbers have a deeper shade of blue the more accidents that occur during that time period.\n",
    "\n",
    "Now tell me, when are accidents most likely to occur? How long did it take you to figure it out?\n",
    "\n",
    "<img src = 'Images/visualization_heatmap.png' width = '500px'></img>"
   ]
  },
  {
   "cell_type": "markdown",
   "metadata": {},
   "source": [
    "## Effective visualizations make a difference\n",
    "\n",
    "Effective visualizations allow us to make accurate decisions quicker. More importantly they help us make **correct** decisions. When you make a visualization, you're actually trying to make a point. The entire point is to persuade your audience of some fact that you know to be true. \n",
    "\n",
    "Whether you accept this statement or not, it is what happens. If you don't construct your visualization in a way that informs your audience and allows them to make a correct decision they can easily reach a different conclusion. \n",
    "\n",
    "### Creating a poor visualization can be disastrous.\n",
    "\n",
    "You might remember or have read about the 1986 Challenger accident. The Challenger was a NASA Space Shuttle that exploded upon take-off killing the entire crew because the O-rings in the rockets cracked and allowed jet fuel to leak into the combustion chamber."
   ]
  },
  {
   "cell_type": "markdown",
   "metadata": {},
   "source": [
    "**Why did the O-rings crack?**\n",
    "\n",
    "There were rumblings at NASA prior to the Challenger launch that defects in the O-rings occurred at cold temperatures. This data was looked at by a large number of people, but this is how it was presented to senior management (the people actually tasked with making the decision of **whether it was safe or not** to launch the rocket).\n",
    "\n",
    "<img src = 'Images/challenger_original.png' width = '500px'></img>"
   ]
  },
  {
   "cell_type": "markdown",
   "metadata": {},
   "source": [
    "The predicted temperature for the launch time of the Challenger was 26-29F.  Do you think that was safe based on the data above?\n",
    "\n",
    "**Would you have cancelled the launch based on these data?**\n",
    "\n",
    "\n",
    "\n",
    "\n",
    "Really hard to say, no?\n"
   ]
  },
  {
   "cell_type": "markdown",
   "metadata": {},
   "source": [
    "Let's use a graph to present the data as a function of launch temperature instead of launch number.\n",
    "\n",
    "<img src='Images/challenger_remade.png' width = '500px'></img>\n",
    "\n",
    "Would you have cancelled the launch based on these data?"
   ]
  },
  {
   "cell_type": "markdown",
   "metadata": {},
   "source": [
    "## Visualizations are about making patterns visible!\n",
    "\n",
    "However, by using deceiving methods, they can make non-existent patterns appear real. The book \"How to Lie with Statistics\" provides many examples of deceiving techniques. You should learn about them so that you can recognize them and avoid being duped by them.\n",
    "\n",
    "<img src = 'Images/wh_economic_growth.png' width = '500px'></img>\n",
    "\n",
    "\n",
    "**Making a good graph is not trivial. It requires thinking and the ability to summarize information.** \n",
    "\n",
    "In fact, **it is no different from writing a good essay or writing good code.**  \n",
    "\n",
    "You need to know enough to have a point of view.  You need to know how to present that point of view clearly. \n",
    "\n",
    "From here on we will focus on the actual nuts and bolts of crafting a graph in Python, but you should keep these principles in mind. \n"
   ]
  },
  {
   "cell_type": "markdown",
   "metadata": {},
   "source": [
    "# Plotting with `matplotlib`\n",
    "\n",
    "To create a costumizable graph, we create a `figure` object.\n",
    "\n",
    "We can pass arguments to the figure object when we create it. For example, we can change its size."
   ]
  },
  {
   "cell_type": "code",
   "execution_count": null,
   "metadata": {
    "ExecuteTime": {
     "end_time": "2022-07-07T21:40:31.653961Z",
     "start_time": "2022-07-07T21:40:31.633862Z"
    }
   },
   "outputs": [],
   "source": [
    "fig = plt.figure(figsize = (4, 4.5))\n",
    "print(type(fig))"
   ]
  },
  {
   "cell_type": "markdown",
   "metadata": {
    "ExecuteTime": {
     "end_time": "2018-12-18T21:01:02.197460Z",
     "start_time": "2018-12-18T21:01:02.187645Z"
    }
   },
   "source": [
    "Those dimensions are actually in inches, the first one is the width and the other is the height.\n",
    "\n",
    "Now we have to create something to plot, that something is a set of `axes` inside a `subplot`. Subplots let us have multiple graphs inside a single plot."
   ]
  },
  {
   "cell_type": "code",
   "execution_count": null,
   "metadata": {
    "ExecuteTime": {
     "end_time": "2022-07-07T21:40:50.984833Z",
     "start_time": "2022-07-07T21:40:50.771145Z"
    }
   },
   "outputs": [],
   "source": [
    "fig = plt.figure(figsize = (4, 4.5))\n",
    "\n",
    "ax = fig.add_subplot(3, 1, 1)\n",
    "\n",
    "ax.plot([1, 2, 3, 4], [1, 2, 3, 4], color = 'steelblue', \n",
    "        marker = 'o', lw = 2)\n",
    "ax.plot([7, 8 , 9], [7, 8 , 9], color= 'orange', marker='^')\n",
    "\n",
    "ax = fig.add_subplot(3, 1, 2)\n",
    "ax.plot([7, 8 , 9], [7, 8 , 9], color= 'orange', marker='^')\n",
    "\n",
    "ax = fig.add_subplot(3, 1, 3)\n",
    "ax.plot([11, 12, 13], [11, 12, 13], color ='red')\n",
    "\n",
    "plt.tight_layout()\n",
    "plt.show()"
   ]
  },
  {
   "cell_type": "markdown",
   "metadata": {},
   "source": [
    "When we specify subplots the first number is the number of rows of plots. The second number is the number of columns of plots. The third number is the specific plot that you wish to populate. This number goes from 1 to the maximum plot number (num_columns * num_rows). Hopefully this image will make it more clear\n",
    "\n",
    "<img src='Images/matplotlib_subplots.png' width = '400px'></img>\n"
   ]
  },
  {
   "cell_type": "markdown",
   "metadata": {},
   "source": [
    "Let's create some fake data that we can use to understand how to costumize plots."
   ]
  },
  {
   "cell_type": "code",
   "execution_count": null,
   "metadata": {
    "ExecuteTime": {
     "end_time": "2022-07-07T21:42:43.755977Z",
     "start_time": "2022-07-07T21:42:43.740334Z"
    }
   },
   "outputs": [],
   "source": [
    "x = range(5,100,5)\n",
    "y = [i**2 for i in x]\n",
    "z = [100*i for i in x]\n",
    "\n",
    "rv1 = [random.random() for i in range(1000)]\n",
    "rv2 = [random.random() for i in range(10000)]"
   ]
  },
  {
   "cell_type": "markdown",
   "metadata": {},
   "source": [
    "Let's create a simple plot using the variables `x` and `y` from above."
   ]
  },
  {
   "cell_type": "code",
   "execution_count": null,
   "metadata": {
    "ExecuteTime": {
     "end_time": "2022-07-07T21:47:08.323524Z",
     "start_time": "2022-07-07T21:47:08.246799Z"
    }
   },
   "outputs": [],
   "source": [
    "fig = plt.figure( figsize = (5, 5/1.6) )\n",
    "ax = fig.add_subplot(1, 1, 1)\n",
    "\n",
    "ax.plot(x, y)\n",
    "\n",
    "plt.show()"
   ]
  },
  {
   "cell_type": "code",
   "execution_count": null,
   "metadata": {
    "ExecuteTime": {
     "end_time": "2022-07-07T21:47:20.034843Z",
     "start_time": "2022-07-07T21:47:20.013988Z"
    }
   },
   "outputs": [],
   "source": [
    "5/1.6"
   ]
  },
  {
   "cell_type": "markdown",
   "metadata": {},
   "source": [
    "Of course, this graph is shit.  If you showed it to me, I would be rather upset.\n",
    "\n",
    "First of all, you have no axis labels! \n",
    "\n",
    "**How am I to know what you are plotting?**\n"
   ]
  },
  {
   "cell_type": "code",
   "execution_count": null,
   "metadata": {
    "ExecuteTime": {
     "end_time": "2022-07-07T21:46:59.437781Z",
     "start_time": "2022-07-07T21:46:59.346697Z"
    }
   },
   "outputs": [],
   "source": [
    "fig = plt.figure( figsize = (5, 5/1.6) )\n",
    "ax = fig.add_subplot(1,1,1)\n",
    "\n",
    "# We should add a label to our dataset that will go into a legend\n",
    "ax.plot(x, y, label = \"Parabola\")\n",
    "\n",
    "# Now we can label the axes. \n",
    "# Always label your axes! Who knows what is in the graph otherwise\n",
    "ax.set_xlabel(\"x\")\n",
    "ax.set_ylabel(\"f(x)\")\n",
    "\n",
    "# Display legend\n",
    "ax.legend()\n",
    "\n",
    "plt.tight_layout()\n",
    "plt.show()\n",
    "\n",
    "# plt.savefig()"
   ]
  },
  {
   "cell_type": "markdown",
   "metadata": {},
   "source": [
    "The fonts used in a graph should be easy to read. We can change readability by playing with font style and font size.  \n",
    "\n",
    "**Sans-serif fonts (such as Helvetica and Arial) are better for screen and poster reading.**\n",
    "\n",
    "**Font size can help us see what is important.**  The font for the axis label should be larger than the size of the one used for the tick labels.\n",
    "\n",
    "I like to define a default size and then adjust other sizes in relation to that one."
   ]
  },
  {
   "cell_type": "code",
   "execution_count": null,
   "metadata": {
    "ExecuteTime": {
     "end_time": "2022-07-07T21:52:35.468433Z",
     "start_time": "2022-07-07T21:52:35.458453Z"
    }
   },
   "outputs": [],
   "source": [
    "my_fontsize = 15"
   ]
  },
  {
   "cell_type": "code",
   "execution_count": null,
   "metadata": {
    "ExecuteTime": {
     "end_time": "2022-07-07T22:03:32.371989Z",
     "start_time": "2022-07-07T22:03:32.275582Z"
    }
   },
   "outputs": [],
   "source": [
    "# Create the figure\n",
    "fig = plt.figure( figsize = (5, 5/1.6) )\n",
    "ax = fig.add_subplot(1,1,1)\n",
    "\n",
    "# We should add a label to our dataset that will go into a legend\n",
    "ax.plot(x, y, label = \"Parabola\", color = 'steelblue', linewidth = 3, \n",
    "        marker = 'o', markersize = 5)\n",
    "\n",
    "# Now we can label the axes. \n",
    "# Always label your axes! Who knows what is in the graph otherwise\n",
    "ax.set_xlabel(\"$\\mu$\", loc = 'right', fontsize = 1.6*my_fontsize)\n",
    "ax.set_ylabel(\"$f(\\mu)$\", loc = 'top', fontsize = 1.6*my_fontsize)\n",
    "# ax.set_xlabel(\"$\\mu$\", fontsize = 1.6*my_fontsize)\n",
    "# ax.set_ylabel(\"$f(\\mu)$\", fontsize = 1.6*my_fontsize)\n",
    "\n",
    "# Display legend\n",
    "ax.legend(loc='best', fontsize = my_fontsize, \n",
    "          markerscale = 1.2)\n",
    "\n",
    "#Adding a panel label\n",
    "ax.text(90, 500, \"(a)\", fontsize = 1.2 * my_fontsize)\n",
    "\n",
    "plt.tight_layout()\n",
    "plt.show()"
   ]
  },
  {
   "cell_type": "code",
   "execution_count": null,
   "metadata": {
    "ExecuteTime": {
     "end_time": "2022-07-07T22:03:41.727083Z",
     "start_time": "2022-07-07T22:03:41.618033Z"
    }
   },
   "outputs": [],
   "source": [
    "# Create the figure\n",
    "fig = plt.figure( figsize = (5, 5/1.6) )\n",
    "ax = fig.add_subplot(1,1,1)\n",
    "\n",
    "# We should add a label to our dataset that will go into a legend\n",
    "ax.plot(x, y, label = \"Parabola\", color = 'steelblue', linewidth = 3, \n",
    "        marker = 'o', markersize = 5)\n",
    "\n",
    "# Now we can label the axes. \n",
    "ax.set_xlabel(\"$\\mu$\", fontsize = 1.6*my_fontsize)\n",
    "ax.set_ylabel(\"$f(\\mu)$\", fontsize = 1.6*my_fontsize)\n",
    "\n",
    "# Display legend (I don't like box around legend)\n",
    "ax.legend(loc='best', frameon=False, fontsize = my_fontsize, \n",
    "          markerscale = 1.2)\n",
    "\n",
    "#Adding a panel label \n",
    "ax.text(90, 500, \"(a)\", fontsize = 1.2 * my_fontsize)\n",
    "\n",
    "# Turn off the spines for two of the 4 axes\n",
    "for axis in ['bottom','left']:\n",
    "    ax.spines[axis].set_linewidth(1.5)\n",
    "    ax.spines[axis].set_position((\"axes\", -0.02))\n",
    "for axis in ['top','right']:\n",
    "    ax.spines[axis].set_visible(False)\n",
    "\n",
    "# We'll also need to turn off the ticks on the axes that we turned off\n",
    "# and adjust the length and tickness\n",
    "ax.tick_params(width = 1.5, length = 6)\n",
    "ax.yaxis.set_ticks_position('left')\n",
    "ax.xaxis.set_ticks_position('bottom')\n",
    "\n",
    "# Set axes limits\n",
    "ax.set_xlim(0, 100)\n",
    "ax.set_ylim(0, 10000)\n",
    "\n",
    "plt.tight_layout()\n",
    "plt.show()\n",
    "# plt.savefig('quadratic_half_frame.png')"
   ]
  },
  {
   "cell_type": "markdown",
   "metadata": {},
   "source": [
    "You see now that the number of options that you can possibly configure to make a graph look like **how you want** is **enormous!** \n",
    "\n",
    "There's way too much to go over in this course, so we're going to stop going over more and more options now. \n",
    "\n",
    "If you want to learn more about the intricacies of `matplotlib` I think that this is a good [tutorial](http://www.labri.fr/perso/nrougier/teaching/matplotlib/).\n",
    "\n"
   ]
  },
  {
   "cell_type": "markdown",
   "metadata": {
    "ExecuteTime": {
     "end_time": "2022-07-07T21:59:49.750214Z",
     "start_time": "2022-07-07T21:59:49.736681Z"
    }
   },
   "source": [
    "# Taking advantage of pre-defined styles\n",
    "\n",
    "A way to get around the default style of `matplotlib` is by using a relatively new addition to `matplotlib`: `styles`. There are a few (but should be more soon) pre-canned styles that look pretty okay. These by no means generate *publishable* figures, but they look decent enough to show a colleague.\n",
    "\n",
    "You can actually change the default style in the entire notebook if you execute\n",
    "\n",
    "    plt.style.use('style_name')\n",
    "    \n",
    "But I don't want to change the style of every plot in the notebook. When you don't want to change the style globally, you can just write a graph like this:\n",
    "\n",
    "    with plt.style.context('style_name'):\n",
    "        #Your graph code here\n",
    "        \n",
    "That `with` statement basically says that all of the code inside that block should use that setting. Once we leave the `with` block the `with` statement is no longer applied.\n"
   ]
  },
  {
   "cell_type": "markdown",
   "metadata": {},
   "source": [
    "## The `ggplot` style"
   ]
  },
  {
   "cell_type": "code",
   "execution_count": null,
   "metadata": {
    "ExecuteTime": {
     "end_time": "2022-07-07T22:07:55.446214Z",
     "start_time": "2022-07-07T22:07:55.356878Z"
    }
   },
   "outputs": [],
   "source": [
    "with plt.style.context('ggplot'):\n",
    "    fig = plt.figure( figsize = (5, 5/1.6) )\n",
    "    ax = fig.add_subplot(1,1,1)\n",
    "    \n",
    "    # We should add a label to our dataset that will go into a legend\n",
    "    ax.plot(x, y, label = \"Parabola\")\n",
    "    \n",
    "    # Label the axes.\n",
    "    ax.set_xlabel(\"x\", fontsize = 1.6*my_fontsize)\n",
    "    ax.set_ylabel(\"f(x)\", fontsize = 1.6*my_fontsize)\n",
    "    \n",
    "    # Display legend\n",
    "    ax.legend(loc='best', frameon=False, fontsize = my_fontsize)"
   ]
  },
  {
   "cell_type": "markdown",
   "metadata": {},
   "source": [
    "## The Nate Silver [538](http://www.fivethirtyeight.com) style"
   ]
  },
  {
   "cell_type": "code",
   "execution_count": null,
   "metadata": {
    "ExecuteTime": {
     "end_time": "2022-07-07T22:04:12.672195Z",
     "start_time": "2022-07-07T22:04:12.585494Z"
    }
   },
   "outputs": [],
   "source": [
    "with plt.style.context('fivethirtyeight'):\n",
    "    fig = plt.figure( figsize = (5, 5/1.6) )\n",
    "    ax = fig.add_subplot(1,1,1)\n",
    "    \n",
    "    # We should add a label to our dataset that will go into a legend\n",
    "    ax.plot(x, y, label = \"Parabola\")\n",
    "    \n",
    "    # Label the axes. \n",
    "    ax.set_xlabel(\"$x$\", fontsize = 1.6*my_fontsize)\n",
    "    ax.set_ylabel(\"$f(x)$\", fontsize = 1.6*my_fontsize)\n",
    "    \n",
    "    # Display legend\n",
    "    ax.legend(loc='best', frameon=False, fontsize = my_fontsize)"
   ]
  },
  {
   "cell_type": "markdown",
   "metadata": {},
   "source": [
    "## The `bmh` style"
   ]
  },
  {
   "cell_type": "code",
   "execution_count": null,
   "metadata": {
    "ExecuteTime": {
     "end_time": "2022-07-07T22:04:45.738074Z",
     "start_time": "2022-07-07T22:04:45.632747Z"
    }
   },
   "outputs": [],
   "source": [
    "with plt.style.context('bmh'):\n",
    "    fig = plt.figure( figsize = (5, 5/1.6) )\n",
    "    ax = fig.add_subplot(1,1,1)\n",
    "    \n",
    "    # We should add a label to our dataset that will go into a legend\n",
    "    ax.plot(x, y, label = \"Parabola\")\n",
    "    \n",
    "    # Label the axes. \n",
    "    ax.set_xlabel(\"$x$\", fontsize = 1.6*my_fontsize)\n",
    "    ax.set_ylabel(\"$f(x)$\", fontsize = 1.6*my_fontsize)\n",
    "    \n",
    "    # Display legend\n",
    "    ax.legend(loc='best', frameon=False, fontsize = my_fontsize)"
   ]
  },
  {
   "cell_type": "markdown",
   "metadata": {},
   "source": [
    "## The `xkcd` style"
   ]
  },
  {
   "cell_type": "code",
   "execution_count": null,
   "metadata": {
    "ExecuteTime": {
     "end_time": "2022-07-07T22:05:47.831751Z",
     "start_time": "2022-07-07T22:05:47.735929Z"
    }
   },
   "outputs": [],
   "source": [
    "with plt.xkcd():\n",
    "    fig = plt.figure( figsize = (5, 5/1.6) )\n",
    "    ax = fig.add_subplot(1,1,1)\n",
    "\n",
    "    # We should add a label to our dataset that will go into a legend\n",
    "    ax.plot(x, y, label = \"Parabola\", linewidth = 3)\n",
    "    \n",
    "    # Now we can label the axes. \n",
    "    ax.set_xlabel(\"x\", fontsize = 1.6*my_fontsize)\n",
    "    ax.set_ylabel(\"f(x)\", fontsize = 1.6*my_fontsize)\n",
    "    \n",
    "    # Display legend\n",
    "    ax.legend(loc = 'best', frameon=False, fontsize = my_fontsize)"
   ]
  },
  {
   "cell_type": "markdown",
   "metadata": {},
   "source": [
    "## Changing background color\n",
    "\n",
    "Also, something to be aware of is that grey backgrounds typically don't print out very well unless you have a nice color printer!\n",
    "\n",
    "So typically we'll need to change the axis background color to white before printing. We can do that when we create the axes."
   ]
  },
  {
   "cell_type": "code",
   "execution_count": null,
   "metadata": {
    "ExecuteTime": {
     "end_time": "2022-07-07T22:06:43.233172Z",
     "start_time": "2022-07-07T22:06:43.134871Z"
    }
   },
   "outputs": [],
   "source": [
    "with plt.style.context('bmh'):\n",
    "    fig = plt.figure( figsize = (6, 4) )\n",
    "    ax = fig.add_subplot(1,1,1, facecolor = 'orange')\n",
    "\n",
    "    # We should add a label to our dataset that will go into a legend\n",
    "    ax.plot(x, y, label = \"Parabola\", linewidth = 3)\n",
    "    \n",
    "    # Now we can label the axes. \n",
    "    # Always label your axes! Who knows what is in the graph otherwise\n",
    "    ax.set_xlabel(\"$x$\", fontsize = 1.6*my_fontsize)\n",
    "    ax.set_ylabel(\"$f(x)$\", fontsize = 1.6*my_fontsize)\n",
    "    \n",
    "    ax.text(10, 4500, 'JUST KIDDING', fontsize = 40)\n",
    "    \n",
    "    # Display legend\n",
    "    ax.legend(loc = 'best', frameon=False, fontsize = my_fontsize)"
   ]
  },
  {
   "cell_type": "markdown",
   "metadata": {},
   "source": [
    "# `matplotlib` has much more than just line plots\n",
    "\n",
    "`matplotlib` enables us to make `scatter`, `bar`, `histogram`, `heatmaps`, `box plots`, and `violin` plots. \n",
    "\n",
    "You can see some simple examples of all of these types at the Matplotlib Gallery [page](http://matplotlib.org/gallery.html).\n",
    "\n",
    "One of the most used types of plots is a [histogram](https://en.wikipedia.org/wiki/Histogram). This is the type of plot you use when you want to examine the distribution of values in a dataset.\n",
    "\n",
    "**Find time to explore!!**"
   ]
  },
  {
   "cell_type": "code",
   "execution_count": null,
   "metadata": {},
   "outputs": [],
   "source": []
  }
 ],
 "metadata": {
  "kernelspec": {
   "display_name": "base",
   "language": "python",
   "name": "base"
  },
  "language_info": {
   "codemirror_mode": {
    "name": "ipython",
    "version": 3
   },
   "file_extension": ".py",
   "mimetype": "text/x-python",
   "name": "python",
   "nbconvert_exporter": "python",
   "pygments_lexer": "ipython3",
   "version": "3.9.12"
  },
  "latex_envs": {
   "LaTeX_envs_menu_present": true,
   "autoclose": false,
   "autocomplete": true,
   "bibliofile": "biblio.bib",
   "cite_by": "apalike",
   "current_citInitial": 1,
   "eqLabelWithNumbers": true,
   "eqNumInitial": 1,
   "hotkeys": {
    "equation": "Ctrl-E",
    "itemize": "Ctrl-I"
   },
   "labels_anchors": false,
   "latex_user_defs": false,
   "report_style_numbering": false,
   "user_envs_cfg": false
  },
  "toc": {
   "base_numbering": 1,
   "nav_menu": {},
   "number_sections": true,
   "sideBar": true,
   "skip_h1_title": false,
   "title_cell": "Table of Contents",
   "title_sidebar": "Contents",
   "toc_cell": false,
   "toc_position": {},
   "toc_section_display": true,
   "toc_window_display": true
  },
  "varInspector": {
   "cols": {
    "lenName": 16,
    "lenType": 16,
    "lenVar": 40
   },
   "kernels_config": {
    "python": {
     "delete_cmd_postfix": "",
     "delete_cmd_prefix": "del ",
     "library": "var_list.py",
     "varRefreshCmd": "print(var_dic_list())"
    },
    "r": {
     "delete_cmd_postfix": ") ",
     "delete_cmd_prefix": "rm(",
     "library": "var_list.r",
     "varRefreshCmd": "cat(var_dic_list()) "
    }
   },
   "types_to_exclude": [
    "module",
    "function",
    "builtin_function_or_method",
    "instance",
    "_Feature"
   ],
   "window_display": false
  }
 },
 "nbformat": 4,
 "nbformat_minor": 2
}
