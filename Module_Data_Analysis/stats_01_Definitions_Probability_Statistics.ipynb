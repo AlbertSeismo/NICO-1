{
 "cells": [
  {
   "cell_type": "code",
   "execution_count": null,
   "metadata": {
    "ExecuteTime": {
     "end_time": "2021-01-29T16:44:05.299865Z",
     "start_time": "2021-01-29T16:44:05.288606Z"
    }
   },
   "outputs": [],
   "source": [
    "from IPython.core.display import HTML\n",
    "from IPython.lib.display import YouTubeVideo"
   ]
  },
  {
   "cell_type": "markdown",
   "metadata": {},
   "source": [
    "# Statistics\n",
    "\n",
    "**Statistics is the science concerned with the study of the collection, analysis, interpretation, presentation, and organization of data.**\n",
    "\n",
    "For concreteness let us consider two examples that hopefully you can relate to.\n",
    "\n",
    "**The US Census Bureau collects data on people residing in the US**. The data includes measures such as the number of household occupants, their gender, their age, their familial relationships, their incomes, their education levels, and so on. The process for the data collection is called a **census** because the process **aims to measure all individuals**.\n",
    "\n",
    "**Colleges collect applications for their programs**. The data collected includes standardized test scores, GPAs, essays, recommendation letters, and so on. No college is able to collect a census, so each must make decisions based on their **sample** of applicants. Each college is able to analyze a sample comprising a very small fraction of all students applying to college each year.  \n",
    "\n",
    ".\n",
    "\n",
    ".\n",
    "\n",
    ".\n",
    "\n",
    ".\n",
    "\n",
    ".\n",
    "\n",
    ".\n"
   ]
  },
  {
   "cell_type": "markdown",
   "metadata": {},
   "source": [
    "## Descriptive statistics\n",
    "\n",
    "The first step in the analysis of data is to to obtain a description that summarizes its statistical properties. There are a number of **statistics** (that is, measures that can be calculated for that data) that are particularly useful.\n",
    "\n",
    "> **Number of observations** is the number of data in the data set. In this case, the number of applicants for which we have GPA values.\n",
    "\n",
    "> **Minimum** is the smallest value in the data set.\n",
    "\n",
    "> **Maximum** is the largest value in the data set. For the GPA data, this is presumably 4.0.\n",
    "\n",
    "> **Support** (also called **range**) is the interval over which the values of the data set spread. Since GAPs are positive and must be no larger that 4, we know that the range must be a subset of the interval [0, 4]. Presumably, students will GPAs lower than 2 will not apply to a graduate program, so the support of our GPA data will likely be a subset of the interval [2, 4].\n",
    "\n",
    "> **Mode** is the most common value in the data set.  \n",
    "\n",
    "> **Median** is the value that is larger than half of all values and smaller than half of all values in the data set. The median is an example of a **percentile**.  Two other common percentiles are the **first quartile** and the **third quartile**.\n",
    "\n",
    "> **Interquartile range** is the difference between the third and first quartile. It provides an estimation of the dispersion of the data.\n",
    "\n",
    "> **Sample Mean** (also called sample average) is the sum of all values divided by the number of observations.  The sample mean has the smallest distance to the set of all values in the sample.\n",
    "\n",
    "> **Standard deviation** is a measure of the spread around the sample mean for the values in the data set.\n",
    "\n",
    "> **Skewness** is a measure of the asymmetry of the values in the data set. If you divide the support of the data at the sample mean, and if one of the interval is longer than the other, than the data is skewed.\n",
    "\n",
    "These quantities can all be easily obtained using methods already coded in `Scipy` and `Numpy`.\n",
    "\n"
   ]
  },
  {
   "cell_type": "markdown",
   "metadata": {},
   "source": [
    "## Frequency plots\n",
    "\n",
    "While descriptive statistics are very useful, their calculation involves the loss of a lot of information on the data.  Creating a frequency plot provides a much more accurate picture of the statistical properties of the data *as long as it is calculated properly*. "
   ]
  },
  {
   "cell_type": "markdown",
   "metadata": {},
   "source": [
    ".\n",
    "\n",
    ".\n",
    "\n",
    ".\n",
    "\n",
    ".\n",
    "\n",
    ".\n",
    "\n",
    ".\n",
    "\n",
    ".\n",
    "\n",
    ".\n",
    "\n",
    "\n",
    "# Probability\n",
    "\n",
    "Before engaging with any descriptive statistics, however, it is advisable to have some idea of what values will be present in our data and what their properties are.\n",
    "\n",
    "A common typology identifies four types of data:\n",
    "\n",
    "> **Categorical data** can take a set of countable values that cannot be ordered.  Think of an example.\n",
    "\n",
    "> **Ordinal data** can take a set of countable values that can be ordered. Think of an example.\n",
    "\n",
    "> **Interval data** can take a set of countable or uncountable values that can be ordered and for which differences between values are meaningful. Think of an example.\n",
    "\n",
    "> **Ratio data** can take a set of countable or uncountable values that can be ordered and for which ratios between values are meaningful. Think of an example.\n",
    "\n",
    "Depending on your data, some of the descriptive statistics listed above will be meaningless. Think of an example.\n",
    "\n",
    ".\n",
    "\n",
    ".\n",
    "\n",
    ".\n",
    "\n",
    ".\n",
    "\n",
    "> **Sample space** is the set of all possible outcomes of a random process. It can be denoted by $S$. Sample spaces can be discrete (and thus countable) or continuous (uncountable).\n",
    "\n",
    "> **Event** is a subset of the sample space.  Typically, one wants to know the likelihood that a given event will occur. For example, will the Patriots win the Super Bowl?\n",
    "\n",
    ".\n",
    "\n",
    "Some times defining the sample space is easy (outcomes of tossing two coins), sometimes it is very very hard (*known unknowns and unknown unknowns*).\n"
   ]
  },
  {
   "cell_type": "code",
   "execution_count": null,
   "metadata": {
    "ExecuteTime": {
     "end_time": "2021-02-01T22:11:45.717032Z",
     "start_time": "2021-02-01T22:11:45.695246Z"
    }
   },
   "outputs": [],
   "source": [
    "def generate_sample_space(list_number_outcomes):\n",
    "    \"\"\"\n",
    "    Generates a generic list of outcomes for a situation with len(list_number_outcomes)\n",
    "    independent events using recursion.\n",
    "    \n",
    "    input:\n",
    "        list_number_outcomes -- list of integers\n",
    "        \n",
    "    outputs:\n",
    "        events -- list of strings\n",
    "    \"\"\"\n",
    "    if len(list_number_outcomes) == 1:\n",
    "        n_outcomes = list_number_outcomes.pop()\n",
    "        events = []\n",
    "        for j in range(n_outcomes):\n",
    "            events.append( f\"{j}-\" )\n",
    "        return events\n",
    "        \n",
    "    events = []\n",
    "    n_outcomes = list_number_outcomes.pop()\n",
    "    \n",
    "    for event in generate_sample_space(list_number_outcomes):\n",
    "        for j in range(n_outcomes):\n",
    "            events.append( f\"{event}{j}-\" )\n",
    "            \n",
    "    return events\n",
    "\n",
    "print(len(generate_sample_space([2,6])))\n",
    "generate_sample_space([2,6])\n",
    "\n",
    "\n",
    "# ['0-0-', '0-1-', '0-2-', '1-0-', '1-1-', '1-2-',]"
   ]
  },
  {
   "cell_type": "markdown",
   "metadata": {},
   "source": [
    "Nowadays, calculating sample spaces is made dramatically easy by the availability of powerful computers. However, for some situations even a very powerful computer will be useless because sample spaces can grow so fast in size.\n",
    "\n",
    "In order to determine the size of sample spaces or the size of certain events, one uses **counting techniques**.\n",
    "\n",
    "The size of the sample space of rolling a die and flipping a coin can be calculated by **multiplying** the size of the individual sample spaces.\n",
    "\n",
    "The size of the sample space of rolling a pair of dice can be calculated using the concept of **combinations**, which is the number of distinct subsets of 2 elements that can be drawn from a possible set of 6.  More generally, the number of distinct subsets of $k$ elements that can be drawn from a possible set of $n$ is given by:\n",
    "\n",
    "$C_k^n = \\frac{n!}{k!(n-k)!}$\n",
    "\n",
    "\n",
    "A third counting technique is **permutations**. The number of possible ordered sequences of the $n$ elements in a set is $n!$ \n",
    "\n",
    ".\n",
    "\n",
    ".\n",
    "\n",
    ".\n",
    "\n",
    ".\n",
    "\n",
    ".\n",
    "\n",
    ".\n",
    "\n",
    "."
   ]
  },
  {
   "cell_type": "markdown",
   "metadata": {},
   "source": [
    "## Axioms of probability\n",
    "\n",
    "If one takes an axiomatic view of probability, then **probability** is a number that can be assigned to each element in the set of events generated by a random system and that satisfies the following properties:\n",
    "\n",
    "> **Axiom 1:** $P(S) = 1$\n",
    "\n",
    "> **Axiom 2:** $0 \\le P(E) \\le 1$ for $E \\subset S$ \n",
    "\n",
    "> **Axiom 3:** If $E_1 \\cap E_2 = \\emptyset$, then $P(E_1 \\cup E_2) = P(E_1) + P(E_2)$\n",
    "\n",
    "\n",
    "From these axioms, it follows that \n",
    "\n",
    "> $P(\\emptyset) = 0$\n",
    "\n",
    "> $P(S-E) = 1 - P(E)$\n",
    "\n",
    "> If $E_1 \\subset E_2$, then $P(E_1) \\le P(E_2)$\n",
    "\n",
    "> If $E_1$ is independent of $E_2$, then $P(E_1 \\land E_2) = P(E_1)~P(E_2)$\n",
    "\n",
    "So, what is the probability of **getting `red` when rolling a die**?\n",
    "\n",
    "What about the probability of the **SEC closing the NYSE for a week this year**?\n"
   ]
  },
  {
   "cell_type": "markdown",
   "metadata": {},
   "source": [
    "**The concepts used so far are crucial to *statistical physics*, which provided a mechanistic understanding of *thermodynamics***. \n",
    "\n",
    "Consider a square **2-dimensional box** containing $n$ particles. Particles are moving around and colliding with the walls and one another. \n",
    "\n",
    "For simplicity, let us assume that the particles states are independent random variables!\n",
    "\n",
    "Now, divide the box into 4 quadrants and assume that each particle is equally probably to be in any of the quadrants. Assuming that you do not care about the identity of the particles, *what is the sample space for this problem when $n = 2$?*\n",
    "\n",
    "\n",
    "Define our target event $E$ as all particles being in the same quadrant. *What is the fraction of the simplest events in the sample space that is consistent with that outcome?*\n",
    "\n"
   ]
  },
  {
   "cell_type": "code",
   "execution_count": null,
   "metadata": {
    "ExecuteTime": {
     "end_time": "2020-01-24T21:08:12.703501Z",
     "start_time": "2020-01-24T21:08:12.695376Z"
    }
   },
   "outputs": [],
   "source": [
    "def all_in_corner(number_partitions, number_particles):\n",
    "    \"\"\"\n",
    "    \n",
    "    inputs:\n",
    "        number_partitions -- int\n",
    "        number_particles -- int\n",
    "    output:\n",
    "        prob -- float\n",
    "    \"\"\"\n",
    "    \n",
    "\n",
    "    return prob\n",
    "    "
   ]
  },
  {
   "cell_type": "code",
   "execution_count": null,
   "metadata": {},
   "outputs": [],
   "source": []
  },
  {
   "cell_type": "markdown",
   "metadata": {},
   "source": [
    "## Conditional probability\n",
    "\n",
    "Sometimes, probabilities need to be re-evaluated as new information becomes available.  The probability of the Saints winning this year's Super Bowl is now quite different from what it was a week ago.  The necessity to handle such cases gives rise to the concept of conditional probability.  Consider two events $A$ and $B$,\n",
    "\n",
    "> $P(B | A)$\n",
    "\n",
    "is the probability of $B$ conditional on $A$ being true. The conditional probability obeys the relationship\n",
    "\n",
    "> $P(B | A) = P(A \\cap B)~ /~ P(A)$\n",
    "\n",
    "if $P(A) > 0$.\n",
    "\n",
    "From that it follows that\n",
    "\n",
    "> $P(A \\cap B) = P(B | A)~ P(A) = P(A | B)~ P(B)$\n",
    "\n",
    "\n",
    "The definition of conditional probability provides a way to determine whether two events are **independent**. If $P(B | A) = P(B)$, then $B$ is independent of $A$ (and vice-versa).\n",
    "\n",
    "\n"
   ]
  },
  {
   "cell_type": "markdown",
   "metadata": {},
   "source": [
    "## Bayes' Theorem\n",
    "\n",
    "The concept of conditional probability connects belief (given by probability) with information.  This has actually enormous consequences.  Since one cannot ever observe an infinite number of events, one cannot in most situations truly determine $P(E)$.  One can nonetheless build hypotheses for what $P(E)$ is -- a so-called prior.  **Conditional probabilities enable us to update our priors as information becomes available!**\n",
    "\n",
    "This is expressed by Bayes' Theorem which appear to simply re-write an equation above but does so much more\n",
    "\n",
    "\n",
    "> $P(B | A) = \\frac{P(A | B)~ P(B)}{P(A)}$\n",
    "\n",
    "if $P(A) > 0$.\n"
   ]
  },
  {
   "cell_type": "markdown",
   "metadata": {},
   "source": [
    "Consider the following situation used typically in deciding on population wide testing of a low prevalence infectious disease such as HIV. Assume that the incidence rate in the population of 0.1%, that is, \n",
    "\n",
    "> $P(D) = 0.001$.  \n",
    "\n",
    "Consider a test that correctly diagnosis the disease 99% of the time, that is, \n",
    "\n",
    "> $P(+~|~D) = 0.99$, \n",
    "\n",
    "and that correctly diagnosis absence of disease 95% of the time, that is, \n",
    "\n",
    "> $P(- ~|~ \\not D) = 0.95$ and $P(+~|~ \\not D) = 0.05$.\n",
    "\n",
    "\n",
    "**If you get a positive test -- and in the absence of any other information -- what is the probability that you do have the disease?**\n",
    "\n",
    "> $P(D~ |~ +)$\n",
    "\n",
    "Let's unpack this probability\n",
    "\n",
    "> $P(D~ |~ +) = \\frac{P(+ ~|~ D)~ P(D)}{P(+)}$ \n",
    "\n",
    "> $~~~~~~~~~~~~~~~~  = \\frac{(0.99 * 0.001)}{P(+)}$\n",
    "\n",
    "> $~~~~~~~~~~~~~~~~  = \\frac{0.00099}{P(+)}$\n",
    "\n",
    "In order to calculate this, we need to obtain $P(+)$.\n",
    "\n",
    "> $P(+) = P(+ ~|~ D)~ P(D) + P(+~|~ \\not D )~ P(\\not D)$\n",
    "\n",
    "> $~~~~~~~~  = (0.99 * 0.001) + (0.05 * 0.999) = 0.05094$\n",
    "\n",
    "and it follows that \n",
    "\n",
    "> $P(D~ |~ +) = 0.0194$\n",
    "\n",
    "**Less than 2%!**"
   ]
  },
  {
   "cell_type": "code",
   "execution_count": null,
   "metadata": {},
   "outputs": [],
   "source": []
  }
 ],
 "metadata": {
  "kernelspec": {
   "display_name": "Python 3",
   "language": "python",
   "name": "python3"
  },
  "language_info": {
   "codemirror_mode": {
    "name": "ipython",
    "version": 3
   },
   "file_extension": ".py",
   "mimetype": "text/x-python",
   "name": "python",
   "nbconvert_exporter": "python",
   "pygments_lexer": "ipython3",
   "version": "3.8.5"
  },
  "latex_envs": {
   "LaTeX_envs_menu_present": true,
   "autoclose": false,
   "autocomplete": true,
   "bibliofile": "biblio.bib",
   "cite_by": "apalike",
   "current_citInitial": 1,
   "eqLabelWithNumbers": true,
   "eqNumInitial": 1,
   "hotkeys": {
    "equation": "Ctrl-E",
    "itemize": "Ctrl-I"
   },
   "labels_anchors": false,
   "latex_user_defs": false,
   "report_style_numbering": false,
   "user_envs_cfg": false
  },
  "toc": {
   "base_numbering": 1,
   "nav_menu": {},
   "number_sections": true,
   "sideBar": true,
   "skip_h1_title": false,
   "title_cell": "Table of Contents",
   "title_sidebar": "Contents",
   "toc_cell": false,
   "toc_position": {
    "height": "calc(100% - 180px)",
    "left": "10px",
    "top": "150px",
    "width": "165px"
   },
   "toc_section_display": true,
   "toc_window_display": true
  },
  "varInspector": {
   "cols": {
    "lenName": 16,
    "lenType": 16,
    "lenVar": 40
   },
   "kernels_config": {
    "python": {
     "delete_cmd_postfix": "",
     "delete_cmd_prefix": "del ",
     "library": "var_list.py",
     "varRefreshCmd": "print(var_dic_list())"
    },
    "r": {
     "delete_cmd_postfix": ") ",
     "delete_cmd_prefix": "rm(",
     "library": "var_list.r",
     "varRefreshCmd": "cat(var_dic_list()) "
    }
   },
   "types_to_exclude": [
    "module",
    "function",
    "builtin_function_or_method",
    "instance",
    "_Feature"
   ],
   "window_display": false
  }
 },
 "nbformat": 4,
 "nbformat_minor": 2
}
