{
 "cells": [
  {
   "cell_type": "code",
   "execution_count": 4,
   "metadata": {
    "ExecuteTime": {
     "end_time": "2022-02-19T21:45:26.344398Z",
     "start_time": "2022-02-19T21:45:22.909196Z"
    }
   },
   "outputs": [],
   "source": [
    "import matplotlib.pyplot as plt\n",
    "import numpy as np\n",
    "import pandas as pd\n",
    "import scipy.stats as stats\n",
    "\n",
    "from copy import copy\n",
    "from operator import itemgetter\n",
    "from matplotlib import gridspec\n",
    "from pathlib import Path\n",
    "\n",
    "from My_libraries.my_stats import half_frame\n",
    "# from my_stats import half_frame"
   ]
  },
  {
   "cell_type": "markdown",
   "metadata": {},
   "source": [
    "# Probabilities of events for discrete random variables\n",
    "\n",
    "\n",
    "## Single variable processes\n",
    "\n",
    "Let us consider a process that generates a discrete random variable such as rolling a die. The **sample space** for this process is \n",
    "\n",
    "> S = {1, 2, 3, 4, 5, 6}\n",
    "\n",
    "And each of the possible outcomes is the samples space is **equiprobable**. That is, $P(k) = 1/6$.\n",
    "\n",
    "All the **axioms of probability** are verified for this case. For example: \n",
    "\n",
    "1. $P(k) = 1/6 > 0~~~~~~~~$ for all $k \\in S$\n",
    "\n",
    "\n",
    "2. $\\sum_{k = 1}^6 P(k) = 6 \\times 1/6 = 1$\n",
    "\n",
    "\n",
    "3. $P(k \\in \\{1, 2\\}) = P(k=1) + P(k=2)$\n",
    "\n",
    "\n",
    "And we can also see that corollaries derived from these axioms are also verifiable: \n",
    "\n",
    "1. $P(k = 0) = P(k \\notin S) = 0$\n",
    "\n",
    "\n",
    "2. $P(S - \\{2\\}) = 1 - P(k = 2) = 5/6$\n",
    "\n",
    "\n",
    "3. $P(k \\in \\{1, 2 \\}) = 2/6 \\le P(k \\in \\{1, 2, 3\\}) = 1/2$\n",
    "\n",
    "\n",
    "\n"
   ]
  },
  {
   "cell_type": "markdown",
   "metadata": {},
   "source": [
    "## Exercise\n",
    "\n",
    "Write code that generates samples that are like rolling a single die many times.\n",
    "\n",
    "Then, write code that will generate a histogram from the sample, determine the mean and standard deviation of those samples and write their values in the plot."
   ]
  },
  {
   "cell_type": "code",
   "execution_count": 28,
   "metadata": {
    "ExecuteTime": {
     "end_time": "2022-02-21T20:43:39.366943Z",
     "start_time": "2022-02-21T20:43:39.169636Z"
    }
   },
   "outputs": [
    {
     "data": {
      "image/png": "[encoded data removed]",
      "text/plain": [
       "<Figure size 432x288 with 1 Axes>"
      ]
     },
     "metadata": {
      "needs_background": "light"
     },
     "output_type": "display_data"
    }
   ],
   "source": [
    "N = 50\n",
    "\n",
    "# Generate sample from uniform between 1-6\n",
    "sample = stats.randint.rvs(1, 7, size = N)\n",
    "\n",
    "# Calculate mean, std dev, and histogram and plot it\n",
    "mean = np.mean(sample)\n",
    "st_dev = np.std(sample)\n",
    "\n",
    "fig = plt.figure( figsize = (6, 4) )\n",
    "ax = fig.add_subplot(111)\n",
    "\n",
    "half_frame(ax, 'k', 'Probability', font_size = 15)\n",
    "plt.hist(sample, 6, density = True)\n",
    "\n",
    "# Beautify graph\n",
    "ax.text(6.5, 0.25, f\"mean = {mean: .1f}\", fontsize = 18)\n",
    "\n",
    "\n",
    "plt.show()"
   ]
  },
  {
   "cell_type": "markdown",
   "metadata": {},
   "source": [
    "## Multiple variable processes\n",
    "\n",
    "Let us consider a generalization of the process described above by considering that we roll several dice at the same time. If we roll 2 dice, then the **sample space** is \n",
    "\n",
    "> S = {1, 2, 3, 4, 5, 6} $\\times$ {1, 2, 3, 4, 5, 6} = { 11, 12, 13, 14, 15, 16, 21, ..., 65, 66}\n",
    "\n",
    "And each of the possible outcomes is the samples space is **equiprobable**. That is, $P(kl) = 1/36$.\n",
    "\n",
    "All the **axioms of probability** are verified for this case. For example: \n",
    "\n",
    "1. $P(kl) = 1/36 > 0~~~~~~~$ for all $kl \\in S$\n",
    "\n",
    "\n",
    "2. $\\sum_{k = 1}^6 \\sum_{l = 1}^6 P(kl) = \\sum_{k = 1}^6 6 \\times 1/36 = 6 \\times 1/6 = 1$\n",
    "\n",
    "\n",
    "3. $P(kl \\in \\{11, 22\\}) = P(kl =11) + P(kl=22)$\n",
    "\n",
    "\n",
    "And so on.\n",
    "\n",
    "\n",
    "## Exercise\n",
    "\n",
    "Write code that generates samples that are like rolling two dice many times.\n",
    "\n",
    "Then, write code that will generate a histogram from the sample, determine the mean and standard deviation of those samples and write their values in the plot."
   ]
  },
  {
   "cell_type": "code",
   "execution_count": 30,
   "metadata": {
    "ExecuteTime": {
     "end_time": "2022-02-21T20:50:05.010749Z",
     "start_time": "2022-02-21T20:50:04.993437Z"
    }
   },
   "outputs": [
    {
     "name": "stdout",
     "output_type": "stream",
     "text": [
      "[(3, 1), (5, 4), (3, 5), (2, 2), (6, 2), (1, 1), (4, 1), (1, 2), (6, 4), (5, 4), (4, 2), (5, 2), (5, 6), (1, 2), (6, 5), (3, 6), (6, 1), (2, 5), (5, 2), (4, 5), (4, 2), (4, 2), (2, 5), (5, 5), (5, 1), (4, 6), (1, 6), (5, 3), (1, 5), (6, 4), (5, 1), (1, 2), (3, 4), (6, 2), (4, 6), (2, 5), (6, 4), (4, 6), (4, 5), (4, 3), (3, 1), (2, 4), (3, 4), (2, 1), (6, 4), (2, 2), (5, 2), (6, 1), (2, 2), (3, 5)]\n"
     ]
    }
   ],
   "source": [
    "N = 50\n",
    "sample1 = stats.randint.rvs(1, 7, size = N)\n",
    "sample2 = stats.randint.rvs(1, 7, size = N)\n",
    "sample = list(zip(sample1, sample2))\n",
    "print(sample)"
   ]
  },
  {
   "cell_type": "markdown",
   "metadata": {},
   "source": [
    "## More 'interesting' events\n",
    "\n",
    "When a process is multivariable, this gives rise to the opportunity to define more interesting events.  For example, when dealing with rolling of multiple dice, one can ask about the sum of the points of the dice.\n",
    "\n",
    "Consider for example, the event $ E = $ `sum of points from 2 dice is 5`. What is its probability? In order to answer this, we need to enumerate the set of elementary events (we could also call them micro-states) that give rise to the specific event (we could also call it a macro-state).  That is:\n",
    "\n",
    "> $E = \\{ 14, 23, 32, 41\\}$\n",
    "\n",
    "So, \n",
    "\n",
    "> $P(E) = P(\\{ 14, 23, 32, 41\\}) = 4 \\times 1/36 = 1/9$\n",
    "\n",
    "\n",
    "## Exercises\n",
    "\n",
    "Can you calculate the probability of `sum of points from 2 dice is even`?\n",
    "\n",
    "What about the probability that the probability that `one die is a 3 and the sum of points from 2 dice is even`?  "
   ]
  },
  {
   "cell_type": "code",
   "execution_count": 39,
   "metadata": {
    "ExecuteTime": {
     "end_time": "2022-02-21T21:08:49.629051Z",
     "start_time": "2022-02-21T21:08:49.619324Z"
    }
   },
   "outputs": [
    {
     "name": "stdout",
     "output_type": "stream",
     "text": [
      "18\n"
     ]
    }
   ],
   "source": [
    "counter = 0\n",
    "for die_1 in range(1, 7):\n",
    "    for die_2 in range(1, 7):\n",
    "        my_sum = die_1 + die_2\n",
    "        if my_sum % 2 == 0:\n",
    "            counter += 1\n",
    "            \n",
    "print(counter)"
   ]
  },
  {
   "cell_type": "code",
   "execution_count": 40,
   "metadata": {
    "ExecuteTime": {
     "end_time": "2022-02-21T21:13:42.664853Z",
     "start_time": "2022-02-21T21:13:42.646665Z"
    }
   },
   "outputs": [
    {
     "name": "stdout",
     "output_type": "stream",
     "text": [
      "5\n"
     ]
    }
   ],
   "source": [
    "counter = 0\n",
    "die_3 = 3\n",
    "for die_1 in range(1, 7):\n",
    "    for die_2 in range(1, 7):\n",
    "        my_sum = die_1 + die_2\n",
    "        if my_sum % 2 == 0 and (die_1 == 3 or die_2 == 3):\n",
    "            counter += 1\n",
    "            \n",
    "print(counter)"
   ]
  },
  {
   "cell_type": "markdown",
   "metadata": {},
   "source": [
    "# Probabilities of events for continuous random variables\n",
    "\n",
    "\n",
    "## Single variable processes\n",
    "\n",
    "Let us consider a process that generates a random variable such as time for a radioactive nucleus to decay. The **sample space** for this process is \n",
    "\n",
    "> S = [0, $\\infty$] \n",
    "\n",
    "The probability density function for this process is not uniform, but instead decays as an exponential:\n",
    "\n",
    "> $f(t; \\lambda) = \\lambda e^{- \\lambda t}~~~~~~~$ where $\\lambda > 0$\n",
    "\n",
    "\n",
    "All the **axioms of probability** are verified for this case. For example: \n",
    "\n",
    "1. $f(t; \\lambda) > 0~~~~~~~$ for all $t \\ge 0$\n",
    "\n",
    "\n",
    "2. $\\int_{0}^{\\infty} ~dt ~f(t; \\lambda) = [- e^{- \\lambda t}]_{t = 0}^{t = \\infty} = -(0-1) = 1$\n",
    "\n",
    "\n",
    "3. $P(t \\in [1, 2]) = \\int_{x = 1}^{2} ~dt ~f(t; \\lambda)  = [- e^{- \\lambda t}]_{t = 1}^{t = 2} = e^{-\\lambda} - e^{-2\\lambda}$\n"
   ]
  },
  {
   "cell_type": "markdown",
   "metadata": {},
   "source": [
    "## Exercise\n",
    "\n",
    "Write code that generates samples that are observing the decay of a single nucleus many times.\n",
    "\n",
    "Then, write code that will generate a histogram from the sample, determine the mean and standard deviation of those samples and write their values in the plot."
   ]
  },
  {
   "cell_type": "code",
   "execution_count": null,
   "metadata": {},
   "outputs": [],
   "source": []
  },
  {
   "cell_type": "code",
   "execution_count": null,
   "metadata": {},
   "outputs": [],
   "source": []
  },
  {
   "cell_type": "markdown",
   "metadata": {},
   "source": [
    "## Multiple variable processes\n",
    "\n",
    "Let us consider a generalization of the process described above by considering a process where we are following multiple radioactive nuclei of the same species. If we consider 2  nuclei, then the **sample space** is \n",
    "\n",
    "> S = $[0, \\infty] \\times [0, \\infty]$ \n",
    "\n",
    "The probability density function for this process is not uniform. If the nuclei can be assumed to decay independently, then the probability density function that nucleus 1 decays at time $t_1$ and nucleus 2 decays at time $t_2$ is\n",
    "\n",
    "> $f(t_1, t_2; \\lambda) = \\lambda^2 ~ e^{-\\lambda~(t_1 + t_2)}~~~~~$ where $\\lambda > 0$\n",
    "\n",
    "All the **axioms of probability** are verified for this case. For example: \n",
    "\n",
    "1. $f(t_1, t_2; \\lambda) > 0~~~~~~$ for all $t_1 \\ge 0$ and all $t_2 > 0$\n",
    "\n",
    "\n",
    "2. $\\int_{0}^{\\infty}~dt_1 ~\\int_{0}^{\\infty}~dt_2 ~f(t_1, t_2; \\lambda) = 1~~~~~~~~$ (Show this)\n",
    "\n",
    "\n",
    "3. $P((t_1, t_2) \\in [1, 2]\\times [1, 2]) = \\int_{1}^{2} ~dt_1 ~\\int_{1}^{2}~dt_2 ~ f(t_1, t_2; \\lambda) =  ( e^{-\\lambda} - e^{-2\\lambda} )^2$\n",
    "\n",
    "\n",
    "And so on.\n",
    "\n",
    "\n",
    "## Exercise\n",
    "\n",
    "Write code that generates samples that are like observing the decays of many nuclei.\n",
    "\n",
    "Then, write code that will generate a histogram from the sample, determine the mean and standard deviation of those samples and write their values in the plot."
   ]
  },
  {
   "cell_type": "code",
   "execution_count": null,
   "metadata": {},
   "outputs": [],
   "source": []
  },
  {
   "cell_type": "markdown",
   "metadata": {},
   "source": [
    "## More 'interesting' events\n",
    "\n",
    "You have heard of Schroedinger's cat.  The idea is that a cat is in a box, and there is a radioactive nucleus that, it it decays, releases a poison that kills the cat.  To make things more interesting, we will consider a case in which there are two radioactive nuclei in the box, and that both need to decay in order for the poison to be release.  So, we want to determine the probability (density) that the cat dies at time $t$.\n",
    "\n",
    "As for the discrete examples in Section 1, we need to enumerate the set of elementary events (we could also call them micro-states) that give rise to the specific event (we could also call it a macro-state). Let us assume first that nucleus 1 decays last. What is the set of micro-states given by $(t_1, t_2)$ that contributes to this macro-state (t)?\n",
    "\n",
    "> $E_1 = \\{t_1 = t~~$ and $~~t_2 \\in [0, t]\\}$\n",
    "\n",
    "So, \n",
    "\n",
    "> $p(E_1) = f(t_1 = t; \\lambda) ~\\int_0^t ~dt_2 ~f(t_2; \\lambda) = \\lambda~e^{-\\lambda t}~(1- e^{-\\lambda t})$\n",
    "\n",
    "But we need to consider also the possibility that nucleus 2 decays last.  This event, $E_2$, has the same probability as $E_1$, so the final probability is just double $p(E_1)$.\n",
    "\n",
    "Let's see what this function looks like:  "
   ]
  },
  {
   "cell_type": "code",
   "execution_count": 10,
   "metadata": {
    "ExecuteTime": {
     "end_time": "2022-02-19T21:51:13.908044Z",
     "start_time": "2022-02-19T21:51:13.707126Z"
    }
   },
   "outputs": [
    {
     "data": {
      "image/png": "[encoded data removed]",
      "text/plain": [
       "<Figure size 432x288 with 1 Axes>"
      ]
     },
     "metadata": {
      "needs_background": "light"
     },
     "output_type": "display_data"
    }
   ],
   "source": [
    "lamb = 1.\n",
    "t = np.arange(0, 5*lamb, 0.01*lamb)\n",
    "f_t = lamb * np.exp(-lamb*t)\n",
    "p_E = 2 * lamb * np.exp(-lamb*t) * (1 - np.exp(-lamb*t))\n",
    "\n",
    "my_font_size = 15\n",
    "fig = plt.figure( figsize = (6, 4) )\n",
    "\n",
    "ax = fig.add_subplot(1,1,1)\n",
    "half_frame(ax, '$t$', 'Probability density', font_size = my_font_size)\n",
    "\n",
    "ax.plot(t, f_t, 'r-', lw = 2, label = 'exponential')\n",
    "ax.plot(t, p_E, 'g-', lw = 2, label = 'exponential')\n",
    "\n",
    "plt.show()"
   ]
  },
  {
   "cell_type": "markdown",
   "metadata": {},
   "source": [
    "## Exercises\n",
    "\n",
    "1. Calculate the probability that the cat stays alive **up to** time $t$ for the case of a single nucleus and for the case of two nuclei.\n",
    "\n",
    "\n",
    "2. Determine how long you have to wait until you are 95% confident that the cat is death.\n",
    "\n",
    "\n",
    "3. Consider the case in which there are two nuclei, but now that instead of both having to decay, it is sufficient for one of them to decay in order for the poison to be released.  Calculate the probability (density) that the poison is released at time $t$ and the probability that the poison is not released by time $t$. \n",
    "\n",
    "\n",
    "4. Consider the case in which there are $N = 100$ nuclei.  What is the probability (density) that 50 of them decay in the time interval [0, 1]?"
   ]
  },
  {
   "cell_type": "code",
   "execution_count": null,
   "metadata": {},
   "outputs": [],
   "source": []
  },
  {
   "cell_type": "code",
   "execution_count": null,
   "metadata": {},
   "outputs": [],
   "source": []
  },
  {
   "cell_type": "code",
   "execution_count": null,
   "metadata": {},
   "outputs": [],
   "source": []
  },
  {
   "cell_type": "code",
   "execution_count": null,
   "metadata": {},
   "outputs": [],
   "source": []
  },
  {
   "cell_type": "code",
   "execution_count": null,
   "metadata": {},
   "outputs": [],
   "source": []
  },
  {
   "cell_type": "markdown",
   "metadata": {},
   "source": [
    "# Transformation of random variables\n",
    "\n",
    "PETA has complained that we have to stop killing Schroedinger's cats.  In order to give the cats a better chance of survival, we do not start with a killing dose of poison in the case, but instead increase the amount of poison linearly from zero at a rate $r$ with time.  When the nucleus decays, we both stop the flow of poison to the case and release the poison in the case. What is the probability that the cat receives a dose $d$ of poison?\n",
    "\n",
    "The dose of poison increases with time as \n",
    "\n",
    "> $\\delta = rt~~~~~~~~$ with $r > 0$\n",
    "\n",
    "and we know that the probability of the decay occurring at time $t$ is \n",
    "\n",
    "> $f(t; \\lambda) = \\lambda ~e^{-\\lambda t}$\n",
    "\n",
    "We can use these two expression to determine $f_p(\\delta; r, \\lambda)$. The basic idea is that\n",
    "\n",
    "> $f(t; \\lambda)~dt = f_p(\\delta; r, \\lambda) ~d\\delta$\n",
    "\n",
    "that is\n",
    "\n",
    "> $f_p(\\delta; r, \\lambda) = f(t(\\delta); \\lambda) \\frac{dt(\\delta)}{d\\delta}$\n",
    "\n",
    "> $f_p(\\delta; r, \\lambda) = \\lambda ~e^{-\\lambda \\delta / r} ~1/r = \\frac{\\lambda}{r}~e^{-\\lambda \\delta / r}$\n",
    "\n",
    "\n",
    "If $\\delta \\ge 3$ is a lethal dose, how should $r$ be adjusted to only kill the cat in half of our experiments?"
   ]
  },
  {
   "cell_type": "code",
   "execution_count": null,
   "metadata": {},
   "outputs": [],
   "source": []
  }
 ],
 "metadata": {
  "kernelspec": {
   "display_name": "Python 3",
   "language": "python",
   "name": "python3"
  },
  "language_info": {
   "codemirror_mode": {
    "name": "ipython",
    "version": 3
   },
   "file_extension": ".py",
   "mimetype": "text/x-python",
   "name": "python",
   "nbconvert_exporter": "python",
   "pygments_lexer": "ipython3",
   "version": "3.8.5"
  },
  "latex_envs": {
   "LaTeX_envs_menu_present": true,
   "autoclose": false,
   "autocomplete": true,
   "bibliofile": "biblio.bib",
   "cite_by": "apalike",
   "current_citInitial": 1,
   "eqLabelWithNumbers": true,
   "eqNumInitial": 1,
   "hotkeys": {
    "equation": "Ctrl-E",
    "itemize": "Ctrl-I"
   },
   "labels_anchors": false,
   "latex_user_defs": false,
   "report_style_numbering": false,
   "user_envs_cfg": false
  },
  "toc": {
   "base_numbering": 1,
   "nav_menu": {},
   "number_sections": true,
   "sideBar": true,
   "skip_h1_title": false,
   "title_cell": "Table of Contents",
   "title_sidebar": "Contents",
   "toc_cell": false,
   "toc_position": {
    "height": "calc(100% - 180px)",
    "left": "10px",
    "top": "150px",
    "width": "165px"
   },
   "toc_section_display": true,
   "toc_window_display": true
  },
  "varInspector": {
   "cols": {
    "lenName": 16,
    "lenType": 16,
    "lenVar": 40
   },
   "kernels_config": {
    "python": {
     "delete_cmd_postfix": "",
     "delete_cmd_prefix": "del ",
     "library": "var_list.py",
     "varRefreshCmd": "print(var_dic_list())"
    },
    "r": {
     "delete_cmd_postfix": ") ",
     "delete_cmd_prefix": "rm(",
     "library": "var_list.r",
     "varRefreshCmd": "cat(var_dic_list()) "
    }
   },
   "types_to_exclude": [
    "module",
    "function",
    "builtin_function_or_method",
    "instance",
    "_Feature"
   ],
   "window_display": false
  }
 },
 "nbformat": 4,
 "nbformat_minor": 2
}
