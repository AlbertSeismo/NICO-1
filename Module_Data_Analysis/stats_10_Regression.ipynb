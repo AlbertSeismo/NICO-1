{
 "cells": [
  {
   "cell_type": "code",
   "execution_count": 1,
   "metadata": {
    "ExecuteTime": {
     "end_time": "2022-03-07T20:17:45.597163Z",
     "start_time": "2022-03-07T20:17:41.045130Z"
    }
   },
   "outputs": [],
   "source": [
    "import matplotlib.pyplot as plt\n",
    "import numpy as np\n",
    "import pandas as pd\n",
    "import scipy.stats as stats\n",
    "import statsmodels.formula.api as smf\n",
    "\n",
    "from copy import copy\n",
    "from matplotlib import gridspec\n",
    "from pathlib import Path\n",
    "from random import sample, choice, choices\n",
    "\n",
    "from My_libraries.my_stats import half_frame\n",
    "# from my_stats import half_frame\n",
    "\n",
    "my_font_size = 15"
   ]
  },
  {
   "cell_type": "markdown",
   "metadata": {},
   "source": [
    "# Regression\n",
    "\n",
    "Science and engineering are about obtaining associations between multiple variables. For example, the ideal gas law relates several quantities that can be measured on a gas sample:\n",
    "\n",
    "> $~~~~~~ PV = n R T$\n",
    "\n",
    "for constant volume and number of moles, the equation becomes a simple linear relationship between pressure and temperature\n",
    "\n",
    "> $~~~~~~ P = a T$\n",
    "\n",
    "You can imagine a situation in which some 16th Century experimental physicist was trying to determine whether there is an association between $P$ and $T$ and making noisy measurements of these two quantities.\n",
    "\n",
    "Regression analysis  is a statistical approach that is used to investigate for the existence of linear associations such as the ones described above. The basic assumption of regression analysis is that \n",
    "\n",
    "> $~~~~~~~ y_i = \\beta_0 + \\beta_1 x_i + \\epsilon_i$  \n",
    "\n",
    "So, \n",
    "\n",
    "> $~~~~~~~ \\epsilon_i = y_i - \\beta_0 - \\beta_1 x_i$\n",
    "\n",
    "where $\\epsilon$ is assumed to be i.i.d. normal variables with zero mean and standard deviation $\\sigma$.\n",
    "\n",
    "If we fix the value of $X$, then we can write that\n",
    "\n",
    "> $~~~~~~~ E[Y|X = x] = \\beta_0 + \\beta_1 x + E[\\epsilon_i] = \\beta_0 + \\beta_1 x$\n",
    "\n",
    "and that\n",
    "\n",
    "> $~~~~~~~ E\\left[(Y - E[Y|X = x])^2 ~| ~X = x \\right] = E[(\\epsilon_i - 0)^2] = \\sigma^2$\n",
    "\n",
    ".\n",
    "\n",
    ".\n",
    "\n",
    ".\n",
    "\n",
    ".\n",
    "\n"
   ]
  },
  {
   "cell_type": "markdown",
   "metadata": {},
   "source": [
    "# Least squares estimation\n",
    "\n",
    "If we have data, $\\{x_i\\}$ and $\\{y_i\\}$, and want to estimate $\\beta_0$ and $\\beta_1$, we can accomplish it by minimizing the squared differences of the data to our linear model.\n",
    "\n",
    "> $~~~~~~~ L = \\sum^n_{i = 1} \\epsilon_i ^2 = \\sum^n_{i = 1} \\left( y_i - \\beta_0 - \\beta_1 x_i \\right)^2$\n",
    "\n",
    "The minimization process yields the solutions:\n",
    "\n",
    "> $~~~~~~~ \\hat \\beta_1 = \\frac{\\bar{xy} - \\frac{\\bar x ~\\bar y}{n}}{\\bar{ x^2 } - \\frac{\\bar x ^2}{n}}$\n",
    "\n",
    "> $~~~~~~~ \\hat \\beta_0 = \\bar y - \\beta_1 \\bar x$\n",
    "\n",
    "And $e_i = y_i - \\hat \\beta_0 - \\hat \\beta_1 x_i$ is denoted as the **residual of the fit of the model to the data**.  "
   ]
  },
  {
   "cell_type": "code",
   "execution_count": 5,
   "metadata": {
    "ExecuteTime": {
     "end_time": "2022-03-07T20:54:02.603913Z",
     "start_time": "2022-03-07T20:54:02.566318Z"
    }
   },
   "outputs": [
    {
     "name": "stdout",
     "output_type": "stream",
     "text": [
      "results is a <class 'statsmodels.regression.linear_model.RegressionResultsWrapper'>\n",
      "\n",
      "\n",
      "results.params is a <class 'pandas.core.series.Series'>\n",
      "\n",
      "Intercept   -0.985817\n",
      "X            0.764549\n",
      "dtype: float64\n",
      "\n",
      "\n"
     ]
    }
   ],
   "source": [
    "# Set parameters and define noises\n",
    "n = 20\n",
    "beta_0, beta_1 = -1.0, 1.0\n",
    "sigma_y = 0.20\n",
    "\n",
    "# Set to zero if no undertainty in x measurement\n",
    "# sigma_x = sigma_y / 10\n",
    "sigma_x = 0.0\n",
    "\n",
    "# Generate noise terms for y and x variables\n",
    "x_noise = stats.norm.rvs(0, sigma_x, n+1)\n",
    "y_noise = stats.norm.rvs(0, sigma_y, n+1)\n",
    "\n",
    "\n",
    "# Create data points for variables\n",
    "#\n",
    "x = np.linspace(0, 1., n+1)\n",
    "y = beta_0 + beta_1 * x + y_noise\n",
    "x = x + x_noise\n",
    "\n",
    "# Place data into dataframe\n",
    "#\n",
    "df = pd.DataFrame(list(zip(x, y)), columns=['X', 'Y'])\n",
    "\n",
    "model = smf.ols(formula = 'Y ~ X ', data = df)\n",
    "results = model.fit()\n",
    "print(f\"results is a {type(results)}\\n\\n\")\n",
    "print(f\"results.params is a {type(results.params)}\\n\")\n",
    "print(f\"{results.params}\\n\\n\")\n"
   ]
  },
  {
   "cell_type": "code",
   "execution_count": 6,
   "metadata": {
    "ExecuteTime": {
     "end_time": "2022-03-07T20:54:04.476562Z",
     "start_time": "2022-03-07T20:54:04.441670Z"
    }
   },
   "outputs": [
    {
     "name": "stdout",
     "output_type": "stream",
     "text": [
      "results.summary() is a <class 'statsmodels.iolib.summary.Summary'>\n",
      "\n",
      "\n",
      "                            OLS Regression Results                            \n",
      "==============================================================================\n",
      "Dep. Variable:                      Y   R-squared:                       0.631\n",
      "Model:                            OLS   Adj. R-squared:                  0.611\n",
      "Method:                 Least Squares   F-statistic:                     32.47\n",
      "Date:                Mon, 07 Mar 2022   Prob (F-statistic):           1.71e-05\n",
      "Time:                        14:54:04   Log-Likelihood:                 6.5590\n",
      "No. Observations:                  21   AIC:                            -9.118\n",
      "Df Residuals:                      19   BIC:                            -7.029\n",
      "Df Model:                           1                                         \n",
      "Covariance Type:            nonrobust                                         \n",
      "==============================================================================\n",
      "                 coef    std err          t      P>|t|      [0.025      0.975]\n",
      "------------------------------------------------------------------------------\n",
      "Intercept     -0.9858      0.078    -12.571      0.000      -1.150      -0.822\n",
      "X              0.7645      0.134      5.699      0.000       0.484       1.045\n",
      "==============================================================================\n",
      "Omnibus:                        0.635   Durbin-Watson:                   1.786\n",
      "Prob(Omnibus):                  0.728   Jarque-Bera (JB):                0.352\n",
      "Skew:                          -0.307   Prob(JB):                        0.839\n",
      "Kurtosis:                       2.839   Cond. No.                         4.19\n",
      "==============================================================================\n",
      "\n",
      "Notes:\n",
      "[1] Standard Errors assume that the covariance matrix of the errors is correctly specified.\n"
     ]
    }
   ],
   "source": [
    "print(f\"results.summary() is a {type(results.summary())}\\n\\n\")\n",
    "print(results.summary())\n"
   ]
  },
  {
   "cell_type": "markdown",
   "metadata": {},
   "source": [
    "## The values on the right side of the top section deal with the quality of the fit\n",
    "\n",
    "The **F-test** is used, in this context, to decide whether a linear model fits the data significantly better than does a naive model, in which the only explanatory term is the intercept term. \n",
    "\n",
    "A **p-value for the F-statistic** smaller than a specified threshold will enables to reject the hypothesis that the simpler model is equally able to explain the data.\n",
    "\n",
    "The **AIC** and the **BIC** are similarly used to quantify the appropriateness of different models.\n",
    "\n",
    "The **$R^2$** value measures what proportion of the variation in the outcome Y can be explained by the covariates/predictors. If $R^2$ is close to 1, it means that the covariates can jointly explain the variation in the outcome Y. This means Y can be accurately predicted (in some sense) using the covariates. Conversely, a low $R^2$ means Y is poorly predicted by the covariates. \n",
    "\n",
    "Unfortunately, the straightforward estimator of $R^2$ is biased. The magnitude of the bias will depend on how many observations are available to fit the model and how many covariates there are relative to this sample size. **The adjusted $R^2$ corrects for the bias**.\n"
   ]
  },
  {
   "cell_type": "markdown",
   "metadata": {},
   "source": [
    "## The values on the bottom section of the summary table concern the properties of the residuals. \n",
    "\n",
    "As you recall, the assumption is that the $\\epsilon$'s are Gaussian i.i.d. random variables.  **The skewness of Gaussian random variables is 0 and the kurtosis is 3**. \n",
    "\n",
    "The **Jarque–Bera** statistic provides a way to quantify whether the skewness and kurtosis are  close to the expectation for a Gaussian distribution.  The test statistic is always **nonnegative**. **If it is far from zero, it signals the data do not have a normal distribution**. \n",
    "\n",
    "The **Durbin-Watson statistic** is a test for **autocorrelation** in the residuals from a statistical regression analysis. The Durbin-Watson statistic will always have a value between 0 and 4. **A value of 2.0 means that there is no autocorrelation detected in the sample**. Values from 0 to less than 2 indicate positive autocorrelation and values from from 2 to 4 indicate negative autocorrelation. The table shows that DW approximately 2, so there appear to be no correlations in the residuals.\n"
   ]
  },
  {
   "cell_type": "markdown",
   "metadata": {},
   "source": [
    "## Visualizing the fit"
   ]
  },
  {
   "cell_type": "code",
   "execution_count": 7,
   "metadata": {
    "ExecuteTime": {
     "end_time": "2022-03-07T20:54:08.589302Z",
     "start_time": "2022-03-07T20:54:08.296119Z"
    }
   },
   "outputs": [
    {
     "data": {
      "image/png": "[encoded data removed]",
      "text/plain": [
       "<Figure size 432x324 with 1 Axes>"
      ]
     },
     "metadata": {
      "needs_background": "light"
     },
     "output_type": "display_data"
    }
   ],
   "source": [
    "fig = plt.figure( figsize = (6, 4.5) )\n",
    "ax = fig.add_subplot(1,1,1)\n",
    "half_frame(ax, \"$X$\", \"$Y$\", font_size = my_font_size)\n",
    "\n",
    "# Plot data\n",
    "#\n",
    "ax.plot(x, y, 'ro', alpha = 0.9, label = 'data')\n",
    "\n",
    "# Plot true functional dependence\n",
    "#\n",
    "ax.plot(x, beta_0 + x * beta_1,  linewidth = 3, alpha = 0.5, color = 'g',\n",
    "          label = f'Model:  {beta_0:.2f} + {beta_1:.2f}x')\n",
    "\n",
    "# Plot linear fit\n",
    "#\n",
    "ax.plot( x, results.params[0] + x * results.params[1], \n",
    "         '--', color = 'k', linewidth = 4, alpha = 1, \n",
    "         label = \"OLS fit:  $\\\\beta_1 = $\" + f\"{results.params[1]:.3f}\" + \n",
    "         \" $\\pm$ \" + f\"{results.bse[1]:.3f}\")\n",
    "\n",
    "# Plot estimated noise component in data\n",
    "#\n",
    "ax.vlines(x, y, results.params[0] + x * results.params[1], color = 'b')\n",
    "\n",
    "# Format legend\n",
    "ax.legend(loc = (1.1, 0.5), frameon = False, markerscale = 1.6, fontsize = my_font_size)\n",
    "plt.show()"
   ]
  },
  {
   "cell_type": "markdown",
   "metadata": {},
   "source": [
    "The object returned by `model.fit()` enables us to access all values returned by `model.fit().summary()` by calling specific attributed.  For example, point estimates for the coefficients of the linear fit are accessible through the attribute `params` (see label in code cell above).\n",
    "\n",
    "A list of all attributes and methods can be found [here](https://www.statsmodels.org/0.8.0/generated/statsmodels.regression.linear_model.RegressionResults.html#statsmodels.regression.linear_model.RegressionResults).\n",
    "\n",
    "The standard errors for the coefficient estimates can be retrieved with the attribute `bse` and the confidence intervals can be retrieved with `conf_int`, which returns a pandas `dataframe`. "
   ]
  },
  {
   "cell_type": "code",
   "execution_count": 8,
   "metadata": {
    "ExecuteTime": {
     "end_time": "2022-03-07T20:56:02.235920Z",
     "start_time": "2022-03-07T20:56:02.220594Z"
    }
   },
   "outputs": [
    {
     "name": "stdout",
     "output_type": "stream",
     "text": [
      "results.conf_int() is a <class 'pandas.core.frame.DataFrame'>\n",
      "\n",
      "                  0         1\n",
      "Intercept -1.149955 -0.821678\n",
      "X          0.483741  1.045357\n",
      "\n",
      "Confidence interval for beta_1 is [0.484, 1.045]\n"
     ]
    }
   ],
   "source": [
    "print(f\"results.conf_int() is a {type(results.conf_int())}\\n\")\n",
    "print(results.conf_int())\n",
    "\n",
    "print(f\"\\nConfidence interval for beta_1 is [{results.conf_int()[0]['X']:.3f}, {results.conf_int()[1]['X']:.3f}]\" )"
   ]
  },
  {
   "cell_type": "code",
   "execution_count": 9,
   "metadata": {
    "ExecuteTime": {
     "end_time": "2022-03-07T20:56:34.389725Z",
     "start_time": "2022-03-07T20:56:34.357403Z"
    }
   },
   "outputs": [
    {
     "data": {
      "text/html": [
       "<div>\n",
       "<style scoped>\n",
       "    .dataframe tbody tr th:only-of-type {\n",
       "        vertical-align: middle;\n",
       "    }\n",
       "\n",
       "    .dataframe tbody tr th {\n",
       "        vertical-align: top;\n",
       "    }\n",
       "\n",
       "    .dataframe thead th {\n",
       "        text-align: right;\n",
       "    }\n",
       "</style>\n",
       "<table border=\"1\" class=\"dataframe\">\n",
       "  <thead>\n",
       "    <tr style=\"text-align: right;\">\n",
       "      <th></th>\n",
       "      <th>0</th>\n",
       "      <th>1</th>\n",
       "    </tr>\n",
       "  </thead>\n",
       "  <tbody>\n",
       "    <tr>\n",
       "      <th>Intercept</th>\n",
       "      <td>-1.210176</td>\n",
       "      <td>-0.761457</td>\n",
       "    </tr>\n",
       "    <tr>\n",
       "      <th>X</th>\n",
       "      <td>0.380715</td>\n",
       "      <td>1.148383</td>\n",
       "    </tr>\n",
       "  </tbody>\n",
       "</table>\n",
       "</div>"
      ],
      "text/plain": [
       "                  0         1\n",
       "Intercept -1.210176 -0.761457\n",
       "X          0.380715  1.148383"
      ]
     },
     "execution_count": 9,
     "metadata": {},
     "output_type": "execute_result"
    }
   ],
   "source": [
    "results.conf_int(alpha = 0.01) # Default is alpha = 0.05"
   ]
  },
  {
   "cell_type": "markdown",
   "metadata": {},
   "source": [
    "# Exploring impact of different types of association\n",
    "\n",
    "Consider the cases:\n",
    "\n",
    "1. $y = a + b~x^2~~~~~$ with $b \\ll 1$ and $x \\in [0,1]$\n",
    "\n",
    "2. $y = a + b~x + c~x^2~~~~~$ with $ b \\gg c$ and $x \\in [0,1]$\n",
    "\n",
    "1. $y = a + b~x^2~~~~~$ with $x \\in [0,1]$\n",
    "\n",
    "Now repeat the calculations shown above for each of those cases.  What can you learn?\n",
    "\n",
    "What about the case when $\\sigma_x \\approx \\sigma_y$?\n"
   ]
  },
  {
   "cell_type": "code",
   "execution_count": null,
   "metadata": {},
   "outputs": [],
   "source": []
  }
 ],
 "metadata": {
  "kernelspec": {
   "display_name": "Python 3",
   "language": "python",
   "name": "python3"
  },
  "language_info": {
   "codemirror_mode": {
    "name": "ipython",
    "version": 3
   },
   "file_extension": ".py",
   "mimetype": "text/x-python",
   "name": "python",
   "nbconvert_exporter": "python",
   "pygments_lexer": "ipython3",
   "version": "3.8.5"
  },
  "latex_envs": {
   "LaTeX_envs_menu_present": true,
   "autoclose": false,
   "autocomplete": true,
   "bibliofile": "biblio.bib",
   "cite_by": "apalike",
   "current_citInitial": 1,
   "eqLabelWithNumbers": true,
   "eqNumInitial": 1,
   "hotkeys": {
    "equation": "Ctrl-E",
    "itemize": "Ctrl-I"
   },
   "labels_anchors": false,
   "latex_user_defs": false,
   "report_style_numbering": false,
   "user_envs_cfg": false
  },
  "toc": {
   "base_numbering": 1,
   "nav_menu": {},
   "number_sections": true,
   "sideBar": true,
   "skip_h1_title": false,
   "title_cell": "Table of Contents",
   "title_sidebar": "Contents",
   "toc_cell": false,
   "toc_position": {
    "height": "calc(100% - 180px)",
    "left": "10px",
    "top": "150px",
    "width": "165px"
   },
   "toc_section_display": true,
   "toc_window_display": true
  },
  "varInspector": {
   "cols": {
    "lenName": 16,
    "lenType": 16,
    "lenVar": 40
   },
   "kernels_config": {
    "python": {
     "delete_cmd_postfix": "",
     "delete_cmd_prefix": "del ",
     "library": "var_list.py",
     "varRefreshCmd": "print(var_dic_list())"
    },
    "r": {
     "delete_cmd_postfix": ") ",
     "delete_cmd_prefix": "rm(",
     "library": "var_list.r",
     "varRefreshCmd": "cat(var_dic_list()) "
    }
   },
   "types_to_exclude": [
    "module",
    "function",
    "builtin_function_or_method",
    "instance",
    "_Feature"
   ],
   "window_display": false
  }
 },
 "nbformat": 4,
 "nbformat_minor": 2
}
