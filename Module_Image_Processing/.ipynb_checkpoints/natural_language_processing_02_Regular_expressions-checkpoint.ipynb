{
 "cells": [
  {
   "cell_type": "markdown",
   "metadata": {},
   "source": [
    "# Synopsis\n",
    "\n",
    "Frequently we are simply looking for specific words or phrases in a block of text and do not care about the rest of the text. However, sometimes we are intersted in a pattern of text (such as a phone number), where the format is consistent but the actual text itself changes. In this unit, we will learn:\n",
    "\n",
    "1. What a regular expression is\n",
    "2. Available functions in the `re` package\n",
    "3. How to identify and extract a text pattern in a large block of text.\n",
    "4. How to develop and test regular expressions"
   ]
  },
  {
   "cell_type": "markdown",
   "metadata": {},
   "source": [
    "# Read libraries and functions"
   ]
  },
  {
   "cell_type": "code",
   "execution_count": null,
   "metadata": {
    "ExecuteTime": {
     "end_time": "2022-07-20T20:46:45.695185Z",
     "start_time": "2022-07-20T20:46:44.520428Z"
    }
   },
   "outputs": [],
   "source": [
    "%load_ext autoreload\n",
    "%autoreload 2\n",
    "%matplotlib inline\n",
    "\n",
    "my_fontsize = 15"
   ]
  },
  {
   "cell_type": "code",
   "execution_count": null,
   "metadata": {
    "ExecuteTime": {
     "end_time": "2022-07-20T20:46:46.399652Z",
     "start_time": "2022-07-20T20:46:46.139067Z"
    }
   },
   "outputs": [],
   "source": [
    "import re\n",
    "\n",
    "import matplotlib.pyplot as plt\n",
    "import matplotlib.cm as cm\n",
    "import numpy as np\n",
    "import pandas as pd\n",
    "\n",
    "from collections import Counter\n",
    "from pathlib import Path\n",
    "from random import random\n",
    "from string import punctuation, whitespace"
   ]
  },
  {
   "cell_type": "markdown",
   "metadata": {},
   "source": [
    "# Regular Expressions\n",
    "\n",
    "[Regular expressions](https://en.wikipedia.org/wiki/Regular_expression) (or **regexes** in shorthand) are essentially a standalone scripting language.\n",
    "\n",
    "This is good because it means you will be able to use what you learn in other contexts.\n",
    "\n",
    "\n",
    "Regexes allow for searches of patterns that are not fixed but instead follow a particular set of rules.\n",
    "\n",
    "Imagine that you are looking for Northwestern's Helpline in a document.  Then you would search for `847-491-4357` or `(847) 491-4357`, or maybe even for `1-4357`. Yes, it is getting complicated...\n",
    "\n",
    "But what if you actually wanted to find **any** phone number in a document?\n",
    "\n",
    "Let's say that we use `d` to represent any digit 0-9.  Then, we are looking for patterns of the form `ddd-ddd-dddd` or `(ddd) ddd-dddd`\n",
    "\n",
    "Amazingly, regexes allow us to construct a generic compact text pattern that will then be matched through the entire text.  \n"
   ]
  },
  {
   "cell_type": "markdown",
   "metadata": {},
   "source": [
    "## Regular expressions in Python\n",
    "\n",
    "Methods for regular expressions in Python are implemented in the [`re` package](https://docs.python.org/3/library/re.html). There are a many functions, flags, and conventions.\n",
    "\n",
    "A few basic functions that we will use are:\n",
    "\n",
    "> `re.match()` : Determine if the RE matches at the beginning of the string.\n",
    "\n",
    ">  `re.search()` : Scan through a string, looking for any location where this RE matches.\n",
    "\n",
    "> `re.findall()` : Find all substrings where the RE matches, and returns them as a list.\n",
    "\n",
    "> `re.finditer()` : Find all substrings where the RE matches, and returns them as an iterator object.\n",
    "\n",
    "\n",
    "Some important conventions are:\n",
    "\n",
    "> `|` stands for `or`\n",
    "\n",
    "> '&' stands for `and`\n",
    "\n",
    "> `.` stands for any character except a new line\n",
    "\n",
    "> `^` stands for beginning of the string being searched\n",
    "\n",
    "> $ stands for end of the string or just before new line\n",
    "\n",
    "> \\ allows for escaping special characters, i.e., search for character that are used in conventions \n"
   ]
  },
  {
   "cell_type": "markdown",
   "metadata": {},
   "source": [
    "## A simple example with Othello\n",
    "\n",
    "Now, let's go over an example so this is less abstract. We'll start with something easy - making a direct match to an explicit string (my name) using all of the different `re` methods"
   ]
  },
  {
   "cell_type": "code",
   "execution_count": null,
   "metadata": {
    "ExecuteTime": {
     "end_time": "2022-07-20T20:46:50.295241Z",
     "start_time": "2022-07-20T20:46:50.241998Z"
    }
   },
   "outputs": [],
   "source": [
    "# Copied from previous notebook\n",
    "\n",
    "with open(Path.cwd().parent / 'Data' / 'NLP' / 'Shakespeare.txt', \n",
    "          'r', encoding= 'UTF-8') as file_in:\n",
    "    complete_works = file_in.readlines()\n",
    "    \n",
    "print(len(complete_works))"
   ]
  },
  {
   "cell_type": "code",
   "execution_count": null,
   "metadata": {
    "ExecuteTime": {
     "end_time": "2022-07-20T20:46:51.277933Z",
     "start_time": "2022-07-20T20:46:51.231026Z"
    }
   },
   "outputs": [],
   "source": [
    "# Copied from previous notebook\n",
    "\n",
    "found_start = False\n",
    "for i, line in enumerate(complete_works):\n",
    "    if line.strip() == 'THE TRAGEDY OF OTHELLO, MOOR OF VENICE':\n",
    "        print(f\"{i:>4} -- {line.strip()}\")\n",
    "        line_start = i\n",
    "        found_start = True\n",
    "        continue\n",
    "        \n",
    "    if found_start and line.strip() == 'THE END':\n",
    "        print(f\"{i:>4} -- {line.strip()}\")\n",
    "        line_end = i\n",
    "        break\n",
    "        \n",
    "the_play_othello = complete_works[line_start:line_end]\n",
    "\n",
    "print(f\"\\nThe play Othello has {len(the_play_othello)} lines.\\n\")\n",
    "\n",
    "# Put it all into a single string\n",
    "\n",
    "the_play = ''.join(the_play_othello)\n",
    "\n",
    "print(f\"\\nThe play Othello has {len(the_play)} characters.\\n\")"
   ]
  },
  {
   "cell_type": "code",
   "execution_count": null,
   "metadata": {
    "ExecuteTime": {
     "end_time": "2022-07-20T20:46:52.317248Z",
     "start_time": "2022-07-20T20:46:52.286132Z"
    }
   },
   "outputs": [],
   "source": [
    "print(the_play[:500])"
   ]
  },
  {
   "cell_type": "markdown",
   "metadata": {},
   "source": [
    "Ok, let's search for Othello"
   ]
  },
  {
   "cell_type": "code",
   "execution_count": null,
   "metadata": {
    "ExecuteTime": {
     "end_time": "2022-07-20T20:46:54.330998Z",
     "start_time": "2022-07-20T20:46:54.299866Z"
    }
   },
   "outputs": [],
   "source": [
    "print(re.match('Othello', the_play))\n",
    "print()\n",
    "\n",
    "print(re.match('OTHELLO', the_play))\n",
    "print()\n",
    "\n",
    "print(re.findall('Othello', the_play))\n",
    "print()\n",
    "\n",
    "print(re.search('Othello', the_play))\n",
    "print()\n",
    "\n",
    "print(re.search('OTHELLO', the_play))\n",
    "print()"
   ]
  },
  {
   "cell_type": "markdown",
   "metadata": {},
   "source": [
    ".\n",
    "\n",
    "\n",
    "`re.match` found no matches.  This is not surprising if you recall that it only attempts to match at the start of the string.\n",
    "\n",
    "`re.findall` found numerous matches.  This is not surprising since we expect the string Othello to appear frequently in the play.\n",
    "\n",
    "\n",
    "`re.search` did find matches and the capitalized version found a different match from the non-capitalized.  \n",
    "\n",
    "Each returned a single match as a `re.Match` object.  This is actually quite cool because a match object has all sorts of attributes!\n",
    "\n",
    "Let's look at them in detail.\n"
   ]
  },
  {
   "cell_type": "code",
   "execution_count": null,
   "metadata": {
    "ExecuteTime": {
     "end_time": "2022-07-20T20:46:55.917563Z",
     "start_time": "2022-07-20T20:46:55.884995Z"
    }
   },
   "outputs": [],
   "source": [
    "othello_match = re.search('Othello', the_play)\n",
    "help(othello_match)\n"
   ]
  },
  {
   "cell_type": "markdown",
   "metadata": {},
   "source": [
    "Great! `re.Match` object always have a Boolean value of `True`.\n",
    "\n",
    "They also have methods such as `.start()`, `.end()`, or `.span()`. \n",
    "\n",
    "Let's see what they are"
   ]
  },
  {
   "cell_type": "code",
   "execution_count": null,
   "metadata": {
    "ExecuteTime": {
     "end_time": "2022-07-20T20:46:57.419657Z",
     "start_time": "2022-07-20T20:46:57.384248Z"
    }
   },
   "outputs": [],
   "source": [
    "# Notice the print of a re.Match object already contains \n",
    "# important information\n",
    "print(othello_match)\n",
    "print()\n",
    "\n",
    "print(othello_match.span())\n",
    "print()\n",
    "\n",
    "print(othello_match.group())\n",
    "print()\n",
    "\n",
    "print(othello_match.start())\n",
    "print()\n",
    "\n",
    "print(othello_match.end())\n",
    "print()"
   ]
  },
  {
   "cell_type": "markdown",
   "metadata": {},
   "source": [
    "Those numbers are locators in the string, which we can use to look at the surrounding text"
   ]
  },
  {
   "cell_type": "code",
   "execution_count": null,
   "metadata": {
    "ExecuteTime": {
     "end_time": "2022-07-20T20:46:58.916257Z",
     "start_time": "2022-07-20T20:46:58.888383Z"
    }
   },
   "outputs": [],
   "source": [
    "the_play[177:184]"
   ]
  },
  {
   "cell_type": "code",
   "execution_count": null,
   "metadata": {
    "ExecuteTime": {
     "end_time": "2022-07-20T20:46:59.718468Z",
     "start_time": "2022-07-20T20:46:59.684287Z"
    }
   },
   "outputs": [],
   "source": [
    "the_play[othello_match.start()-20: othello_match.end()+20]"
   ]
  },
  {
   "cell_type": "markdown",
   "metadata": {},
   "source": [
    ".\n",
    "\n",
    "\n",
    "\n",
    "What about `re.finditer()`?"
   ]
  },
  {
   "cell_type": "code",
   "execution_count": null,
   "metadata": {
    "ExecuteTime": {
     "end_time": "2022-07-20T20:47:01.958156Z",
     "start_time": "2022-07-20T20:47:01.929495Z"
    }
   },
   "outputs": [],
   "source": [
    "print(re.finditer('Othello', the_play))\n",
    "print()"
   ]
  },
  {
   "cell_type": "markdown",
   "metadata": {},
   "source": [
    "Interesting! Notice the word `iterator` in there.  This suggests that `Python` is offering us a way to iterate through the results.\n",
    "\n",
    "As you will recall, we can do this using a `for` loop.\n"
   ]
  },
  {
   "cell_type": "code",
   "execution_count": null,
   "metadata": {
    "ExecuteTime": {
     "end_time": "2022-07-20T20:47:03.499169Z",
     "start_time": "2022-07-20T20:47:03.465883Z"
    }
   },
   "outputs": [],
   "source": [
    "for i, match_item in enumerate(re.finditer('Othello', the_play)):\n",
    "    print(f\"{i:>3} -- {match_item}\")"
   ]
  },
  {
   "cell_type": "markdown",
   "metadata": {},
   "source": [
    ".\n",
    "\n",
    "\n",
    "\n",
    ".\n",
    "\n",
    "\n",
    "\n",
    "\n",
    "Nice! \n",
    "\n",
    "**We have a way to get the fullness of output of `re.search` but for all the matches**."
   ]
  },
  {
   "cell_type": "markdown",
   "metadata": {},
   "source": [
    "# Creating regular expressions\n",
    "\n",
    "Now that we know what some `re` function do, we are ready to start investigating the real power of the package.\n",
    "\n",
    "Above, we where interested in finding rigid patterns. Let us know search for flexible patterns.\n",
    "\n"
   ]
  },
  {
   "cell_type": "markdown",
   "metadata": {},
   "source": [
    "## Testing, testing, testing\n",
    "\n",
    "Even though we have brought the matter up, in reality, we have not emphasized enough the need to create test for your code.\n",
    "\n",
    "We were trying to cover the basics of the language and did not want to add another moving part to the learning process.\n",
    "\n",
    "The analogy I may use is that it is much easier to learn to drive with an automatic transmission than with a manual.\n",
    "\n",
    "Now we are switching to *manual transmission* because it is so crucial for writing robust code.\n",
    "\n"
   ]
  },
  {
   "cell_type": "markdown",
   "metadata": {},
   "source": [
    "Above, we discussed phone numbers. However, those are too complicated as a starting point. Instead, we will start with searching for times.\n",
    "\n",
    "Imagine you are fed-up with G..gle and A..le and what to write code to search your emails for times of appointments to add to your calendar. What would you do?\n",
    "\n",
    "Times come in two major formats good (`hh:mm`, also called military) and bad (`+h:mm *`).\n",
    "\n",
    "Consider the good system: \n",
    "\n",
    "> * The first `h` can take the values 0, 1, or 2 \n",
    "> * The second `h` can take values 0-9\n",
    "> * The first `m` can take values 0-5\n",
    "> * The second `m` can take values 0-9\n",
    "\n",
    "However, not all combinations are possible. For example, 27 is not acceptable for `hh`.\n",
    "\n",
    "Consider the bad system:\n",
    "\n",
    "> * The first `+` can be absent ot take the values 0 or 1 \n",
    "> * The second `h` can take values 0-9\n",
    "> * The first `m` can take values 0-5\n",
    "> * The second `m` can take values 0-9\n",
    "> * The * can take the values pm or am and there may be a space between m and * or maybe not \n",
    "\n",
    "In order to insure the correctness of our code, we should start by creating a list of examples that even though they are not matches look superficially correct and another list of examples that are correct.\n",
    "\n",
    "Both lists should cover a broad range of possibilities.\n"
   ]
  },
  {
   "cell_type": "code",
   "execution_count": null,
   "metadata": {
    "ExecuteTime": {
     "end_time": "2022-07-20T20:47:06.875624Z",
     "start_time": "2022-07-20T20:47:06.846542Z"
    }
   },
   "outputs": [],
   "source": [
    "good_times = [' 03:43 ', ' 01:00 ', ' 12:59 ', ' 13:00 ', ' 21:35 ']\n",
    "not_good_times = ['orange', ' 03:60 ', ' 26:14 ', ' 0155 ', ' 21:355 ']"
   ]
  },
  {
   "cell_type": "markdown",
   "metadata": {},
   "source": [
    "And it is helpful to have a testing function..."
   ]
  },
  {
   "cell_type": "code",
   "execution_count": null,
   "metadata": {
    "ExecuteTime": {
     "end_time": "2022-07-20T20:47:08.440359Z",
     "start_time": "2022-07-20T20:47:08.411060Z"
    }
   },
   "outputs": [],
   "source": [
    "def test_re_string(re_string, test_matches, test_not_matches):\n",
    "    # Matching test_matches\n",
    "    #\n",
    "    count = 0\n",
    "    for item in test_matches:\n",
    "        match = re.search(re_string, item)\n",
    "        if match:\n",
    "            print(match)\n",
    "            count += 1\n",
    "        else:\n",
    "            print(item)\n",
    "\n",
    "    print(f\"----Matched {count} out of {len(test_matches)} possible matches.\\n\")\n",
    "\n",
    "    # Not matching test_not_matches\n",
    "    #\n",
    "    count = 0\n",
    "    for item in test_not_matches:\n",
    "        match = re.search(re_string, item)\n",
    "        if not match:\n",
    "            print(item)\n",
    "            count += 1\n",
    "        else:\n",
    "            print(item, '--', match)\n",
    "\n",
    "    print(f\"----Failed to match {count} out of {len(test_not_matches)}\"\n",
    "          f\" non matches.\\n\")\n",
    "    \n",
    "    return"
   ]
  },
  {
   "cell_type": "markdown",
   "metadata": {},
   "source": [
    "We will address this problem in a modular manner, so that we can clearly see what the granular operations are.\n",
    "\n",
    "First, I define `hours_re` and `minutes_re` to store the expressions for matching hours and minutes respectively.\n",
    "\n",
    "The simplest case for both is 00-09. Which means that the first digit is always 0 and then second digit is any number from 1 to 9. \n",
    "\n",
    "This is easily defined as `0[0-9]`\n"
   ]
  },
  {
   "cell_type": "code",
   "execution_count": null,
   "metadata": {
    "ExecuteTime": {
     "end_time": "2022-07-20T20:47:10.103975Z",
     "start_time": "2022-07-20T20:47:10.073898Z"
    }
   },
   "outputs": [],
   "source": [
    "hours_re = '(0[0-9])'\n",
    "\n",
    "re_times = hours_re + ':' \n",
    "print(f\"Current re_string is:\\n\\t\\t{re_times}\\n\")\n",
    "\n",
    "test_re_string(re_times, good_times, not_good_times)"
   ]
  },
  {
   "cell_type": "markdown",
   "metadata": {},
   "source": [
    "Not impressive, ah!\n",
    "\n",
    "Let's include other possibilities such as 10 to 19\n"
   ]
  },
  {
   "cell_type": "code",
   "execution_count": null,
   "metadata": {
    "ExecuteTime": {
     "end_time": "2022-07-20T20:47:12.663563Z",
     "start_time": "2022-07-20T20:47:12.637640Z"
    }
   },
   "outputs": [],
   "source": [
    "hours_re = '(0[0-9]|1[0-9])'\n",
    "\n",
    "re_times = hours_re + ':'\n",
    "print(f\"Current re_string is:\\n\\t\\t{re_times}\\n\")\n",
    "\n",
    "test_re_string(re_times, good_times, not_good_times)"
   ]
  },
  {
   "cell_type": "markdown",
   "metadata": {},
   "source": [
    "Almost there for hours. Let's add 20 to 23..."
   ]
  },
  {
   "cell_type": "code",
   "execution_count": null,
   "metadata": {
    "ExecuteTime": {
     "end_time": "2022-07-20T20:47:14.439877Z",
     "start_time": "2022-07-20T20:47:14.407696Z"
    }
   },
   "outputs": [],
   "source": [
    "hours_re = '(0[0-9]|1[0-9]|2[0-3])'\n",
    "\n",
    "re_times = hours_re + ':'\n",
    "print(f\"Current re_string is:\\n\\t\\t{re_times}\\n\")\n",
    "\n",
    "test_re_string(re_times, good_times, not_good_times)"
   ]
  },
  {
   "cell_type": "markdown",
   "metadata": {},
   "source": [
    "The hours are looking pretty good. \n",
    "\n",
    "Let's add the minutes term. Any value from 00 to 59 works so `[0-5][0-9]`"
   ]
  },
  {
   "cell_type": "code",
   "execution_count": null,
   "metadata": {
    "ExecuteTime": {
     "end_time": "2022-07-20T20:47:16.574355Z",
     "start_time": "2022-07-20T20:47:16.545552Z"
    }
   },
   "outputs": [],
   "source": [
    "hours_re = '(0[0-9]|1[0-9]|2[0-3])'\n",
    "minutes_re = '[0-5][0-9]'\n",
    "\n",
    "re_times = hours_re + ':' + minutes_re\n",
    "print(f\"Current re_string is:\\n\\t\\t{re_times}\\n\")\n",
    "\n",
    "test_re_string(re_times, good_times, not_good_times)"
   ]
  },
  {
   "cell_type": "markdown",
   "metadata": {},
   "source": [
    "We are almost there. The problem is that while **21:355** is not a time, it contains **21:35** which is a time.\n",
    "\n",
    "How to solve this? For it to be a time, it needs to have a something that is not a digit after the first **5**...\n",
    "\n",
    "This [site](https://www.rexegg.com/regex-quickstart.html#chars) has a lot of good information to build regexes. If you look in there, you find the `\\d` means any single digit -- which is equivalent to [0-9] -- and that `\\D` means any single character that is not a digit.\n",
    "\n",
    "Using these conventions, we can write"
   ]
  },
  {
   "cell_type": "code",
   "execution_count": null,
   "metadata": {
    "ExecuteTime": {
     "end_time": "2022-07-20T20:47:18.756237Z",
     "start_time": "2022-07-20T20:47:18.725403Z"
    }
   },
   "outputs": [],
   "source": [
    "hours_re = '(0\\d|1\\d|2[0-3])'\n",
    "minutes_re = '[0-5]\\d\\D'\n",
    "\n",
    "re_times = hours_re + ':' + minutes_re\n",
    "print(f\"Current re_string is:\\n\\t\\t{re_times}\\n\")\n",
    "\n",
    "test_re_string(re_times, good_times, not_good_times)"
   ]
  },
  {
   "cell_type": "markdown",
   "metadata": {},
   "source": [
    "This looks great. However, humans do not always follow rules precisely.  So one may find `3:27` instead if the correct `03:27`.  How to account for this?\n",
    "\n",
    "**Yes, you do it!**"
   ]
  },
  {
   "cell_type": "code",
   "execution_count": null,
   "metadata": {
    "ExecuteTime": {
     "end_time": "2022-07-20T20:47:21.143189Z",
     "start_time": "2022-07-20T20:47:21.114600Z"
    }
   },
   "outputs": [],
   "source": [
    "hours_re = '(0\\d|1\\d|2[0-3])'\n",
    "minutes_re = '[0-5]\\d\\D'\n",
    "\n",
    "re_times = hours_re + ':' + minutes_re\n",
    "print(f\"Current re_string is:\\n\\t\\t{re_times}\\n\")\n",
    "\n",
    "test_re_string(re_times, good_times, not_good_times)"
   ]
  },
  {
   "cell_type": "markdown",
   "metadata": {},
   "source": [
    "Awesome! You are now an expert and ready to move on to the case of bad_times.\n",
    "\n",
    "I will start your list of examples, but you do the rest."
   ]
  },
  {
   "cell_type": "code",
   "execution_count": null,
   "metadata": {
    "ExecuteTime": {
     "end_time": "2022-07-20T20:47:31.405720Z",
     "start_time": "2022-07-20T20:47:31.373230Z"
    }
   },
   "outputs": [],
   "source": [
    "bad_times = [' 03:43pm ', ' 01:00 AM ', ]\n",
    "not_bad_times = ['orange', ' 03:50 XM ', ]"
   ]
  },
  {
   "cell_type": "markdown",
   "metadata": {},
   "source": [
    "And you build the `re_string`"
   ]
  },
  {
   "cell_type": "code",
   "execution_count": null,
   "metadata": {},
   "outputs": [],
   "source": []
  },
  {
   "cell_type": "markdown",
   "metadata": {},
   "source": [
    "## Getting help, but testing the help you get\n",
    "\n",
    "Times, dates and email addresses are common types of information that one wants to extract from documents.  Above we saw how to handle times.  You can look into dates as an exercise.\n",
    "\n",
    "Let us consider email addresses now.\n",
    "\n",
    "How are email addresses constructed? \n",
    "\n",
    "There is an `username` made up of letters, numbers and some punctuation. The `username` is followed by the character `@`, which is then followed by more letters and numbers and periods.\n",
    "\n",
    "Seems complicated. So, why don't we check whether someone already built a regex for email addresses.\n",
    "\n",
    "If you search online, you may be able to find the following solution\n",
    "\n",
    "> `^[a-zA-Z0-9.]+@[a-zA-Z0-9.]+.[a-zA-Z0-9]+$`\n",
    "\n",
    "It appears appropriately complicated!  But how do we know whether it works?\n",
    "\n",
    "Let's test it!"
   ]
  },
  {
   "cell_type": "code",
   "execution_count": null,
   "metadata": {
    "ExecuteTime": {
     "end_time": "2022-07-20T20:47:35.651236Z",
     "start_time": "2022-07-20T20:47:35.622669Z"
    }
   },
   "outputs": [],
   "source": [
    "emails = ['a@b.co', 'something@somethingelse.org', '89@42.info', \n",
    "          'something@something.else.com', ]\n",
    "not_emails = ['@b.c', 'a@b.', 'something@somethingelse.', ]"
   ]
  },
  {
   "cell_type": "code",
   "execution_count": null,
   "metadata": {
    "ExecuteTime": {
     "end_time": "2022-07-20T20:47:53.590974Z",
     "start_time": "2022-07-20T20:47:53.557224Z"
    }
   },
   "outputs": [],
   "source": [
    "re_emails = '^[a-zA-Z0-9.]+@[a-zA-Z0-9.]+.[a-zA-Z0-9]+$'\n",
    "print(f\"Current re_string is:\\n\\t\\t{re_email}\\n\")\n",
    "\n",
    "test_re_string(re_emails, emails, not_emails)"
   ]
  },
  {
   "cell_type": "markdown",
   "metadata": {},
   "source": [
    "Well it appears to work! \n",
    "\n",
    "At least it fits all are test cases... Should we create more examples to be sure?\n",
    "\n",
    "\n",
    ".\n",
    "\n",
    "\n",
    "\n",
    ".\n",
    "\n",
    "\n",
    ".\n",
    "\n",
    "\n",
    "Good decision.\n",
    "\n",
    "For now, let's see if we can make sense of `re_email` by braking it down in pieces as we did with re_times\n",
    "\n"
   ]
  },
  {
   "cell_type": "code",
   "execution_count": null,
   "metadata": {
    "ExecuteTime": {
     "end_time": "2022-07-20T20:50:25.876294Z",
     "start_time": "2022-07-20T20:50:25.849803Z"
    }
   },
   "outputs": [],
   "source": [
    "username_re = '^[a-zA-Z0-9.]+'\n",
    "server_re = '[a-zA-Z0-9.]+.[a-zA-Z0-9]+$'\n",
    "\n",
    "re_emails = username_re + '@' + server_re\n",
    "print(f\"Current re_string is:\\n\\t\\t{re_email}\\n\")"
   ]
  },
  {
   "cell_type": "markdown",
   "metadata": {},
   "source": [
    "`username_re` has three parts:\n",
    "\n",
    "> * `^` means what comes next has to be a the start of the string symbol. It only makes sense to add this if the string contains only the email and nothing else.\n",
    "> * `[a-zA-Z0-9.]` means that the characters allowed include lower case letters, upper case letters, digits, and periods.\n",
    "> * `+` means that the previous element must appear at least once\n",
    "at the beginning means the string must start with the first expression. This is a very handy character when you care about words that are at the start of a line only. \n",
    "\n",
    "`server_re` also has three parts:\n",
    "\n",
    "> * `[a-zA-Z0-9.]` means that the characters allowed include lower case letters, upper case letters, digits, and periods.\n",
    "> * `+` means that the previous element must appear at least once\n",
    "> * `.[a-zA-Z0-9]+` means that after some characters that may include periods, there must come a period followed by at least one character that is a lower case letter, an upper case letters, or a digits.\n",
    "> '$' means that the string ends here or at most has a new line. This also only makes sense if the string contains only the email and nothing else.\n",
    "\n",
    "Breaking it down like this makes some issues with `re_emails` apparent\n"
   ]
  },
  {
   "cell_type": "code",
   "execution_count": null,
   "metadata": {
    "ExecuteTime": {
     "end_time": "2022-07-20T21:40:54.924525Z",
     "start_time": "2022-07-20T21:40:54.894093Z"
    }
   },
   "outputs": [],
   "source": [
    "emails = [' a@b.co ', ' something@somethingelse.org ', ' 89@42.info ', \n",
    "          ' something@something.else.com ', ]\n",
    "not_emails = [' @b.c ', ' a@b. ', ' something@somethingelse. ', \n",
    "              ' '+'a'*1000+'@b.c ', ' a@b.c ', \n",
    "              ' a@b.ccccccccccccccccccccccccccccccccccc ',\n",
    "              ' a@b.b.b.b.b.b.b.b.b.b.b.b.b.b.com ', ]"
   ]
  },
  {
   "cell_type": "markdown",
   "metadata": {},
   "source": [
    "Our string is likely to contain more than just an email address.\n",
    "\n",
    "The username cannot be of arbitrary length. \n",
    "\n",
    "There likely cannot be more than 4 or 5 intermediate levels before the final period.\n",
    "\n",
    "The final string of the server cannot be a single character and cannot be longer than a few characters."
   ]
  },
  {
   "cell_type": "code",
   "execution_count": null,
   "metadata": {
    "ExecuteTime": {
     "end_time": "2022-07-20T21:44:10.735765Z",
     "start_time": "2022-07-20T21:44:10.705515Z"
    }
   },
   "outputs": [],
   "source": [
    "# username is no longer than 256 characters\n",
    "# \\w covers digits, upper and lower case letters and _\n",
    "#\n",
    "username_re = '([\\w.]{1,256})'\n",
    "\n",
    "# domain server (xxx.xx) last portion must be 2-8 letters\n",
    "# after which that there must be some space\n",
    "#\n",
    "domain_server_re = '(\\w{1,256}\\.[a-zA-Z]{2,8}\\s)'\n",
    "\n",
    "# inner domain pieces (up to 4), each must end with .\n",
    "inner_domain_server_re = '((\\w{1,256}\\.){0,4})'\n",
    "\n",
    "re_emails = ( username_re + '@' + \n",
    "              inner_domain_server_re + domain_server_re )\n",
    "\n",
    "print(f\"Current re_string is:\\n\\t\\t{re_emails}\\n\")\n",
    "\n",
    "test_re_string(re_emails, emails, not_emails)\n"
   ]
  },
  {
   "cell_type": "markdown",
   "metadata": {},
   "source": [
    "Excellent! It works in all of our new test cases!\n",
    "\n",
    "We could continue to improve this regex (say by limiting the ending domain to only known domains).\n",
    "\n",
    "**In order to keep readability, it is important that you try to break the `re string` into pieces that are individually easier to validate**.\n"
   ]
  },
  {
   "cell_type": "markdown",
   "metadata": {},
   "source": [
    "# Playing with Jeb Bush's emails \n",
    "\n",
    "For those of you too young to know anything, this was a thing before the 2016 elections.\n",
    "\n",
    "In 2015, before his ill-fated primary run for the Republican Party Presidential Nomination, Jeb Bush released a number of his e-mails in a bid for transparency. \n",
    "\n",
    "As usually happens, the release wasn't vetted very well and some constituents Social Security numbers were exposed. \n",
    "\n",
    "But let's ignore that and instead focus on finding who then FL Governor Jed Bush corresponded with.\n",
    "\n",
    "> The data is located ../Data/NLP/Emails/\n",
    "\n",
    "Let's see what data we have there..."
   ]
  },
  {
   "cell_type": "code",
   "execution_count": null,
   "metadata": {
    "ExecuteTime": {
     "end_time": "2022-07-20T21:59:05.224955Z",
     "start_time": "2022-07-20T21:59:05.193406Z"
    }
   },
   "outputs": [],
   "source": [
    "emails_folder = Path.cwd().parent / 'Data' / 'NLP' / 'Emails'\n",
    "\n",
    "filenames = list( emails_folder.glob('*.txt') )\n",
    "for i, filename in enumerate( filenames ):\n",
    "    print(f\"{i:>2} -- {filename}\")\n"
   ]
  },
  {
   "cell_type": "markdown",
   "metadata": {},
   "source": [
    "Let's pick the 8th file, from `01 Jan`.\n",
    "\n",
    "Note that these files were encoded in the `ISO-8859-1` standard.\n"
   ]
  },
  {
   "cell_type": "code",
   "execution_count": null,
   "metadata": {
    "ExecuteTime": {
     "end_time": "2022-07-20T22:03:47.874849Z",
     "start_time": "2022-07-20T22:03:47.837500Z"
    }
   },
   "outputs": [],
   "source": [
    "with open( filenames[7], 'r', encoding = 'ISO-8859-1') as file_in:\n",
    "    emails_string = file_in.read()\n",
    "    \n",
    "print(len(emails_string))\n",
    "print()\n",
    "\n",
    "print(emails_string[:300])\n"
   ]
  },
  {
   "cell_type": "markdown",
   "metadata": {},
   "source": [
    ".\n",
    "\n",
    "\n",
    ".\n",
    "\n",
    "\n",
    "Clearly there are some differences to what we were looking at.\n",
    "\n",
    "In particular, it seems that email may be enclosed by `<...>`.\n",
    "\n",
    "That is handy and easy enough to incorporate into our `re_string`\n"
   ]
  },
  {
   "cell_type": "code",
   "execution_count": null,
   "metadata": {
    "ExecuteTime": {
     "end_time": "2022-07-20T22:04:05.156611Z",
     "start_time": "2022-07-20T22:04:05.127159Z"
    }
   },
   "outputs": [],
   "source": [
    "username_re = '([\\w.]{1,256})'\n",
    "domain_server_re = '(\\w{1,256}\\.[a-zA-Z]{2,8})'  # got rid of \\s\n",
    "inner_domain_server_re = '((\\w{1,256}\\.){0,4})'\n",
    "\n",
    "re_emails = ( '<' + username_re + '@' + \n",
    "              inner_domain_server_re + domain_server_re + '>' )\n",
    "\n",
    "print(f\"Current re_string is:\\n\\t\\t{re_emails}\\n\")\n",
    "\n",
    "for match in re.finditer(re_emails, emails_string[:5000]):\n",
    "    print(match)"
   ]
  },
  {
   "cell_type": "markdown",
   "metadata": {},
   "source": [
    "Note bad. All the matches are good email addresses.  \n",
    "\n",
    "But could it be that we are missing something?\n",
    "\n",
    "**Let's print the string to check!**"
   ]
  },
  {
   "cell_type": "code",
   "execution_count": null,
   "metadata": {
    "ExecuteTime": {
     "end_time": "2022-07-20T22:04:57.142876Z",
     "start_time": "2022-07-20T22:04:57.112918Z"
    },
    "scrolled": false
   },
   "outputs": [],
   "source": [
    "print(emails_string[:5000])\n"
   ]
  },
  {
   "cell_type": "markdown",
   "metadata": {},
   "source": [
    "Did you notice `jeb@jeb.org`? \n",
    "\n",
    "Clearly, not all emails are enclosed within `<...>`.\n",
    "\n",
    "Let's correct that then\n"
   ]
  },
  {
   "cell_type": "code",
   "execution_count": null,
   "metadata": {
    "ExecuteTime": {
     "end_time": "2022-07-20T22:09:06.104323Z",
     "start_time": "2022-07-20T22:09:06.059290Z"
    }
   },
   "outputs": [],
   "source": [
    "username_re = '([\\w.]{1,256})'\n",
    "domain_server_re = '(\\w{1,256}\\.[a-zA-Z]{2,8})'  # got rid of \\s\n",
    "inner_domain_server_re = '((\\w{1,256}\\.){0,4})'\n",
    "\n",
    "re_emails = ( username_re + '@' + \n",
    "              inner_domain_server_re + domain_server_re )\n",
    "\n",
    "print(f\"Current re_string is:\\n\\t\\t{re_emails}\\n\")\n",
    "\n",
    "for match in re.finditer(re_emails, emails_string[:5000]):\n",
    "    print(match)"
   ]
  },
  {
   "cell_type": "markdown",
   "metadata": {},
   "source": [
    "Nice.\n",
    "\n",
    "Do you need to buy an email list to sell your miracle COVID cure? I can offer you a very good deal!\n",
    "\n",
    "Let's check how many there are in the entire file.\n"
   ]
  },
  {
   "cell_type": "code",
   "execution_count": null,
   "metadata": {
    "ExecuteTime": {
     "end_time": "2022-07-20T22:12:25.268778Z",
     "start_time": "2022-07-20T22:12:24.016646Z"
    },
    "scrolled": true
   },
   "outputs": [],
   "source": [
    "username_re = '([\\w.]{1,256})'\n",
    "domain_server_re = '(\\w{1,256}\\.[a-zA-Z]{2,8})'  # got rid of \\s\n",
    "inner_domain_server_re = '((\\w{1,256}\\.){0,4})'\n",
    "\n",
    "re_emails = ( username_re + '@' + \n",
    "              inner_domain_server_re + domain_server_re )\n",
    "\n",
    "print(f\"Current re_string is:\\n\\t\\t{re_emails}\\n\")\n",
    "\n",
    "for i, match in enumerate( re.finditer(re_emails, emails_string[:]) ):\n",
    "    print(f\"{i:>5}--{match.group():>50} -- {match.start()}\")"
   ]
  },
  {
   "cell_type": "markdown",
   "metadata": {},
   "source": [
    "That's really a lot of compromised e-mail addresses. \n",
    "\n",
    "There are so many that we actually can reproduce some of the analysis we did with text but using emails as tokens instead of words..\n",
    "\n",
    "Change the code so you store all the emails you found and repeat some of the analyses that you conducted earlier.\n",
    "\n"
   ]
  },
  {
   "cell_type": "code",
   "execution_count": null,
   "metadata": {},
   "outputs": [],
   "source": []
  },
  {
   "cell_type": "code",
   "execution_count": null,
   "metadata": {},
   "outputs": [],
   "source": []
  },
  {
   "cell_type": "code",
   "execution_count": null,
   "metadata": {},
   "outputs": [],
   "source": []
  },
  {
   "cell_type": "code",
   "execution_count": null,
   "metadata": {},
   "outputs": [],
   "source": []
  },
  {
   "cell_type": "code",
   "execution_count": null,
   "metadata": {},
   "outputs": [],
   "source": []
  },
  {
   "cell_type": "markdown",
   "metadata": {
    "collapsed": true
   },
   "source": [
    "# Additional Resources\n",
    "\n",
    "If you're interest in learning more about using and writing regular expression, you can continue with this documentation.\n",
    "\n",
    "* [More Python documentation](https://docs.python.org/3/howto/regex.html#regex-howto)\n",
    "* [A great little notebook](http://nbviewer.ipython.org/github/sampathweb/python_reference/blob/master/tutorials/useful_regex.ipynb)\n",
    "\n"
   ]
  },
  {
   "cell_type": "markdown",
   "metadata": {},
   "source": [
    "# Exercises\n"
   ]
  },
  {
   "cell_type": "markdown",
   "metadata": {},
   "source": [
    "If you look carefully, you will see that emails enclosed in `<...>` contain the name of the owner of the email account.\n",
    "\n",
    "Can you associate names to emails?\n",
    "\n",
    "How would you do it? One name to one email? One name to many emails (Jeb clearly used a bunch of different email addresses)?\n",
    "\n",
    "If you use a `dictionary` to store the data, what would be the key? "
   ]
  },
  {
   "cell_type": "code",
   "execution_count": null,
   "metadata": {},
   "outputs": [],
   "source": []
  },
  {
   "cell_type": "markdown",
   "metadata": {},
   "source": [
    "Besides names that appear close to the email address, you can also find names in the signature of the email. You can even find other information such as addresses and such.\n",
    "\n",
    "Can you scrape that information?"
   ]
  },
  {
   "cell_type": "code",
   "execution_count": null,
   "metadata": {},
   "outputs": [],
   "source": []
  },
  {
   "cell_type": "markdown",
   "metadata": {},
   "source": [
    "People are clearly an important type of entity in a corpus of emails.  However, the emails themselves are important entities.\n",
    "\n",
    "Can you isolate each email?\n",
    "\n",
    "What **metadata** can you extract concerning a given email?"
   ]
  },
  {
   "cell_type": "code",
   "execution_count": null,
   "metadata": {},
   "outputs": [],
   "source": []
  },
  {
   "cell_type": "markdown",
   "metadata": {},
   "source": [
    "## Searching filesystems\n",
    "\n",
    "Let's say that you want to find all `PDF` files in your home account in your computer.\n",
    "\n",
    "How do you obtain the path of every single file? Glob-glob\n",
    "\n",
    "How do you search each file path for whether the file is a `PDF` or not?\n",
    "\n",
    "How can you confirm that the file is indeed a `PDF` file?\n",
    "\n"
   ]
  },
  {
   "cell_type": "code",
   "execution_count": null,
   "metadata": {},
   "outputs": [],
   "source": []
  },
  {
   "cell_type": "markdown",
   "metadata": {},
   "source": [
    "## Regex Golf\n",
    "\n",
    "There are so many more complicated things you can do with regex, and there is even a game called [regex golf](http://regex.alf.nu) that the nerdiest of all nerds play from time to time where the object is to come up with the shortest way to match certain patterns while [avoiding others](http://nbviewer.ipython.org/url/norvig.com/ipython/xkcd1313.ipynb). This game can serve as good practice to improve your regular expression skills.\n",
    "\n",
    "As a test, let's play a game of regex golf. Let's try to match Star Wars movie titles, but not Star Trek movie titles."
   ]
  },
  {
   "cell_type": "code",
   "execution_count": null,
   "metadata": {
    "ExecuteTime": {
     "end_time": "2022-07-20T22:34:12.144035Z",
     "start_time": "2022-07-20T22:34:12.114981Z"
    }
   },
   "outputs": [],
   "source": [
    "# This was MUCH simpler then\n",
    "#\n",
    "starwars = [ 'The Phantom Menace', 'Attack of the Clones', \n",
    "             'Revenge of the Sith', 'A New Hope', \n",
    "             'The Empire Strikes Back', 'Return of the Jedi' ]\n",
    "\n",
    "startrek = [ 'The Wrath of Khan', 'The Search for Spock', \n",
    "             'The Voyage Home', 'The Final Frontier', \n",
    "             'The Undiscovered Country', 'Generations',\n",
    "             'First Contact', 'Insurrection', 'Nemesis']"
   ]
  },
  {
   "cell_type": "code",
   "execution_count": null,
   "metadata": {},
   "outputs": [],
   "source": []
  },
  {
   "cell_type": "code",
   "execution_count": null,
   "metadata": {},
   "outputs": [],
   "source": []
  }
 ],
 "metadata": {
  "anaconda-cloud": {},
  "kernelspec": {
   "display_name": "base",
   "language": "python",
   "name": "base"
  },
  "language_info": {
   "codemirror_mode": {
    "name": "ipython",
    "version": 3
   },
   "file_extension": ".py",
   "mimetype": "text/x-python",
   "name": "python",
   "nbconvert_exporter": "python",
   "pygments_lexer": "ipython3",
   "version": "3.9.12"
  },
  "toc": {
   "base_numbering": 1,
   "nav_menu": {},
   "number_sections": true,
   "sideBar": true,
   "skip_h1_title": false,
   "title_cell": "Table of Contents",
   "title_sidebar": "Contents",
   "toc_cell": false,
   "toc_position": {
    "height": "calc(100% - 180px)",
    "left": "10px",
    "top": "150px",
    "width": "210.567px"
   },
   "toc_section_display": true,
   "toc_window_display": true
  }
 },
 "nbformat": 4,
 "nbformat_minor": 1
}
