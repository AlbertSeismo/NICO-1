{
 "cells": [
  {
   "cell_type": "markdown",
   "metadata": {},
   "source": [
    "# Synopsis\n",
    "\n",
    "There is an extensive amount of data that is stored in images and is available for analysis. On the web, images are everywhere and being able to algorithmically filter them (say for a search engine or to identify infringement) is an essential task. Scientifically, many studies rely on visual images to ascertain the presence or absence of some behavior (remember, a video is really just a series of images in time!).\n",
    "\n",
    "To start we're going to work on:\n",
    "* The basics of what an image is\n",
    "* How to read an image into code\n",
    "* How to manipulate an image in Python\n",
    "\n"
   ]
  },
  {
   "cell_type": "markdown",
   "metadata": {},
   "source": [
    "# Read libraries and functions"
   ]
  },
  {
   "cell_type": "code",
   "execution_count": null,
   "metadata": {
    "ExecuteTime": {
     "end_time": "2022-07-25T19:12:25.675511Z",
     "start_time": "2022-07-25T19:12:24.496915Z"
    }
   },
   "outputs": [],
   "source": [
    "%load_ext autoreload\n",
    "%autoreload 2\n",
    "%matplotlib inline\n",
    "\n",
    "my_fontsize = 15"
   ]
  },
  {
   "cell_type": "code",
   "execution_count": null,
   "metadata": {
    "ExecuteTime": {
     "end_time": "2022-07-25T21:54:09.577924Z",
     "start_time": "2022-07-25T21:54:08.444024Z"
    }
   },
   "outputs": [],
   "source": [
    "import matplotlib as mpl\n",
    "import matplotlib.pyplot as plt\n",
    "import matplotlib.cm as cm\n",
    "import numpy as np\n",
    "\n",
    "from pathlib import Path\n",
    "from pylab import imread"
   ]
  },
  {
   "cell_type": "code",
   "execution_count": null,
   "metadata": {
    "ExecuteTime": {
     "end_time": "2022-07-25T19:12:25.704662Z",
     "start_time": "2022-07-25T19:12:25.691295Z"
    }
   },
   "outputs": [],
   "source": [
    "def half_frame(sub, xaxis_label, yaxis_label, font_size = 15, padding = -0.02):\n",
    "    \"\"\"Formats frame, axes, and ticks for matplotlib made graphic \n",
    "       with half frame.\n",
    "       \n",
    "    \"\"\"\n",
    "\n",
    "    # Format graph frame and tick marks\n",
    "    sub.yaxis.set_ticks_position('left')\n",
    "    sub.xaxis.set_ticks_position('bottom')\n",
    "    sub.tick_params(axis = 'both', which = 'major', length = 7, width = 1.5, \n",
    "                    direction = 'out', pad = 10, labelsize = font_size)\n",
    "    sub.tick_params(axis = 'both', which = 'minor', length = 5, width = 1.5, \n",
    "                    direction = 'out', labelsize = 10)\n",
    "    for axis in ['bottom','left']:\n",
    "        sub.spines[axis].set_linewidth(1.5)\n",
    "        sub.spines[axis].set_position((\"axes\", padding))\n",
    "    for axis in ['top','right']:\n",
    "        sub.spines[axis].set_visible(False)\n",
    "\n",
    "    # Format axes\n",
    "    sub.set_xlabel(xaxis_label, fontsize = 1.6 * font_size)\n",
    "    sub.set_ylabel(yaxis_label, fontsize = 1.6 * font_size)\n"
   ]
  },
  {
   "cell_type": "markdown",
   "metadata": {},
   "source": [
    "# Working with images\n",
    "\n",
    "Images are what made the Web.  Cats, dogs, porn.\n",
    "\n",
    "Naturally, programmers wanted to work with images. But images come in all sort of formats. Considering the strain of misogyny amongst many male programmers, you will not be surprised that a [classic image of a woman](https://en.wikipedia.org/wiki/Lenna) used in explaining image compression approaches is actually of an 'adult entertainment' model.\n",
    "\n",
    "The kind of inside joke that helped create a hostile environment for women in CS.\n",
    "\n",
    "Moving on, the package `pylab` has a function -- `imread()` -- that enables us to easily and reliably import images from a multitude of formats.\n",
    "\n",
    "We downloaded a bunch of Picasso paintings for you:\n"
   ]
  },
  {
   "cell_type": "code",
   "execution_count": null,
   "metadata": {
    "ExecuteTime": {
     "end_time": "2022-07-25T21:54:13.251220Z",
     "start_time": "2022-07-25T21:54:13.227378Z"
    }
   },
   "outputs": [],
   "source": [
    "picasso_folder = Path.cwd() / 'Data' / 'Picasso'\n",
    "\n",
    "for i, file in enumerate( picasso_folder.glob('*') ):\n",
    "    print(f\"{i:>3}--{str(file)[80:]}\")\n"
   ]
  },
  {
   "cell_type": "markdown",
   "metadata": {},
   "source": [
    "Let's select an example to play with"
   ]
  },
  {
   "cell_type": "code",
   "execution_count": null,
   "metadata": {
    "ExecuteTime": {
     "end_time": "2022-07-25T21:54:21.253818Z",
     "start_time": "2022-07-25T21:54:21.225711Z"
    }
   },
   "outputs": [],
   "source": [
    "self_portrait_07 = imread( picasso_folder / '1907-Self-Portrait.-13.jpg' )\n",
    "self_portrait_07"
   ]
  },
  {
   "cell_type": "markdown",
   "metadata": {},
   "source": [
    "## Images are ingested as `numpy` arrays !\n",
    "\n",
    "Cool, ha? \n",
    "\n",
    "An image is ingested as a multi-dimensional array.\n",
    "\n",
    "Can you see a lot of `numpy` in the near future?\n",
    "\n",
    "The `numpy` arrays have stereotypical shapes \n"
   ]
  },
  {
   "cell_type": "code",
   "execution_count": null,
   "metadata": {
    "ExecuteTime": {
     "end_time": "2022-07-25T21:54:26.571691Z",
     "start_time": "2022-07-25T21:54:26.559082Z"
    }
   },
   "outputs": [],
   "source": [
    "self_portrait_07.shape"
   ]
  },
  {
   "cell_type": "markdown",
   "metadata": {},
   "source": [
    "Two big numbers and a little one.\n",
    "\n",
    "The image is actually a rectangle of $n_x$ by $n_y$ pixels.  Because the image is in color, we then need three number -- does `RGB` right a bell? -- to define the pixel's color.\n",
    "\n",
    "\n",
    "Each pixel has three values: the Red value, the Green value, and the Blue value. \n",
    "\n",
    "You should be aware that there are several [color encoding schemes](https://en.wikipedia.org/wiki/List_of_color_spaces_and_their_uses) besides `RGB`. \n",
    "\n",
    "\n",
    "It is nice and reassuring to see that an image gets encoded in a manner comprehensible to us. However, it would definitely be nice to **see it** too.\n",
    "\n",
    "`Matplotlib` to the rescue"
   ]
  },
  {
   "cell_type": "code",
   "execution_count": null,
   "metadata": {
    "ExecuteTime": {
     "end_time": "2022-07-25T19:12:31.401374Z",
     "start_time": "2022-07-25T19:12:31.255929Z"
    }
   },
   "outputs": [],
   "source": [
    "plt.imshow(self_portrait_07)\n",
    "plt.show()"
   ]
  },
  {
   "cell_type": "markdown",
   "metadata": {},
   "source": [
    "We wrote that the image is actually a rectangle of $n_x$ by $n_y$ pixels.\n",
    "\n",
    "And `self_portrait_07.shape` returned:\n",
    "\n",
    "> (766, 597, 3)\n",
    "\n",
    "So we can see that there are 766 rows and 597 columns.\n",
    "\n",
    "An interesting point to notice is that **the origin of the picture is in the top-left of the image and the y axis grows in the downward direction**. When the first cathode ray tubes were being developed, it was decided  $-$ arbitrarily? because of European writing convention? $-$ to start the rastering of the rows at the top and moving down, instead of starting from the bottom and moving up, as was the style in mathematical notation. Somehow that convention is petrified is image processing even though we no longer user electromagnetic fields to control electrons hitting a screen. \n"
   ]
  },
  {
   "cell_type": "markdown",
   "metadata": {},
   "source": [
    "## RGB\n",
    "\n",
    "If we go to [Wikipedia](https://en.wikipedia.org/wiki/RGB_color_model), we find:\n",
    "\n",
    "    The RGB color model is an additive color model in which red, green and blue light are added together in various ways to reproduce a broad array of colors. The name of the model comes from the initials of the three additive primary colors, red, green and blue.\n",
    "    \n",
    "So the question is, what scale is used for each color value? With numpy we can find that out easily"
   ]
  },
  {
   "cell_type": "code",
   "execution_count": null,
   "metadata": {
    "ExecuteTime": {
     "end_time": "2022-07-25T19:12:33.679834Z",
     "start_time": "2022-07-25T19:12:33.650099Z"
    }
   },
   "outputs": [],
   "source": [
    "self_portrait_07.max()"
   ]
  },
  {
   "cell_type": "code",
   "execution_count": null,
   "metadata": {
    "ExecuteTime": {
     "end_time": "2022-07-25T19:12:34.446610Z",
     "start_time": "2022-07-25T19:12:34.418460Z"
    }
   },
   "outputs": [],
   "source": [
    "self_portrait_07.min()"
   ]
  },
  {
   "cell_type": "markdown",
   "metadata": {},
   "source": [
    "So each of the color elements has a value from `0` to `255`, and the mixture of the R, G, and B values produces the final color.\n",
    "\n",
    "The color values are actually stored in that order in the matrix and we can easily check that by plotting."
   ]
  },
  {
   "cell_type": "code",
   "execution_count": null,
   "metadata": {
    "ExecuteTime": {
     "end_time": "2022-07-25T19:12:36.088632Z",
     "start_time": "2022-07-25T19:12:35.694058Z"
    },
    "scrolled": false
   },
   "outputs": [],
   "source": [
    "# Create figure and subplots\n",
    "\n",
    "fig = plt.figure( figsize = (15, 6)) \n",
    "ax = []\n",
    "\n",
    "# Create color maps\n",
    "cmaps = [cm.Reds, cm.Greens, cm.Blues]\n",
    "labels = ['red', 'green', 'blue']\n",
    "\n",
    "# print each color component separately\n",
    "for i in range(3):\n",
    "    ax.append(fig.add_subplot(1, 4, i+1))\n",
    "    ax[i].imshow(self_portrait_07[:,:,i], cmap=cmaps[i])\n",
    "\n",
    "# print full image\n",
    "ax.append( fig.add_subplot(1, 4, 4) )\n",
    "ax[3].imshow(self_portrait_07)\n",
    "\n",
    "plt.tight_layout()\n",
    "plt.show()\n"
   ]
  },
  {
   "cell_type": "markdown",
   "metadata": {},
   "source": [
    "Some information that will help you make sense of the `RGB` color scheme.\n",
    "\n",
    "It is an **additive** scheme.  Adding the maximum value of every channel (i.e., primary color) yields **white**.  Conversely, adding the minimum value of every channel yields **black**.\n",
    "\n",
    "You can see this property at play in the shirt collar, which has very saturated (i.e., large) values in every channel. \n",
    "\n",
    "In contrast, the background has almost no blue in it, but has a saturated red in many parts."
   ]
  },
  {
   "cell_type": "markdown",
   "metadata": {},
   "source": [
    "## Creating our own images.\n",
    "\n",
    "Since you now understand `RGB` and how images are encoded, you can create your own `RGB` images. \n",
    "\n",
    "**Yes, it is AI again!**\n"
   ]
  },
  {
   "cell_type": "code",
   "execution_count": null,
   "metadata": {
    "ExecuteTime": {
     "end_time": "2022-07-25T19:12:41.027384Z",
     "start_time": "2022-07-25T19:12:40.931303Z"
    }
   },
   "outputs": [],
   "source": [
    "# Select your color by specifying rgb values\n",
    "#\n",
    "r, g, b = 122, 0, 0\n",
    "\n",
    "# Create a numpy array filled with INTEGER ones and the desired shape\n",
    "#\n",
    "color_patch = np.ones( dtype= 'int64',  shape = (20, 20, 3) ) \n",
    "\n",
    "# Set the desired values in each of the channels by \n",
    "# multiplying by rgb values\n",
    "\n",
    "color_patch[:,:,0] *= r   # red\n",
    "color_patch[:,:,1] *= g   # green\n",
    "color_patch[:,:,2] *= b   # blue\n",
    "\n",
    "plt.imshow(color_patch)\n",
    "plt.show()"
   ]
  },
  {
   "cell_type": "markdown",
   "metadata": {},
   "source": [
    "The best way to understand how these colors mix is to play a bit with it. \n",
    "\n",
    "You could use a [tool](http://www.colortools.net/color_mixer.html) online to get a basic sense or just play with the code above. "
   ]
  },
  {
   "cell_type": "markdown",
   "metadata": {},
   "source": [
    "## Slicing images\n",
    "\n",
    "You will notice as we work through the examples below that slicing, and indexing of `numpy` arrays looks very similar to how the `.iloc` approach works in `dataframes`.\n",
    "\n",
    "Indeed, we can slice an array on any dimension that we want. For example, if we wanted just 20 columns of data we could do that with one slice like so:"
   ]
  },
  {
   "cell_type": "code",
   "execution_count": null,
   "metadata": {
    "ExecuteTime": {
     "end_time": "2022-07-25T19:13:04.438141Z",
     "start_time": "2022-07-25T19:13:04.357291Z"
    }
   },
   "outputs": [],
   "source": [
    "print( self_portrait_07[:, :20, :].shape )\n",
    "\n",
    "plt.imshow(self_portrait_07[:, :20, :])\n",
    "plt.show()"
   ]
  },
  {
   "cell_type": "markdown",
   "metadata": {},
   "source": [
    "So we could easily plot only a portion of the image using the built-in slicing"
   ]
  },
  {
   "cell_type": "code",
   "execution_count": null,
   "metadata": {
    "ExecuteTime": {
     "end_time": "2022-07-22T16:33:21.013372Z",
     "start_time": "2022-07-22T16:33:20.909056Z"
    }
   },
   "outputs": [],
   "source": [
    "plt.imshow(self_portrait_07[500:, :200, :])\n",
    "plt.show()"
   ]
  },
  {
   "cell_type": "markdown",
   "metadata": {},
   "source": [
    "And we can change an entire channel easily. For example, imagine I want to remove the red channel from the image.\n",
    "\n",
    "**ALERT: To avoid overwriting the array, we must truly copy it!**"
   ]
  },
  {
   "cell_type": "code",
   "execution_count": null,
   "metadata": {
    "ExecuteTime": {
     "end_time": "2022-07-25T19:13:11.352806Z",
     "start_time": "2022-07-25T19:13:11.218136Z"
    }
   },
   "outputs": [],
   "source": [
    "# ALERT:\n",
    "# To avoid overwriting the array, we must truly copy it\n",
    "#\n",
    "self_portrait_wo_red = np.copy(self_portrait_07)\n",
    "\n",
    "self_portrait_wo_red[:, :, 0] = 0\n",
    "\n",
    "plt.imshow(self_portrait_wo_red)\n",
    "plt.show()"
   ]
  },
  {
   "cell_type": "markdown",
   "metadata": {},
   "source": [
    "## Playing with slicing\n",
    "\n",
    "1. Choose a painting and reverse the x axis on the image"
   ]
  },
  {
   "cell_type": "code",
   "execution_count": null,
   "metadata": {
    "ExecuteTime": {
     "end_time": "2022-07-25T19:13:12.467083Z",
     "start_time": "2022-07-25T19:13:12.443259Z"
    }
   },
   "outputs": [],
   "source": [
    "\n",
    "plt.show()"
   ]
  },
  {
   "cell_type": "markdown",
   "metadata": {},
   "source": [
    "2. Load the three musicians painting and cut out just the rightmost musician."
   ]
  },
  {
   "cell_type": "code",
   "execution_count": null,
   "metadata": {
    "ExecuteTime": {
     "end_time": "2022-07-25T19:13:12.910632Z",
     "start_time": "2022-07-25T19:13:12.884525Z"
    }
   },
   "outputs": [],
   "source": [
    "\n",
    "plt.show()"
   ]
  },
  {
   "cell_type": "markdown",
   "metadata": {},
   "source": [
    "3. Choose a painting and switch the red and blue channels"
   ]
  },
  {
   "cell_type": "code",
   "execution_count": null,
   "metadata": {
    "ExecuteTime": {
     "end_time": "2022-07-25T19:13:13.257549Z",
     "start_time": "2022-07-25T19:13:13.229218Z"
    }
   },
   "outputs": [],
   "source": [
    "\n",
    "plt.show()"
   ]
  },
  {
   "cell_type": "markdown",
   "metadata": {},
   "source": [
    "4. Choose an image and reduce its resolution by a factor of 4 (2 along each dimension)."
   ]
  },
  {
   "cell_type": "code",
   "execution_count": null,
   "metadata": {
    "ExecuteTime": {
     "end_time": "2022-07-25T19:13:13.582426Z",
     "start_time": "2022-07-25T19:13:13.556773Z"
    }
   },
   "outputs": [],
   "source": [
    "\n",
    "plt.show()"
   ]
  },
  {
   "cell_type": "markdown",
   "metadata": {},
   "source": [
    "# Array Methods"
   ]
  },
  {
   "cell_type": "markdown",
   "metadata": {},
   "source": [
    "## Column and row operations\n",
    "\n",
    "Many `numpy` functions -- especially those involving summary statistics -- allow you to specify if the operation should be performed on the rows or columns with the `axis` keyword.\n",
    "\n",
    "> axis = 0 <-- columns\n",
    "\n",
    "> axis = 1 <-- rows\n",
    "\n",
    "> axis = 2 <-- depth\n",
    "\n",
    "> ...\n",
    "\n",
    "You can name the other dimensions.\n"
   ]
  },
  {
   "cell_type": "code",
   "execution_count": null,
   "metadata": {
    "ExecuteTime": {
     "end_time": "2022-07-25T19:13:14.913571Z",
     "start_time": "2022-07-25T19:13:14.889018Z"
    }
   },
   "outputs": [],
   "source": [
    "my_array = np.array([[19.72, 20.34], \n",
    "                     [21.30, 17.26]])\n"
   ]
  },
  {
   "cell_type": "code",
   "execution_count": null,
   "metadata": {
    "ExecuteTime": {
     "end_time": "2022-07-25T19:13:15.523004Z",
     "start_time": "2022-07-25T19:13:15.494781Z"
    }
   },
   "outputs": [],
   "source": [
    "print(my_array)\n",
    "print()\n",
    "\n",
    "print(my_array.shape)\n",
    "print()\n"
   ]
  },
  {
   "cell_type": "code",
   "execution_count": null,
   "metadata": {
    "ExecuteTime": {
     "end_time": "2022-07-25T19:13:16.834119Z",
     "start_time": "2022-07-25T19:13:16.422382Z"
    }
   },
   "outputs": [],
   "source": [
    "print(f\"The mean of my_array with no axis specified is {my_array.mean()}\\n\")\n",
    "\n",
    "print(f\"The mean of my_array with axis 0 specified is {my_array.mean(axis = 0)}\\n\")\n",
    "\n",
    "print(f\"The mean of my_array with axis 1 specified is {my_array.mean(axis = 1)}\\n\")\n",
    "\n",
    "print(f\"The mean of my_array with axis 2 specified is {my_array.mean(axis = 2)}\\n\")\n"
   ]
  },
  {
   "cell_type": "markdown",
   "metadata": {},
   "source": [
    "## Scanning the rows of an image\n",
    "\n",
    "Using these functions we can profile the usage of color throughout an image. \n",
    "\n",
    "One example would be, how does the color usage change as we scan through the rows of an image? This can be useful for numerically identifying different portions of an image that may be of interest. \n",
    "\n",
    "Let's use a painting from Picasso's blue period to see if there is any blue signal..."
   ]
  },
  {
   "cell_type": "code",
   "execution_count": null,
   "metadata": {
    "ExecuteTime": {
     "end_time": "2022-07-25T21:54:46.459257Z",
     "start_time": "2022-07-25T21:54:46.328522Z"
    }
   },
   "outputs": [],
   "source": [
    "old_guitarist_03 = imread(picasso_folder / '1903-The_Old_Guitarist.-7.jpg')\n",
    "print(old_guitarist_03.shape)\n",
    "\n",
    "plt.imshow(old_guitarist_03)\n",
    "plt.show()"
   ]
  },
  {
   "cell_type": "markdown",
   "metadata": {},
   "source": [
    "And now let's plot the row average (or said another way, what is color usage as a function of the row)"
   ]
  },
  {
   "cell_type": "code",
   "execution_count": null,
   "metadata": {
    "ExecuteTime": {
     "end_time": "2022-07-25T19:13:37.701560Z",
     "start_time": "2022-07-25T19:13:37.557675Z"
    }
   },
   "outputs": [],
   "source": [
    "# Specify color maps\n",
    "cmaps = [cm.Reds, cm.Greens, cm.Blues]\n",
    "labels = ['red', 'green', 'blue']\n",
    "\n",
    "# Create figure and subplots\n",
    "fig = plt.figure( figsize = (10, 4)) \n",
    "ax = fig.add_subplot(111)\n",
    "\n",
    "half_frame(ax, 'Row index', 'Channel\\nmean intensity', font_size= my_fontsize)\n",
    "\n",
    "# Calculate means by row\n",
    "for i in range(len(labels)):\n",
    "    ax.plot( old_guitarist_03.mean(axis=1)[:, i], \n",
    "             color = labels[i], linewidth = 1.5 , \n",
    "             label = labels[i])\n",
    "    \n",
    "ax.legend(loc = 'best', frameon = False, fontsize = my_fontsize)    \n",
    "# ax.set_ylim(0, 255)\n",
    "\n",
    "plt.tight_layout()\n",
    "plt.show()\n",
    "\n"
   ]
  },
  {
   "cell_type": "markdown",
   "metadata": {},
   "source": [
    "Isn't that special? as the [Church Lady](https://www.youtube.com/watch?v=puwoUKhZQbg) would say. \n",
    "\n",
    "We have some data but it is difficult to match it to the image.  So let's work a little bit more on the visualization.\n",
    "\n",
    "Add the actual image, rotate the plot so it aligns with the rows, show the full possible range of the channel intensities, that sort of thing... \n"
   ]
  },
  {
   "cell_type": "code",
   "execution_count": null,
   "metadata": {
    "ExecuteTime": {
     "end_time": "2022-07-25T19:13:45.066770Z",
     "start_time": "2022-07-25T19:13:44.854841Z"
    }
   },
   "outputs": [],
   "source": [
    "# Create figure and subplots\n",
    "fig = plt.figure( figsize = (10, 4)) \n",
    "ax = []\n",
    "\n",
    "ax.append( fig.add_subplot(121) )\n",
    "ax[0].imshow(old_guitarist_03)\n",
    "\n",
    "ax.append( fig.add_subplot(122) )\n",
    "half_frame(ax[1], 'Row index', 'Channel\\nmean intensity', font_size= 10)\n",
    "\n",
    "# Calculate means by row\n",
    "for i in range(len(labels)):\n",
    "    ax[1].plot( old_guitarist_03.mean(axis=1)[:, i], \n",
    "                range(0, -old_guitarist_03.shape[0], -1),\n",
    "                color = labels[i], linewidth = 1.5 , \n",
    "                label = labels[i])\n",
    "    \n",
    "ax[1].legend(loc = 'best', frameon = False, fontsize = my_fontsize)    \n",
    "ax[1].set_xlim(0, 255)\n",
    "ax[1].set_ylim(-702,0)\n",
    "\n",
    "plt.tight_layout()\n",
    "\n",
    "\n",
    "plt.show()"
   ]
  },
  {
   "cell_type": "markdown",
   "metadata": {},
   "source": [
    "Ok.\n",
    "\n",
    "So, we can confirm that the figure is quite dark -- notice how the maximum for every channel is below 100.\n",
    "\n",
    "Blue is the most intense channel in the top segment above the head. That may be a window or the view of the darkening sky.  \n",
    "\n",
    "Skin is painted in a greenish tone. So, green is the most intense channel in the rows showing the head and the right arm.\n",
    "\n",
    "On the other hand, the eye is attracted to the brightest regions of the image, and those do have blue overtones.  \n",
    "\n",
    "\n",
    "We could repeat this analysis but for axis 0 (i.e., columns instead of rows). And I recommend that you try it in order to figure out how to modify the visualization to best effect.\n",
    "\n",
    "However, the issue is that we do not look at paintings by rows or by columns, we look at them by **patches**.\n",
    "\n"
   ]
  },
  {
   "cell_type": "markdown",
   "metadata": {},
   "source": [
    "# Filtering image regions\n",
    "\n",
    "In order to move us toward the ability to analyze patches in an image, let's start by considering how to filter regions of the image that fulfill some criteria.\n",
    "\n",
    "For example, what if we are only interest in parts of an image where the blue channel's intensity exceeds 50?\n",
    "\n",
    "In order to do this, we will introduce the concept of masks.  Are you having `pandas` *deja vu*?"
   ]
  },
  {
   "cell_type": "code",
   "execution_count": null,
   "metadata": {
    "ExecuteTime": {
     "end_time": "2022-07-25T21:54:55.548700Z",
     "start_time": "2022-07-25T21:54:55.423919Z"
    }
   },
   "outputs": [],
   "source": [
    "woman_w_crow_04 = imread(picasso_folder / '1904-Woman_with_a_Crow.-4.jpg')\n",
    "\n",
    "plt.imshow(woman_w_crow_04)\n",
    "plt.show()\n"
   ]
  },
  {
   "cell_type": "code",
   "execution_count": null,
   "metadata": {
    "ExecuteTime": {
     "end_time": "2022-07-25T19:14:11.530685Z",
     "start_time": "2022-07-25T19:14:11.422082Z"
    }
   },
   "outputs": [],
   "source": [
    "woman_w_crow_reds = woman_w_crow_04[:,:, 0]\n",
    "plt.imshow(woman_w_crow_reds, cmap='gray')\n",
    "plt.show()"
   ]
  },
  {
   "cell_type": "markdown",
   "metadata": {},
   "source": [
    "Notice that, as usual, low intensities are shown as black, and high intensities as white.\n",
    "\n",
    "Notice also, that slicing off the first layer has created an array with a different shape."
   ]
  },
  {
   "cell_type": "code",
   "execution_count": null,
   "metadata": {
    "ExecuteTime": {
     "end_time": "2022-07-25T19:14:18.295067Z",
     "start_time": "2022-07-25T19:14:18.267765Z"
    }
   },
   "outputs": [],
   "source": [
    "print('original shape', woman_w_crow_04.shape)\n",
    "print('new shape', woman_w_crow_reds.shape)"
   ]
  },
  {
   "cell_type": "markdown",
   "metadata": {},
   "source": [
    "## Creating simple masks\n",
    "\n",
    "This new two dimensional array consists of many numbers between 0 and 255"
   ]
  },
  {
   "cell_type": "code",
   "execution_count": null,
   "metadata": {
    "ExecuteTime": {
     "end_time": "2022-07-25T19:14:22.562952Z",
     "start_time": "2022-07-25T19:14:22.534884Z"
    }
   },
   "outputs": [],
   "source": [
    "woman_w_crow_reds"
   ]
  },
  {
   "cell_type": "markdown",
   "metadata": {},
   "source": [
    "To create a Boolean mask array, we just can just write down a logical expression as we did with `pandas`"
   ]
  },
  {
   "cell_type": "code",
   "execution_count": null,
   "metadata": {
    "ExecuteTime": {
     "end_time": "2022-07-25T19:14:35.655049Z",
     "start_time": "2022-07-25T19:14:35.625445Z"
    }
   },
   "outputs": [],
   "source": [
    "red_mask = woman_w_crow_reds > 100\n",
    "red_mask"
   ]
  },
  {
   "cell_type": "markdown",
   "metadata": {},
   "source": [
    "When plotting the mask, `False` will be seen as 0 and `True` as 1."
   ]
  },
  {
   "cell_type": "code",
   "execution_count": null,
   "metadata": {
    "ExecuteTime": {
     "end_time": "2022-07-25T19:14:37.434086Z",
     "start_time": "2022-07-25T19:14:37.181880Z"
    }
   },
   "outputs": [],
   "source": [
    "print('type:', type(red_mask))\n",
    "print('dtype', red_mask.dtype)\n",
    "print('shape', red_mask.shape)\n",
    "\n",
    "plt.imshow(woman_w_crow_reds, cmap='gray')\n",
    "plt.show()\n",
    "\n",
    "plt.imshow(red_mask, cmap='gray')\n",
    "plt.show()\n",
    "\n",
    "plt.imshow(red_mask[500:600, 200:400], cmap='gray')\n",
    "plt.show()\n"
   ]
  },
  {
   "cell_type": "markdown",
   "metadata": {},
   "source": [
    "A cool property of `numpy` arrays is that we can easily multiplying arrays pixel by pixel. \n",
    "\n",
    "If we multiple the original image by the mask array, we can obliterate anything that we want to ignore. \n",
    "\n"
   ]
  },
  {
   "cell_type": "code",
   "execution_count": null,
   "metadata": {
    "ExecuteTime": {
     "end_time": "2022-07-25T19:15:03.592862Z",
     "start_time": "2022-07-25T19:15:03.490967Z"
    }
   },
   "outputs": [],
   "source": [
    "plt.imshow(woman_w_crow_reds * red_mask, cmap='gray')\n",
    "plt.show()\n"
   ]
  },
  {
   "cell_type": "code",
   "execution_count": null,
   "metadata": {
    "ExecuteTime": {
     "end_time": "2022-07-25T19:15:19.688286Z",
     "start_time": "2022-07-25T19:15:19.658765Z"
    }
   },
   "outputs": [],
   "source": [
    "image_red_mask = np.ones( shape = woman_w_crow_04.shape, dtype = 'int8' )\n",
    "\n",
    "image_red_mask[:,:,0] = red_mask\n",
    "image_red_mask[:,:,1] = red_mask\n",
    "image_red_mask[:,:,2] = red_mask"
   ]
  },
  {
   "cell_type": "code",
   "execution_count": null,
   "metadata": {
    "ExecuteTime": {
     "end_time": "2022-07-25T19:15:20.391919Z",
     "start_time": "2022-07-25T19:15:20.185021Z"
    }
   },
   "outputs": [],
   "source": [
    "plt.imshow(woman_w_crow_04)\n",
    "plt.show()\n",
    "\n",
    "plt.imshow(woman_w_crow_04 * image_red_mask)\n",
    "plt.show()"
   ]
  },
  {
   "cell_type": "markdown",
   "metadata": {},
   "source": [
    "With these operations, we set to black every single pixel for which the red channel's intensity is below 100. \n",
    "\n"
   ]
  },
  {
   "cell_type": "markdown",
   "metadata": {},
   "source": [
    "## Creating complex masks\n",
    "\n",
    "We can string together multiple boolean operations as we did with `pandas` thus creating more complex masks. \n",
    "\n"
   ]
  },
  {
   "cell_type": "code",
   "execution_count": null,
   "metadata": {
    "ExecuteTime": {
     "end_time": "2022-07-25T21:55:07.547359Z",
     "start_time": "2022-07-25T21:55:07.402597Z"
    }
   },
   "outputs": [],
   "source": [
    "first_communion_1895 = imread(picasso_folder / '1895-First_Communion.-11.jpg')\n",
    "plt.imshow(first_communion_1895)\n",
    "plt.show()\n"
   ]
  },
  {
   "cell_type": "markdown",
   "metadata": {},
   "source": [
    "Imagine we want focus on  all the white or nearly-white stuff in this painting.\n",
    "\n",
    "A reasonable hypothesis is that the intensity in every channel must be greater than 200..."
   ]
  },
  {
   "cell_type": "code",
   "execution_count": null,
   "metadata": {
    "ExecuteTime": {
     "end_time": "2022-07-25T19:15:46.599496Z",
     "start_time": "2022-07-25T19:15:46.414356Z"
    }
   },
   "outputs": [],
   "source": [
    "red_mask = first_communion_1895[:,:,0] > 200\n",
    "green_mask = first_communion_1895[:,:,1] > 200\n",
    "blue_mask = first_communion_1895[:,:,2] > 200\n",
    "\n",
    "combination_mask = red_mask & green_mask & blue_mask\n",
    "\n",
    "plt.imshow(combination_mask, cmap = 'gray')\n",
    "plt.show()\n",
    "\n",
    "image_mask = np.ones( shape = first_communion_1895.shape, dtype = 'int8' )\n",
    "image_mask[:,:,0] = combination_mask\n",
    "image_mask[:,:,1] = combination_mask\n",
    "image_mask[:,:,2] = combination_mask\n",
    "\n",
    "\n",
    "plt.imshow( first_communion_1895 * image_mask )\n",
    "plt.show()"
   ]
  },
  {
   "cell_type": "markdown",
   "metadata": {},
   "source": [
    "If you wanted to highlight anything with pure red, what would you?"
   ]
  },
  {
   "cell_type": "code",
   "execution_count": null,
   "metadata": {},
   "outputs": [],
   "source": []
  },
  {
   "cell_type": "code",
   "execution_count": null,
   "metadata": {},
   "outputs": [],
   "source": []
  },
  {
   "cell_type": "code",
   "execution_count": null,
   "metadata": {},
   "outputs": [],
   "source": []
  }
 ],
 "metadata": {
  "anaconda-cloud": {},
  "kernelspec": {
   "display_name": "base",
   "language": "python",
   "name": "base"
  },
  "language_info": {
   "codemirror_mode": {
    "name": "ipython",
    "version": 3
   },
   "file_extension": ".py",
   "mimetype": "text/x-python",
   "name": "python",
   "nbconvert_exporter": "python",
   "pygments_lexer": "ipython3",
   "version": "3.9.12"
  },
  "toc": {
   "base_numbering": 1,
   "nav_menu": {},
   "number_sections": true,
   "sideBar": true,
   "skip_h1_title": false,
   "title_cell": "Table of Contents",
   "title_sidebar": "Contents",
   "toc_cell": false,
   "toc_position": {},
   "toc_section_display": true,
   "toc_window_display": true
  }
 },
 "nbformat": 4,
 "nbformat_minor": 1
}
