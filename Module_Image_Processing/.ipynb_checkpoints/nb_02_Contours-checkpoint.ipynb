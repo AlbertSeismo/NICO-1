{
 "cells": [
  {
   "cell_type": "markdown",
   "metadata": {},
   "source": [
    "# Synopsis\n",
    "\n",
    "So far we've covered the basics of what constitutes an image, color is encoded, and how we can manipulate it. However, when you conduct research the tasks you need to perform are typically more complex (although they always seem easy to do before you start coding!). Some examples of common tasks are:\n",
    "\n",
    "* Automatically identify regions\n",
    "* Identify the borders of said regions\n",
    "* Find bright spots/blobs\n",
    "* Skeletonize shapes (i.e. find the backbone)\n",
    "\n",
    "We'll go over some basic methods to do some of these methods using [`scikit-image`](https://scikit-image.org/). The  package is a sister to the `scikit-learn` package, both of these packages are focused on implementing machine-learning methods in Python but `scikit-image`, as you probably guessed, is geared towards algorithms that can be applied to images. \n",
    "\n",
    "`scikit-image` functions are stored in the library `skimage`."
   ]
  },
  {
   "cell_type": "markdown",
   "metadata": {},
   "source": [
    "# Read libraries and functions"
   ]
  },
  {
   "cell_type": "code",
   "execution_count": null,
   "metadata": {
    "ExecuteTime": {
     "end_time": "2022-07-27T15:29:46.698076Z",
     "start_time": "2022-07-27T15:29:45.493264Z"
    }
   },
   "outputs": [],
   "source": [
    "%load_ext autoreload\n",
    "%autoreload 2\n",
    "%matplotlib inline\n",
    "\n",
    "my_fontsize = 15"
   ]
  },
  {
   "cell_type": "code",
   "execution_count": null,
   "metadata": {
    "ExecuteTime": {
     "end_time": "2022-07-27T15:29:47.257982Z",
     "start_time": "2022-07-27T15:29:46.699459Z"
    }
   },
   "outputs": [],
   "source": [
    "import matplotlib as mpl\n",
    "import matplotlib.pyplot as plt\n",
    "import matplotlib.cm as cm\n",
    "import numpy as np\n",
    "\n",
    "from pathlib import Path\n",
    "from pylab import imread, imshow\n",
    "from skimage import data, img_as_float, measure, transform"
   ]
  },
  {
   "cell_type": "code",
   "execution_count": null,
   "metadata": {
    "ExecuteTime": {
     "end_time": "2022-07-27T15:29:47.275168Z",
     "start_time": "2022-07-27T15:29:47.258875Z"
    }
   },
   "outputs": [],
   "source": [
    "def half_frame(sub, xaxis_label, yaxis_label, font_size = 15, padding = -0.02):\n",
    "    \"\"\"Formats frame, axes, and ticks for matplotlib made graphic \n",
    "       with half frame.\n",
    "       \n",
    "    \"\"\"\n",
    "\n",
    "    # Format graph frame and tick marks\n",
    "    sub.yaxis.set_ticks_position('left')\n",
    "    sub.xaxis.set_ticks_position('bottom')\n",
    "    sub.tick_params(axis = 'both', which = 'major', length = 7, width = 1.5, \n",
    "                    direction = 'out', pad = 10, labelsize = font_size)\n",
    "    sub.tick_params(axis = 'both', which = 'minor', length = 5, width = 1.5, \n",
    "                    direction = 'out', labelsize = 10)\n",
    "    for axis in ['bottom','left']:\n",
    "        sub.spines[axis].set_linewidth(1.5)\n",
    "        sub.spines[axis].set_position((\"axes\", padding))\n",
    "    for axis in ['top','right']:\n",
    "        sub.spines[axis].set_visible(False)\n",
    "\n",
    "    # Format axes\n",
    "    sub.set_xlabel(xaxis_label, fontsize = 1.6 * font_size)\n",
    "    sub.set_ylabel(yaxis_label, fontsize = 1.6 * font_size)\n"
   ]
  },
  {
   "cell_type": "markdown",
   "metadata": {},
   "source": [
    "# Identifying image foreground features\n",
    "\n",
    "One common technique researchers will want to use is identifying the edge of certain regions. This is useful in a number of contexts, such as:\n",
    "\n",
    "* Identifying the borders of cells in a microscope image\n",
    "* Finding areas in geographic areas\n",
    "\n",
    "This procedure is typically called contour finding and we can use an algorithm that is implemented in `scikit-image`."
   ]
  },
  {
   "cell_type": "code",
   "execution_count": null,
   "metadata": {
    "ExecuteTime": {
     "end_time": "2022-07-27T15:29:47.595448Z",
     "start_time": "2022-07-27T15:29:47.388311Z"
    }
   },
   "outputs": [],
   "source": [
    "coins_original = img_as_float( data.coins() )\n",
    "print(coins_original.shape)\n",
    "\n",
    "imshow(coins_original, cmap = 'gray')\n",
    "plt.show()"
   ]
  },
  {
   "cell_type": "markdown",
   "metadata": {},
   "source": [
    "## Zooming in\n",
    "\n",
    "To help us with image processing it is often useful to be able to magnify parts of an image.  The function below does exactly that for grayscale images.\n",
    "\n",
    "As an exercise, create a similar function for magnifying portions of `RGB` images."
   ]
  },
  {
   "cell_type": "code",
   "execution_count": null,
   "metadata": {
    "ExecuteTime": {
     "end_time": "2022-07-27T15:29:48.533041Z",
     "start_time": "2022-07-27T15:29:48.425709Z"
    },
    "code_folding": [
     0
    ]
   },
   "outputs": [],
   "source": [
    "def flat_zoom_at(image, x, y, linear_zoom):\n",
    "    w_h = image.shape\n",
    "    width = int( min(w_h) / linear_zoom / 2 )\n",
    "    \n",
    "    if width > x:\n",
    "        x0 = 0\n",
    "        x1 = 2 * width\n",
    "    elif x + width >= w_h[0] :\n",
    "        x1 = w_h[0]\n",
    "        x0 = w_h[0] - 2 * width\n",
    "    else:\n",
    "        x0 = x - width\n",
    "        x1 = x + width\n",
    "        \n",
    "    if width > y:\n",
    "        y0 = 0\n",
    "        y1 = 2 * width\n",
    "    elif y + width >= w_h[1] :\n",
    "        y1 = w_h[1]\n",
    "        y0 = w_h[1] - 2 * width\n",
    "    else:\n",
    "        y0 = y - width\n",
    "        y1 = y + width    \n",
    "        \n",
    "    new_image = np.copy(image[ x0 : x1, y0 : y1] ) \n",
    "    imshow( transform.rescale(new_image, linear_zoom), cmap = 'gray' )\n",
    "    \n",
    "flat_zoom_at(coins_original, 50, 40, 5)"
   ]
  },
  {
   "cell_type": "markdown",
   "metadata": {},
   "source": [
    "## Contours\n",
    "\n",
    "Next we can use a contour finding algorithm. In `scikit-image` there is the `find_contours` algorithm that is an implementation of the [marching squares algorithm](http://users.polytech.unice.fr/~lingrand/MarchingCubes/algo.html). This algorithm constructs the image as a grid and attempts to draw lines along the edges of the squares in the grid. "
   ]
  },
  {
   "cell_type": "code",
   "execution_count": null,
   "metadata": {
    "ExecuteTime": {
     "end_time": "2022-07-27T15:29:49.692683Z",
     "start_time": "2022-07-27T15:29:49.600162Z"
    }
   },
   "outputs": [],
   "source": [
    "contours = measure.find_contours(coins_original)\n",
    "print(type(contours))\n",
    "print()\n",
    "\n",
    "print(len(contours))\n",
    "print()\n",
    "\n",
    "print(contours[0])\n"
   ]
  },
  {
   "cell_type": "markdown",
   "metadata": {
    "ExecuteTime": {
     "end_time": "2022-07-25T15:43:23.666970Z",
     "start_time": "2022-07-25T15:43:23.631304Z"
    }
   },
   "source": [
    "That seems a bit much...  So let us see what this did... "
   ]
  },
  {
   "cell_type": "code",
   "execution_count": null,
   "metadata": {
    "ExecuteTime": {
     "end_time": "2022-07-27T15:29:51.021767Z",
     "start_time": "2022-07-27T15:29:50.518318Z"
    }
   },
   "outputs": [],
   "source": [
    "fig = plt.figure()\n",
    "ax = fig.add_subplot(111)\n",
    "\n",
    "ax.imshow(coins_original, cmap = 'gray')\n",
    "\n",
    "for n, contour in enumerate(contours):\n",
    "    ax.plot(contour[:, 1], contour[:, 0], linewidth=2)\n"
   ]
  },
  {
   "cell_type": "markdown",
   "metadata": {},
   "source": [
    "**Holy &%(^&!!!!**\n",
    "\n",
    "Yes, there are some good contours there but...\n",
    "\n",
    "If you look at the image attentively, it becomes clear that the background in the top left corner is brighter than in the bottom right corner.\n",
    "\n",
    "Moreover, no contours are found in the top left corner, whereas many absurd looking contours are found in the transition region between dark and light background. \n",
    "\n",
    "The `find_countours()` function took two arguments from us: image array and a `level` parameter value. \n",
    "\n",
    "> Parameters\n",
    ">\n",
    "> ----------\n",
    ">\n",
    "> image : 2D ndarray of double\n",
    ">\n",
    ">    Input image in which to find contours.\n",
    ">\n",
    "> level : float, optional\n",
    "> \n",
    "> Value along which to find contours in the array. By default, the level\n",
    ">    is set to (max(image) + min(image)) / 2\n",
    "\n",
    "\n",
    "The `level` controls the value around which the algorithm should attempt to find the contours - this is our free parameter.  We set it to 0.2, which is not really great. \n",
    "\n",
    "But, **is there a good value?**\n",
    "\n",
    "Let's play with it."
   ]
  },
  {
   "cell_type": "code",
   "execution_count": null,
   "metadata": {
    "ExecuteTime": {
     "end_time": "2022-07-27T15:29:51.631053Z",
     "start_time": "2022-07-27T15:29:51.446704Z"
    }
   },
   "outputs": [],
   "source": [
    "#Try level from 0.2 to 0.8\n",
    "#\n",
    "level = 0.2\n",
    "\n",
    "fig = plt.figure()\n",
    "ax = fig.add_subplot(111)\n",
    "\n",
    "ax.imshow(coins_original, cmap = 'gray')\n",
    "\n",
    "contours = measure.find_contours(coins_original, level)\n",
    "for n, contour in enumerate(contours):\n",
    "    if len(contour) > 50:\n",
    "        ax.plot(contour[:, 1], contour[:, 0], linewidth=2)"
   ]
  },
  {
   "cell_type": "markdown",
   "metadata": {},
   "source": [
    "## Identifying the background\n",
    "\n",
    "Clearly, there is no good single value. the problem is that the background has different properties in different regions of the image.\n",
    "\n",
    "So maybe the solution is to try to make the background uniform...\n",
    "\n",
    "But first we need to find out what the background properties are...\n"
   ]
  },
  {
   "cell_type": "code",
   "execution_count": null,
   "metadata": {
    "ExecuteTime": {
     "end_time": "2022-07-27T15:29:52.974770Z",
     "start_time": "2022-07-27T15:29:52.798697Z"
    }
   },
   "outputs": [],
   "source": [
    "w, h = coins_original.shape\n",
    "intensities = coins_original.reshape((w*h, 1))\n",
    "print(intensities.shape)\n",
    "print(np.median(intensities))\n",
    "\n",
    "fig = plt.figure(figsize = (12, 4))\n",
    "ax = fig.add_subplot(111)\n",
    "\n",
    "half_frame(ax, 'Intensity', 'Frequency', font_size = my_fontsize)\n",
    "ax.hist(intensities, bins = np.arange(0, 1, 0.02), rwidth = 0.9)\n",
    "\n",
    "ax.vlines(np.median(intensities), 0, 6000, color = 'black', lw = 4)\n",
    "\n",
    "plt.tight_layout()"
   ]
  },
  {
   "cell_type": "markdown",
   "metadata": {},
   "source": [
    "About 50% of image is background, so we could set all values below the median intensity to zero and see what that does to the image...\n"
   ]
  },
  {
   "cell_type": "code",
   "execution_count": null,
   "metadata": {
    "ExecuteTime": {
     "end_time": "2022-07-27T15:29:54.318089Z",
     "start_time": "2022-07-27T15:29:54.137811Z"
    }
   },
   "outputs": [],
   "source": [
    "image_mask = coins_original > np.median(intensities)\n",
    "\n",
    "imshow(coins_original * image_mask, cmap = 'gray')\n",
    "plt.show()\n",
    "\n",
    "imshow(coins_original, cmap = 'gray')\n",
    "plt.show()"
   ]
  },
  {
   "cell_type": "code",
   "execution_count": null,
   "metadata": {
    "ExecuteTime": {
     "end_time": "2022-07-27T15:29:55.167042Z",
     "start_time": "2022-07-27T15:29:54.820354Z"
    }
   },
   "outputs": [],
   "source": [
    "fig = plt.figure( figsize = (8, 8))\n",
    "ax = []\n",
    "\n",
    "ax.append(fig.add_subplot(221))\n",
    "ax[-1] = flat_zoom_at(coins_original * image_mask, 200, 275, 4)\n",
    "\n",
    "ax.append(fig.add_subplot(222))\n",
    "ax[-1] = flat_zoom_at(coins_original, 200, 275, 4)\n",
    "\n",
    "ax.append(fig.add_subplot(223))\n",
    "ax[-1] = flat_zoom_at(coins_original * image_mask, 50, 50, 4)\n",
    "\n",
    "ax.append(fig.add_subplot(224))\n",
    "ax[-1] = flat_zoom_at(coins_original, 50, 50, 4)\n",
    "\n",
    "plt.tight_layout()"
   ]
  },
  {
   "cell_type": "markdown",
   "metadata": {},
   "source": [
    "### Backgrounds with changing properties\n",
    "\n",
    "So, it is not great that some regions insider the foreground were set to zero or that the background in the top left corner remained unchanged.\n",
    "\n",
    "A solution to this issue is to set a threshold for the background that depends on the specific region of the image"
   ]
  },
  {
   "cell_type": "code",
   "execution_count": null,
   "metadata": {
    "ExecuteTime": {
     "end_time": "2022-07-27T15:29:57.315109Z",
     "start_time": "2022-07-27T15:29:56.233309Z"
    }
   },
   "outputs": [],
   "source": [
    "# divide figure into n^2 sections\n",
    "n = 4\n",
    "\n",
    "step_x = int( w / n + 0.5)\n",
    "step_y = int( h / n + 0.5)\n",
    "section = []\n",
    "\n",
    "for i in range(n):\n",
    "    section.append([])\n",
    "    for j in range(n):\n",
    "        section[-1].append(coins_original[i*step_x:(i+1)*step_x,\n",
    "                                          j*step_y:(j+1)*step_y])\n",
    "        \n",
    "\n",
    "for i in range(n):\n",
    "    for j in range(n):\n",
    "        w_1, h_1 = section[i][j].shape\n",
    "        section_intensities = section[i][j].reshape((w_1*h_1,1))\n",
    "        section_quantile = np.quantile(section_intensities, 0.4)\n",
    "#         print(section_intensities.shape, section_quantile)\n",
    "        mask = section[i][j] > max(0.33, section_quantile)\n",
    "        section[i][j] = section[i][j] * mask\n",
    "        imshow(section[i][j], cmap = 'gray')\n",
    "        plt.show()"
   ]
  },
  {
   "cell_type": "code",
   "execution_count": null,
   "metadata": {
    "ExecuteTime": {
     "end_time": "2022-07-27T15:29:57.401717Z",
     "start_time": "2022-07-27T15:29:57.316309Z"
    }
   },
   "outputs": [],
   "source": [
    "coins_filtered = []\n",
    "for i in range(n):\n",
    "    coins_filtered.append( np.concatenate(section[i][:], axis = 1) )\n",
    "                          \n",
    "coins_filtered = np.concatenate(coins_filtered, axis = 0)\n",
    "\n",
    "imshow(coins_filtered, cmap = 'gray')\n",
    "plt.show()"
   ]
  },
  {
   "cell_type": "markdown",
   "metadata": {},
   "source": [
    "## Contour length as a clue to relevance\n",
    "\n",
    "Considering the contours identified earlier, it is clearly that not all of them are similar. Some are very small and likely are identifying similar regions within the background or regions of the foreground. Others are very long and may be related to a background with changing properties."
   ]
  },
  {
   "cell_type": "code",
   "execution_count": null,
   "metadata": {
    "ExecuteTime": {
     "end_time": "2022-07-27T15:29:57.630420Z",
     "start_time": "2022-07-27T15:29:57.403494Z"
    }
   },
   "outputs": [],
   "source": [
    "level = 0.4\n",
    "\n",
    "fig = plt.figure( figsize = (12, 6))\n",
    "ax1 = fig.add_subplot(121)\n",
    "ax2 = fig.add_subplot(122)\n",
    "\n",
    "ax1.imshow(coins_original, cmap = 'gray')\n",
    "ax2.imshow(coins_filtered, cmap = 'gray')\n",
    "\n",
    "contours = measure.find_contours(coins_filtered, level)\n",
    "clean_contours = []\n",
    "for n, contour in enumerate(contours):\n",
    "    if len(contour) > 100 and len(contour) < 500:\n",
    "        clean_contours.append(contour)\n",
    "        ax1.plot(contour[:, 1], contour[:, 0], linewidth = 1)\n",
    "        ax2.plot(contour[:, 1], contour[:, 0], linewidth = 2)\n",
    "        \n",
    "print(f\"We got {len(clean_contours)} clean contours.\")"
   ]
  },
  {
   "cell_type": "markdown",
   "metadata": {},
   "source": [
    "Pretty nice, ah?\n",
    "\n",
    "## Properties of foreground features\n",
    "\n",
    "Now that we have our contours, if we could retrieve the pixels inside each of the contours we could calculate some properties of the objects inside.\n",
    "\n",
    "Fortunately, there is a function that returns a mask array for points inside a polygon (or a contour):\n",
    "\n",
    "> `measure.grid_points_in_poly`( shape, contour )\n",
    "\n"
   ]
  },
  {
   "cell_type": "code",
   "execution_count": null,
   "metadata": {
    "ExecuteTime": {
     "end_time": "2022-07-27T15:29:59.764916Z",
     "start_time": "2022-07-27T15:29:59.500947Z"
    }
   },
   "outputs": [],
   "source": [
    "contour_mask = measure.grid_points_in_poly(coins_original.shape, clean_contours[0])\n",
    "\n",
    "imshow(coins_original * contour_mask, cmap = 'gray')\n",
    "plt.show()\n",
    "\n",
    "flat_zoom_at(coins_original * contour_mask, 45, 330, 4)\n",
    "plt.show()"
   ]
  },
  {
   "cell_type": "markdown",
   "metadata": {},
   "source": [
    "By counting the number of values that are `True` in the mask, we can determine the area of our object.\n",
    "\n",
    "We can also extract the intensities of the image inside the contour and find their distribution.\n"
   ]
  },
  {
   "cell_type": "code",
   "execution_count": null,
   "metadata": {
    "ExecuteTime": {
     "end_time": "2022-07-27T15:30:00.786041Z",
     "start_time": "2022-07-27T15:30:00.423050Z"
    }
   },
   "outputs": [],
   "source": [
    "area = sum( contour_mask.reshape((w*h, 1)) )\n",
    "print(f\"The area inside the contour is {area[0]} pixels.\\n\" )\n",
    "\n",
    "intensities = list( (coins_original * contour_mask).reshape((w*h, 1)) )\n",
    "intensities = np.array( [x for x in intensities if x > 0] )\n",
    "\n",
    "fig = plt.figure(figsize = (12, 4))\n",
    "ax = fig.add_subplot(111)\n",
    "\n",
    "half_frame(ax, 'Intensity', 'Frequency', font_size = my_fontsize)\n",
    "ax.hist(intensities, bins = np.arange(0, 1, 0.02), rwidth = 0.9)\n",
    "ax.set_xlim(0, 1)\n",
    "\n",
    "ax.vlines(np.median(intensities), 0, 300, color = 'black', lw = 4)\n",
    "\n",
    "plt.tight_layout()"
   ]
  },
  {
   "cell_type": "markdown",
   "metadata": {},
   "source": [
    "# Identifying cells in microscopy images\n",
    "\n",
    "\n",
    "Microscopy offers incredible windows into biological systems at the cellular and molecular level.  To get a pick into that wonderful world, we will look at images of cells on plates from Cell Image Library.\n",
    "\n",
    "and write code to identify the contour of the cells, and then measure how well our code performs."
   ]
  },
  {
   "cell_type": "code",
   "execution_count": null,
   "metadata": {
    "ExecuteTime": {
     "end_time": "2022-07-27T15:40:45.849756Z",
     "start_time": "2022-07-27T15:40:45.820552Z"
    }
   },
   "outputs": [],
   "source": [
    "cells_folder = Path.cwd() / 'Data' / 'Cell_images'\n",
    "bbbc_folder = cells_folder / 'BBBC022_v1_images_20585w1'"
   ]
  },
  {
   "cell_type": "code",
   "execution_count": null,
   "metadata": {
    "ExecuteTime": {
     "end_time": "2022-07-27T15:44:08.260287Z",
     "start_time": "2022-07-27T15:44:08.136108Z"
    }
   },
   "outputs": [],
   "source": [
    "cell_images = list( bbbc_folder.glob('*') )\n",
    "print(len(cell_images))\n",
    "print()\n",
    "\n",
    "plate_1 = imread(cell_images[1])\n",
    "print(f\"Image has shape {plate_1.shape}.\\n\")\n",
    "      \n",
    "imshow(plate_1, cmap = 'gray')\n",
    "plt.show()"
   ]
  },
  {
   "cell_type": "markdown",
   "metadata": {},
   "source": [
    "This image is actually nicer than the one with the coins.  The background appears to be much more uniform and more distinct from the foreground.\n",
    "\n",
    "## Function for calculating histogram of intensities\n",
    "\n",
    "Let's put the code that calculates the distribution of intensities in a picture into a function and use it to generate histograms for all cell plates.\n"
   ]
  },
  {
   "cell_type": "code",
   "execution_count": null,
   "metadata": {},
   "outputs": [],
   "source": []
  },
  {
   "cell_type": "markdown",
   "metadata": {},
   "source": [
    "## Functions for identifying relevant contours\n",
    "\n",
    "Re-write some of the code above in order to identify the contours of the cells in the plates.  Does the code need to be different based on whether the background is uniform or not?"
   ]
  },
  {
   "cell_type": "code",
   "execution_count": null,
   "metadata": {},
   "outputs": [],
   "source": []
  },
  {
   "cell_type": "markdown",
   "metadata": {},
   "source": [
    "## Functions for calculating properties of the cells\n",
    "\n",
    "Write functions that generate a mask for the pixels within a contour.\n",
    "\n",
    "Write a function that calculates the total number of pixels within a contour.\n",
    "\n",
    "Write a function that calculates and histogram of the intensities within a contour and descriptive statistics of those values. \n"
   ]
  },
  {
   "cell_type": "code",
   "execution_count": null,
   "metadata": {},
   "outputs": [],
   "source": []
  },
  {
   "cell_type": "code",
   "execution_count": null,
   "metadata": {},
   "outputs": [],
   "source": []
  },
  {
   "cell_type": "code",
   "execution_count": null,
   "metadata": {},
   "outputs": [],
   "source": []
  },
  {
   "cell_type": "code",
   "execution_count": null,
   "metadata": {},
   "outputs": [],
   "source": []
  }
 ],
 "metadata": {
  "anaconda-cloud": {},
  "kernelspec": {
   "display_name": "base",
   "language": "python",
   "name": "base"
  },
  "language_info": {
   "codemirror_mode": {
    "name": "ipython",
    "version": 3
   },
   "file_extension": ".py",
   "mimetype": "text/x-python",
   "name": "python",
   "nbconvert_exporter": "python",
   "pygments_lexer": "ipython3",
   "version": "3.9.12"
  },
  "toc": {
   "base_numbering": 1,
   "nav_menu": {},
   "number_sections": true,
   "sideBar": true,
   "skip_h1_title": false,
   "title_cell": "Table of Contents",
   "title_sidebar": "Contents",
   "toc_cell": false,
   "toc_position": {
    "height": "calc(100% - 180px)",
    "left": "10px",
    "top": "150px",
    "width": "204.567px"
   },
   "toc_section_display": true,
   "toc_window_display": true
  }
 },
 "nbformat": 4,
 "nbformat_minor": 1
}
