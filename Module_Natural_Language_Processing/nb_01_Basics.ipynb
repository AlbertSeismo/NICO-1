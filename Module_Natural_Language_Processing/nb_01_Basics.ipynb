{
 "cells": [
  {
   "cell_type": "markdown",
   "metadata": {},
   "source": [
    "# Synopsis\n",
    "\n",
    "Unstructured text is one of the most plentiful sources of data in many disciplines. However, because this data is unstructured (meaning that it isn't organized nicely into an excel spreadsheet) even basic analysis can be a bit more involved than with other data. In this unit we will go over the basics of textual analysis and cover:\n",
    "\n",
    "* Techniques for **parsing** large-scale text\n",
    "* Basic **bag of words** analysis\n",
    "* Examining **distributions** of word usage"
   ]
  },
  {
   "cell_type": "markdown",
   "metadata": {},
   "source": [
    "# Read libraries and functions"
   ]
  },
  {
   "cell_type": "code",
   "execution_count": null,
   "metadata": {
    "ExecuteTime": {
     "end_time": "2022-07-18T21:16:40.537612Z",
     "start_time": "2022-07-18T21:16:39.276847Z"
    }
   },
   "outputs": [],
   "source": [
    "%load_ext autoreload\n",
    "%autoreload 2\n",
    "%matplotlib inline\n",
    "\n",
    "my_fontsize = 15"
   ]
  },
  {
   "cell_type": "code",
   "execution_count": null,
   "metadata": {
    "ExecuteTime": {
     "end_time": "2022-08-15T22:03:27.640809Z",
     "start_time": "2022-08-15T22:03:26.128761Z"
    }
   },
   "outputs": [],
   "source": [
    "import matplotlib.pyplot as plt\n",
    "import matplotlib.cm as cm\n",
    "import numpy as np\n",
    "import pandas as pd\n",
    "\n",
    "from collections import Counter\n",
    "from pathlib import Path\n",
    "from random import random\n",
    "from string import punctuation, whitespace\n"
   ]
  },
  {
   "cell_type": "code",
   "execution_count": null,
   "metadata": {
    "ExecuteTime": {
     "end_time": "2022-07-19T20:50:39.110811Z",
     "start_time": "2022-07-19T20:50:39.081425Z"
    }
   },
   "outputs": [],
   "source": [
    "def half_frame(sub, xaxis_label, yaxis_label, font_size = 15, padding = -0.02):\n",
    "    \"\"\"Formats frame, axes, and ticks for matplotlib made graphic \n",
    "       with half frame.\n",
    "       \n",
    "    \"\"\"\n",
    "\n",
    "    # Format graph frame and tick marks\n",
    "    sub.yaxis.set_ticks_position('left')\n",
    "    sub.xaxis.set_ticks_position('bottom')\n",
    "    sub.tick_params(axis = 'both', which = 'major', length = 7, width = 1.5, \n",
    "                    direction = 'out', pad = 10, labelsize = font_size)\n",
    "    sub.tick_params(axis = 'both', which = 'minor', length = 5, width = 1.5, \n",
    "                    direction = 'out', labelsize = 10)\n",
    "    for axis in ['bottom','left']:\n",
    "        sub.spines[axis].set_linewidth(1.5)\n",
    "        sub.spines[axis].set_position((\"axes\", padding))\n",
    "    for axis in ['top','right']:\n",
    "        sub.spines[axis].set_visible(False)\n",
    "\n",
    "    # Format axes\n",
    "    sub.set_xlabel(xaxis_label, fontsize = 1.6 * font_size)\n",
    "    sub.set_ylabel(yaxis_label, fontsize = 1.6 * font_size)\n"
   ]
  },
  {
   "cell_type": "markdown",
   "metadata": {},
   "source": [
    "# Text as data\n",
    "\n",
    "Whether it's extracting numerical data from text, or dealing with text directly, the ability to manipulate text in the form of strings is essential for any number of data science projects. More importantly, analyzing text allows for quantitative analysis in a number of areas that would be prohibitive otherwise.\n",
    "\n",
    "Over a decade ago, Google convinced librarians around the world to scan their books for the [Google Books Project](https://www.newyorker.com/business/currency/what-ever-happened-to-google-books). (At the time, people were still buying into their *Do no harm* bullshit $-$ the [Wikipedia page](https://en.wikipedia.org/wiki/Google_Books) provides a less wide-eyed version).  \n",
    "\n",
    "While Google intentions were far from altruistic, the scanning and digitization ended up creating an exciting resource that has enabled all sorts of previously impossible analyses. For example [Michel et al.](https://www.science.org/doi/10.1126/science.1199644) studied the changes in occurrences of specific words or groups of words in books over time:\n",
    "\n",
    "<img src = \"Images/electronic_book_use.png\" width = 600>\n",
    "\n",
    "\n",
    "Quantitative textual analysis makes the task of longitudinal analysis or simply large-scale text possible. However, one important point that I want to impress upon you is that **textual analysis is not nearly as simple as it seems**.  Teaching computers how to perform tasks that are innately easy to you can be quite challenging. \n"
   ]
  },
  {
   "cell_type": "markdown",
   "metadata": {},
   "source": [
    "# The Data\n",
    "\n",
    "While the Google's motivation was problematic, a competing effort $-$ [Project Gutenberg](http://www.gutenberg.org) $-$ was digitizing thousands of post-copyright books and making them freely available to all in numerous formats.\n",
    "\n",
    "<table>\n",
    "    <tr>\n",
    "        <td>\n",
    "            <img src = 'Images/qPSwl88-_400x400.png' width = 80>\n",
    "        </td>\n",
    "        <td>\n",
    "            <img src = 'Images/gutenberg_twain.png' width = 500>\n",
    "        </td>\n",
    "    </tr>\n",
    "</table>\n",
    "\n",
    "\n",
    "Luckily for us, this includes the complete works of William Shakespeare which we've pre-downloaded for you.\n",
    "\n",
    "<img src = 'Images/gutenberg_shakespeare.png' width = 600>\n",
    "\n",
    "\n",
    "For data processing in a computer, the best format is typically **plain text**.\n",
    "\n"
   ]
  },
  {
   "cell_type": "markdown",
   "metadata": {},
   "source": [
    "First things first, **ALWAYS LOOK AT YOUR DATA**. \n",
    "\n",
    "<img src = 'Images/complete_works.png' width = 600>\n",
    "\n",
    "\n",
    "\n",
    "Now is the time to open [Shakespeare.txt](../Data/NLP/Shakespeare.txt).\n",
    "\n",
    "**So, what questions do you want to be able to answer in order to start working?**\n",
    "\n",
    "> 1. How are different plays separated from one another?\n",
    ">\n",
    "> 2. How is dialogue formatted?\n",
    ">\n",
    "> 3. What extraneous information might we want to ignore?\n",
    ">\n",
    "> 4. How \"well behaved\" is our dataset? (i.e. is the formatting general or unique for different plays?)\n",
    "\n",
    "We will need the answers to all those questions in order to be able to write code to analyze the text. \n",
    "\n",
    ".\n",
    "\n",
    "\n",
    "\n",
    ".\n",
    "\n",
    "But, first, let's read the file...\n"
   ]
  },
  {
   "cell_type": "code",
   "execution_count": null,
   "metadata": {
    "ExecuteTime": {
     "end_time": "2022-07-19T16:58:12.291680Z",
     "start_time": "2022-07-19T16:58:12.228479Z"
    }
   },
   "outputs": [],
   "source": [
    "with open(Path.cwd() / 'Data' / 'Shakespeare.txt', \n",
    "          'r', encoding= 'UTF-8') as file_in:\n",
    "    complete_works = file_in.readlines()\n",
    "    \n",
    "print(len(complete_works))"
   ]
  },
  {
   "cell_type": "code",
   "execution_count": null,
   "metadata": {
    "ExecuteTime": {
     "end_time": "2022-07-18T21:47:05.815209Z",
     "start_time": "2022-07-18T21:47:05.779863Z"
    }
   },
   "outputs": [],
   "source": [
    "complete_works[:40]"
   ]
  },
  {
   "cell_type": "markdown",
   "metadata": {},
   "source": [
    "# What can we do with this text?\n",
    "\n",
    "First of all, remember that the computer is not an English major.  \n",
    "\n",
    "However, the computer is able to complete long repetitive actions without error or lack of concentration.  So, whatever we can think involving counting, assigning, or comparing, we can do.\n",
    "\n",
    "Even these simple analyses can be quite revealing.  For example, do you know that instructor evaluations tend to use different words to describe the teaching of men and women? Do you know that letters of recommendation also tend to use different terms for describing the skills and potential of men and women? Or that different ethnic groups are described using different terms?\n",
    "\n",
    "Second, the computer is not an English major, but you may very well be one.  For this reason you can instruct the computer on what to do that could be of interest to an English major.\n",
    "\n",
    "But before we do any of that, it is useful to have a little refresher on `string` parsing. \n",
    "\n"
   ]
  },
  {
   "cell_type": "markdown",
   "metadata": {},
   "source": [
    "# `String` parsing refresher"
   ]
  },
  {
   "cell_type": "code",
   "execution_count": null,
   "metadata": {
    "ExecuteTime": {
     "end_time": "2022-07-18T21:57:40.815658Z",
     "start_time": "2022-07-18T21:57:40.787108Z"
    }
   },
   "outputs": [],
   "source": [
    "with open(Path.cwd() / 'Data' / 'spoiler_alert.txt', \n",
    "          'r', encoding= 'UTF-8') as file_in:\n",
    "    spoiler_alert = file_in.readlines()\n",
    "    \n",
    "print(len(spoiler_alert))"
   ]
  },
  {
   "cell_type": "markdown",
   "metadata": {},
   "source": [
    "Let's iterate through the lines to see what the data looks like:"
   ]
  },
  {
   "cell_type": "code",
   "execution_count": null,
   "metadata": {
    "ExecuteTime": {
     "end_time": "2022-07-18T21:59:44.590659Z",
     "start_time": "2022-07-18T21:59:44.560309Z"
    }
   },
   "outputs": [],
   "source": [
    "print(spoiler_alert)\n",
    "print()\n",
    "\n",
    "for line in spoiler_alert:\n",
    "    print(line)"
   ]
  },
  {
   "cell_type": "markdown",
   "metadata": {},
   "source": [
    "## Removing white spaces at start and end of lines\n",
    "\n",
    "When we print line by line there is a lot of empty lines. This is due to an invisible character: `\\n` aka the *new line character*.\n",
    "\n",
    "Usually, it is helpful to get rid of white space that helps humans read but serves no purpose for computers. As you might recall, we can easily strip a `string` of those things."
   ]
  },
  {
   "cell_type": "code",
   "execution_count": null,
   "metadata": {
    "ExecuteTime": {
     "end_time": "2022-07-18T22:02:17.386190Z",
     "start_time": "2022-07-18T22:02:17.354245Z"
    }
   },
   "outputs": [],
   "source": [
    "for line in spoiler_alert:\n",
    "    print(line.strip())"
   ]
  },
  {
   "cell_type": "markdown",
   "metadata": {},
   "source": [
    "Three things to notice.\n",
    "\n",
    "First, the extra empty lines have disappeared.\n",
    "\n",
    "Second, actual empty lines did not, and neither did white spaces within a line.\n",
    "\n",
    "Third, we have not modified our strings\n"
   ]
  },
  {
   "cell_type": "code",
   "execution_count": null,
   "metadata": {
    "ExecuteTime": {
     "end_time": "2022-07-18T22:04:16.687480Z",
     "start_time": "2022-07-18T22:04:16.657801Z"
    }
   },
   "outputs": [],
   "source": [
    "spoiler_alert[3]"
   ]
  },
  {
   "cell_type": "markdown",
   "metadata": {},
   "source": [
    "## Adding line numbers\n",
    "\n",
    "Using `enumerate`, we can easily get line number when we print. \n",
    "\n",
    "This is particularly helpful when we are trying to **slice** the `list` of line in order to get to what we want. "
   ]
  },
  {
   "cell_type": "code",
   "execution_count": null,
   "metadata": {
    "ExecuteTime": {
     "end_time": "2022-07-18T22:06:10.036769Z",
     "start_time": "2022-07-18T22:06:10.006017Z"
    }
   },
   "outputs": [],
   "source": [
    "for i, line in enumerate(spoiler_alert):\n",
    "    print(f\"{i:>4} -- {line.strip()}\")"
   ]
  },
  {
   "cell_type": "markdown",
   "metadata": {},
   "source": [
    "## Searching for specific text in a line\n",
    "\n",
    "Many times, you are interested in pulling certain lines for the entire text.  Maybe they contain a keyword of interest to you... or maybe they are spoken by a certain character... "
   ]
  },
  {
   "cell_type": "code",
   "execution_count": null,
   "metadata": {
    "ExecuteTime": {
     "end_time": "2022-07-18T22:10:26.271595Z",
     "start_time": "2022-07-18T22:10:26.242354Z"
    }
   },
   "outputs": [],
   "source": [
    "for i, line in enumerate(spoiler_alert):\n",
    "    if 'the' in line:\n",
    "        print(f\"{i:>4} -- {line.strip()}\")"
   ]
  },
  {
   "cell_type": "markdown",
   "metadata": {},
   "source": [
    "Why aren't lines 1 (\"The potent poison quite o'ercrows my spirit.\") or 3 (\"But I do prophesy th' election lights\") printed?\n",
    "\n",
    "For one, **capitalization matters!**\n",
    "\n",
    "For another, we are not **picking up contractions**.  (I'm assuming th' is a contraction of the).\n",
    "\n",
    "Let's address capitalization first."
   ]
  },
  {
   "cell_type": "code",
   "execution_count": null,
   "metadata": {
    "ExecuteTime": {
     "end_time": "2022-07-18T22:14:00.343625Z",
     "start_time": "2022-07-18T22:14:00.313099Z"
    }
   },
   "outputs": [],
   "source": [
    "# Make everything lower case\n",
    "#\n",
    "for i, line in enumerate(spoiler_alert):\n",
    "    if 'the' in line.lower():\n",
    "        print(f\"{i:>4} -- {line.strip()}\")\n",
    "        \n",
    "print()\n",
    "\n",
    "# Make everything upper case\n",
    "#\n",
    "for i, line in enumerate(spoiler_alert):\n",
    "    if 'THE' in line.upper():\n",
    "        print(f\"{i:>4} -- {line.strip()}\")"
   ]
  },
  {
   "cell_type": "markdown",
   "metadata": {},
   "source": [
    ".\n",
    "\n",
    "\n",
    "Is this the only way to find something in a line? Of course not! \n",
    "\n",
    "\n",
    "The `.find()` method even tells us the character position of the match.\n"
   ]
  },
  {
   "cell_type": "code",
   "execution_count": null,
   "metadata": {
    "ExecuteTime": {
     "end_time": "2022-07-18T22:19:31.704373Z",
     "start_time": "2022-07-18T22:19:31.673803Z"
    }
   },
   "outputs": [],
   "source": [
    "for i, line in enumerate(spoiler_alert):\n",
    "    print(line.lower().find('the'))\n",
    "    if line.lower().find('the') != -1:\n",
    "        print(f\"{i:>4} -- {line.strip()} -- {line.lower().find('the')}\")\n",
    "        "
   ]
  },
  {
   "cell_type": "markdown",
   "metadata": {},
   "source": [
    "Not only does `find` tell us whether the text appears in the line, but also exactly where in the line the text appears (indexing from 0). If it doesn't find our search query it will return -1. These methods can also be combined in linear chains:"
   ]
  },
  {
   "cell_type": "markdown",
   "metadata": {},
   "source": [
    ".\n",
    "\n",
    "\n",
    ".\n",
    "\n",
    "\n",
    "So, capitalization is taken care of. What about contractions?\n",
    "\n",
    "Let's assume that **th'** is always a contraction of **the**."
   ]
  },
  {
   "cell_type": "code",
   "execution_count": null,
   "metadata": {
    "ExecuteTime": {
     "end_time": "2022-07-18T22:22:54.973523Z",
     "start_time": "2022-07-18T22:22:54.942005Z"
    }
   },
   "outputs": [],
   "source": [
    "for i, line in enumerate(spoiler_alert):\n",
    "    if 'the' in line.lower() or \"th'\" in line.lower():\n",
    "        print(f\"{i:>4} -- {line.strip()}\")"
   ]
  },
  {
   "cell_type": "markdown",
   "metadata": {},
   "source": [
    "## Exercise\n",
    "\n",
    "Finding characters in lines can be used for many purposes.  One of them is to select **slices** of a `string`.\n",
    "\n",
    "As an example, assume that we want to break the text into sentences.\n",
    "\n",
    "Sentences will be ended by periods, exclamation marks or question marks.  So go ahead and break `spoiler_alert` into sentences.\n",
    "\n"
   ]
  },
  {
   "cell_type": "code",
   "execution_count": null,
   "metadata": {
    "ExecuteTime": {
     "end_time": "2022-08-15T22:03:41.203506Z",
     "start_time": "2022-08-15T22:03:41.194623Z"
    }
   },
   "outputs": [],
   "source": []
  },
  {
   "cell_type": "code",
   "execution_count": null,
   "metadata": {},
   "outputs": [],
   "source": []
  },
  {
   "cell_type": "markdown",
   "metadata": {},
   "source": [
    "# `String` splitting refresher\n",
    "\n",
    "Lines are useful splitting of the text. However, in many situations we want to be looking at individual words. Or what we tell the computer constitutes a word!\n"
   ]
  },
  {
   "cell_type": "code",
   "execution_count": null,
   "metadata": {
    "ExecuteTime": {
     "end_time": "2022-07-19T16:13:39.792595Z",
     "start_time": "2022-07-19T16:13:39.603285Z"
    }
   },
   "outputs": [],
   "source": [
    "for i, line in enumerate(spoiler_alert):\n",
    "    print(f\"{i:>4} -- {line.strip().split()}\")\n"
   ]
  },
  {
   "cell_type": "markdown",
   "metadata": {},
   "source": [
    "Not bad, ah?\n",
    "\n",
    "The default option for `.strip()` and `'split()` acts on `whitespace`, which we can `import` from the `string` package.  \n",
    "\n",
    "As you can see, it does an excellent job of breaking a line into words.\n",
    "\n",
    "You will notice, however, that some words have some punctuation attached at the end.\n",
    "\n",
    "We will take care of it easily enough and, in one fell swoop, remove the pesky punctuation.  To accomplish this, we will use another `import` from the `string` package $-$ `punctuation`.\n",
    "\n",
    "It comprises the characters: \n",
    "\n",
    "> ! \" # $ % & ' ( ) * + , - . / : ; < = > ? @ [ \\ ] ^ _ ` { | } ~\n",
    "\n"
   ]
  },
  {
   "cell_type": "code",
   "execution_count": null,
   "metadata": {
    "ExecuteTime": {
     "end_time": "2022-07-19T16:21:18.799211Z",
     "start_time": "2022-07-19T16:21:18.767301Z"
    }
   },
   "outputs": [],
   "source": [
    "all_the_words = []  # This is where we will store our list of words\n",
    "\n",
    "for i, line in enumerate(spoiler_alert):\n",
    "    line_words = line.strip().split()\n",
    "    print(f\"{i:>4} -- {line_words}\")\n",
    "    \n",
    "    for word in line_words:\n",
    "        print(f\"\\t{word.rstrip(punctuation)}\")\n",
    "        all_the_words.append(word.rstrip(punctuation))\n",
    "\n",
    "        \n",
    "print(len(all_the_words))\n",
    "print(all_the_words)"
   ]
  },
  {
   "cell_type": "markdown",
   "metadata": {},
   "source": [
    ".\n",
    "\n",
    "\n",
    "Now imagine that we want to count how frequently each words appears (for those words that appear at least once, that is).  Then we must account for the fact that capitalization does not change the word.  That is,  *The* and *the* are the same.\n",
    "\n",
    "But you know how to take case of this, right?\n",
    "\n",
    "\n",
    "\n",
    ".\n",
    "\n",
    "\n",
    "\n",
    "\n",
    ".\n",
    "\n",
    "\n",
    "\n",
    "\n",
    ".\n",
    "\n",
    "\n",
    "\n",
    "\n",
    ".\n",
    "\n",
    "\n",
    "\n",
    "\n",
    ".\n",
    "\n",
    "\n",
    "\n",
    "\n",
    "."
   ]
  },
  {
   "cell_type": "code",
   "execution_count": null,
   "metadata": {
    "ExecuteTime": {
     "end_time": "2022-07-19T16:26:08.250242Z",
     "start_time": "2022-07-19T16:26:08.215810Z"
    },
    "scrolled": false
   },
   "outputs": [],
   "source": [
    "all_the_words = [] \n",
    "\n",
    "for i, line in enumerate(spoiler_alert):\n",
    "    line_words = line.strip().split()\n",
    "    print(f\"{i:>4} -- {line_words}\")\n",
    "    \n",
    "    for word in line_words:\n",
    "#         print(f\"\\t{word.rstrip(punctuation)}\")\n",
    "        all_the_words.append(word.rstrip(punctuation).lower())\n",
    "\n",
    "        \n",
    "Counter(all_the_words)"
   ]
  },
  {
   "cell_type": "markdown",
   "metadata": {},
   "source": [
    "Wow! Othello is so self-centered. It is all about **I** with him.\n",
    "\n",
    "Alright, we know you are dying. Get over it."
   ]
  },
  {
   "cell_type": "markdown",
   "metadata": {},
   "source": [
    "# Back to the Complete Works\n",
    "\n",
    "Now that you are refreshed, we can get back to the `complete_works`"
   ]
  },
  {
   "cell_type": "code",
   "execution_count": null,
   "metadata": {
    "ExecuteTime": {
     "end_time": "2022-07-19T16:59:18.140815Z",
     "start_time": "2022-07-19T16:59:18.109878Z"
    }
   },
   "outputs": [],
   "source": [
    "print(complete_works[:30])"
   ]
  },
  {
   "cell_type": "markdown",
   "metadata": {},
   "source": [
    ".\n",
    "\n",
    "\n",
    "\n",
    ".\n",
    "\n",
    "\n",
    "\n",
    "We will be focusing on Othello, or, more precisely *THE TRAGEDY OF OTHELLO, MOOR OF VENICE*\n",
    "\n",
    "So, first things first. Which lines pertain to this play?\n",
    "\n",
    "Or, more granularly, how do you know when the play begins and when it ends?\n",
    "\n",
    "The play starts with its title, obviously. So that is an easy one.\n",
    "\n",
    "If you scroll a bit up from the title, you will see that the previous work ends with *THE END*.\n",
    "\n",
    "So get going...\n"
   ]
  },
  {
   "cell_type": "code",
   "execution_count": null,
   "metadata": {
    "ExecuteTime": {
     "end_time": "2022-07-19T18:08:40.321910Z",
     "start_time": "2022-07-19T18:08:40.270199Z"
    }
   },
   "outputs": [],
   "source": [
    "# find line_start and line_end\n",
    "#\n",
    "found_start = False\n",
    "for i, line in enumerate(complete_works):\n",
    "    # Code here\n",
    "    \n",
    "    \n",
    "    \n",
    "    \n",
    "the_play_othello = complete_works[line_start:line_end]\n",
    "\n",
    "print(f\"\\nThe play Othello has {len(the_play_othello)} lines.\\n\")\n"
   ]
  },
  {
   "cell_type": "markdown",
   "metadata": {},
   "source": [
    "Before moving on, **always** make sure you really have what you _think_ you have. "
   ]
  },
  {
   "cell_type": "code",
   "execution_count": null,
   "metadata": {
    "ExecuteTime": {
     "end_time": "2022-07-19T17:13:25.788382Z",
     "start_time": "2022-07-19T17:13:25.744517Z"
    }
   },
   "outputs": [],
   "source": [
    "print(the_play_othello[:40])\n",
    "print()\n",
    "\n",
    "print(the_play_othello[-40:])"
   ]
  },
  {
   "cell_type": "markdown",
   "metadata": {},
   "source": [
    "## Getting the character names\n",
    "\n",
    "\n",
    "Great! We have the play!\n",
    "\n",
    "You will also notice that after **Dramatis Personae**, there is a list of characters in the play.\n",
    "\n",
    "Let's get their names and their description. \n",
    "\n",
    "What would be a good data structure for that data?\n",
    "\n",
    "\n",
    ".\n",
    "\n",
    "\n",
    ".\n",
    "\n",
    "\n",
    "\n",
    ".\n",
    "\n",
    "\n",
    "\n",
    ".\n",
    "\n",
    "\n",
    "\n",
    "."
   ]
  },
  {
   "cell_type": "code",
   "execution_count": null,
   "metadata": {
    "ExecuteTime": {
     "end_time": "2022-07-19T18:20:15.003726Z",
     "start_time": "2022-07-19T18:20:14.970199Z"
    }
   },
   "outputs": [],
   "source": [
    "found_personae = False\n",
    "personae = {}\n",
    "for i, line in enumerate(the_play_othello):\n",
    "    # Code here\n",
    "\n",
    "print()\n",
    "print(personae)\n"
   ]
  },
  {
   "cell_type": "markdown",
   "metadata": {},
   "source": [
    "## Getting the lines from a specific character\n",
    "\n",
    "Below, you can see the beginning of ACT I. \n",
    "\n",
    "You will notice a nice pattern to how lines are assigned to a character\n"
   ]
  },
  {
   "cell_type": "code",
   "execution_count": null,
   "metadata": {
    "ExecuteTime": {
     "end_time": "2022-07-19T18:41:27.743558Z",
     "start_time": "2022-07-19T18:41:27.712762Z"
    },
    "scrolled": true
   },
   "outputs": [],
   "source": [
    "snippet = the_play_othello[40:53]\n",
    "\n",
    "print(f\"    --01234567890\")\n",
    "for i, line in enumerate(snippet):\n",
    "    print(f\"{i:>4}--{line.rstrip()}\")\n"
   ]
  },
  {
   "cell_type": "markdown",
   "metadata": {},
   "source": [
    "The start of a character's line begins with the two spaces followed by the character's name capitalized and a period.\n",
    "\n",
    "All the following lines that start with four spaces are assigned to that character. And then, the lines of a new character start.\n",
    "\n",
    "```\n",
    "\"  CHARACTER. blahblahblah\n",
    "     blahblahblah\"\n",
    "```\n",
    "\n",
    "We can work with that, right?\n",
    "\n",
    "Start by getting RODERIGO's lines from the `snippet`. "
   ]
  },
  {
   "cell_type": "code",
   "execution_count": null,
   "metadata": {
    "ExecuteTime": {
     "end_time": "2022-07-19T18:46:34.763759Z",
     "start_time": "2022-07-19T18:46:34.728813Z"
    }
   },
   "outputs": [],
   "source": [
    "roderigo_lines = []\n",
    "character = 'RODERIGO'\n",
    "\n",
    "\n",
    "\n",
    "found_lines = False\n",
    "for i, line in enumerate(snippet):\n",
    "    if line.split('.')[0] == '  ' + character:\n",
    "        print(f\"{i:>4}--{line.rstrip()}\")\n",
    "        found_lines = True\n",
    "        roderigo_lines.append(line)\n",
    "        continue\n",
    "    \n",
    "    if found_lines:\n",
    "        if line[:4] == '    ':\n",
    "            print(f\"{i:>4}--{line.rstrip()}\")\n",
    "            roderigo_lines.append(line)\n",
    "        else:\n",
    "            found_lines = False\n",
    "            continue\n"
   ]
  },
  {
   "cell_type": "markdown",
   "metadata": {},
   "source": [
    "Go ahead and modify the code to read the lines from IAGO in the snippet."
   ]
  },
  {
   "cell_type": "code",
   "execution_count": null,
   "metadata": {},
   "outputs": [],
   "source": []
  },
  {
   "cell_type": "markdown",
   "metadata": {},
   "source": [
    "# Getting and working with Othello's lines\n",
    "\n",
    "\n",
    "Let's start by writing a function that reads and stores a character's lines given the lines in a play and the character's name."
   ]
  },
  {
   "cell_type": "code",
   "execution_count": null,
   "metadata": {
    "ExecuteTime": {
     "end_time": "2022-07-19T19:01:58.414579Z",
     "start_time": "2022-07-19T19:01:58.365818Z"
    }
   },
   "outputs": [],
   "source": [
    "def read_character_lines( character, play_lines ):\n",
    "    \"\"\"\n",
    "    This function takes the name of a character and the lines from the play\n",
    "    extracted from GP's Complete Works of William Shakespeare and returns\n",
    "    a list with all the lines from that character in the play\n",
    "    \n",
    "    inputs:\n",
    "        character -- str\n",
    "        play_lines -- list of str\n",
    "        \n",
    "    returns:\n",
    "        character_lines -- list of str\n",
    "    \"\"\"\n",
    "    character_lines = []\n",
    "    character = character.upper()\n",
    "    start_string = '  ' + character\n",
    "    continuation_string = '    '\n",
    "    \n",
    "    found_lines = False\n",
    "    for i, line in enumerate(play_lines):\n",
    "        # Code here\n",
    "    \n",
    "    return character_lines"
   ]
  },
  {
   "cell_type": "code",
   "execution_count": null,
   "metadata": {
    "ExecuteTime": {
     "end_time": "2022-07-19T19:02:11.138866Z",
     "start_time": "2022-07-19T19:02:11.109003Z"
    }
   },
   "outputs": [],
   "source": [
    "othello_lines = read_character_lines('othello', the_play_othello[40:])\n",
    "\n",
    "print(len(othello_lines))"
   ]
  },
  {
   "cell_type": "code",
   "execution_count": null,
   "metadata": {
    "ExecuteTime": {
     "end_time": "2022-07-19T19:03:15.266601Z",
     "start_time": "2022-07-19T19:03:15.235163Z"
    }
   },
   "outputs": [],
   "source": [
    "iago_lines = read_character_lines('iago', the_play_othello[40:])\n",
    "print(len(iago_lines))"
   ]
  },
  {
   "cell_type": "code",
   "execution_count": null,
   "metadata": {
    "ExecuteTime": {
     "end_time": "2022-07-19T20:03:52.604978Z",
     "start_time": "2022-07-19T20:03:52.560267Z"
    }
   },
   "outputs": [],
   "source": [
    "desdemona_lines = read_character_lines('desdemona', the_play_othello[40:])\n",
    "print(len(desdemona_lines))"
   ]
  },
  {
   "cell_type": "code",
   "execution_count": null,
   "metadata": {
    "ExecuteTime": {
     "end_time": "2022-07-19T20:05:18.029809Z",
     "start_time": "2022-07-19T20:05:17.995451Z"
    }
   },
   "outputs": [],
   "source": [
    "brabantio_lines = read_character_lines('brabantio', the_play_othello[40:])\n",
    "print(len(brabantio_lines))"
   ]
  },
  {
   "cell_type": "markdown",
   "metadata": {},
   "source": [
    "## Bag of words approaches\n",
    "\n",
    "Many NLP techniques make use of the so-called **bag of words** model. \n",
    "\n",
    "The idea is that you just get the words in some text and completely forget about their order and restrict yourselves to things that can be counted.\n",
    "\n",
    "In order to move forward with this approach, it is helpful to write a function that given a list of lines breaks them into list of words.\n",
    "\n",
    "That is your mission for the next few minutes, if you choose to take it."
   ]
  },
  {
   "cell_type": "code",
   "execution_count": null,
   "metadata": {
    "ExecuteTime": {
     "end_time": "2022-07-19T20:17:48.898041Z",
     "start_time": "2022-07-19T20:17:48.870358Z"
    }
   },
   "outputs": [],
   "source": [
    "def extract_words_from_lines( character, character_lines ):\n",
    "    \"\"\"\n",
    "    This function takes the name of a character and a list \n",
    "    with all the lines from a character in the play and returns \n",
    "    a list of words\n",
    "    \n",
    "    inputs:\n",
    "        character -- str\n",
    "        character_lines -- list of str\n",
    "        \n",
    "    returns:\n",
    "        character_words -- list of str\n",
    "    \"\"\"\n",
    "    character_words = []\n",
    "    character = character.upper()\n",
    "    character_string = character + '.'\n",
    "    \n",
    "    for i, line in enumerate(character_lines):\n",
    "        # Code here\n",
    "    \n",
    "    return character_words"
   ]
  },
  {
   "cell_type": "markdown",
   "metadata": {},
   "source": [
    "Ok, get the words spoken by Othello and use the `Counter` to get some statistics"
   ]
  },
  {
   "cell_type": "code",
   "execution_count": null,
   "metadata": {
    "ExecuteTime": {
     "end_time": "2022-07-19T20:35:01.194205Z",
     "start_time": "2022-07-19T20:35:01.159552Z"
    }
   },
   "outputs": [],
   "source": [
    "othello_words = extract_words_from_lines('othello', othello_lines)\n",
    "\n",
    "print(f\"Othello's lines comprise {len(othello_words)} words.\\n\")\n",
    "print(f\"Othello's lines comprise {len(set(othello_words))} unique words.\\n\")\n",
    "\n",
    "othello_counter = Counter(othello_words)"
   ]
  },
  {
   "cell_type": "markdown",
   "metadata": {},
   "source": [
    "**That means that each unique word is occurs an average of about 3.8 times.**\n",
    "\n",
    "How good is this average a description of common words?\n",
    "\n",
    "You can then get his most common words"
   ]
  },
  {
   "cell_type": "code",
   "execution_count": null,
   "metadata": {
    "ExecuteTime": {
     "end_time": "2022-07-19T20:33:10.586099Z",
     "start_time": "2022-07-19T20:33:10.553988Z"
    }
   },
   "outputs": [],
   "source": [
    "othello_counter.most_common(20)"
   ]
  },
  {
   "cell_type": "markdown",
   "metadata": {},
   "source": [
    "**Interesting how the most common words appear about 50 times more frequently than one would expect**.\n",
    "\n",
    "Some of those are clearly the usual suspects: *the*, *and*, *to*, *of*, *a*.\n",
    "\n",
    "Not so typically, are *I* and *me*.\n",
    "\n",
    "As we know, there is no **I** in **team**."
   ]
  },
  {
   "cell_type": "code",
   "execution_count": null,
   "metadata": {
    "ExecuteTime": {
     "end_time": "2022-07-19T20:21:21.389835Z",
     "start_time": "2022-07-19T20:21:21.355264Z"
    }
   },
   "outputs": [],
   "source": [
    "print(othello_counter['we'])\n",
    "print(othello_counter['team'])"
   ]
  },
  {
   "cell_type": "markdown",
   "metadata": {},
   "source": [
    "Since the most common words appear so frequently, the least common words must appear only a single time.\n",
    "\n",
    "**Moreover, there should be many of those single occurrence words**."
   ]
  },
  {
   "cell_type": "code",
   "execution_count": null,
   "metadata": {
    "ExecuteTime": {
     "end_time": "2022-07-19T20:31:57.951903Z",
     "start_time": "2022-07-19T20:31:57.920686Z"
    }
   },
   "outputs": [],
   "source": [
    "othello_counter.most_common()[-20:]\n"
   ]
  },
  {
   "cell_type": "code",
   "execution_count": null,
   "metadata": {
    "ExecuteTime": {
     "end_time": "2022-07-19T20:40:42.997359Z",
     "start_time": "2022-07-19T20:40:42.965893Z"
    }
   },
   "outputs": [],
   "source": [
    "othello_counter.most_common()[-1020:-1000]"
   ]
  },
  {
   "cell_type": "markdown",
   "metadata": {},
   "source": [
    "Yes, over a thousand words appear only once.\n",
    "\n",
    "This seems like a very strange distribution doesn't it?  There are a lot of words with very low probability of occurring and then a few with a high probability of occurring.\n",
    "\n",
    "It is almost as if there was a country where most of the population was only 1 foot tall but then there where a couple 200 feet tall giants walking around.\n"
   ]
  },
  {
   "cell_type": "markdown",
   "metadata": {},
   "source": [
    "## Zipf's law\n",
    "\n",
    "Because this distribution is so strange, we will look at it in a little more detail.\n"
   ]
  },
  {
   "cell_type": "code",
   "execution_count": null,
   "metadata": {
    "ExecuteTime": {
     "end_time": "2022-07-19T20:46:47.601280Z",
     "start_time": "2022-07-19T20:46:47.571412Z"
    }
   },
   "outputs": [],
   "source": [
    "# Get frequency of words from Counter object\n",
    "#\n",
    "counts = list( dict(othello_counter).values() )\n",
    "\n",
    "print(counts[:30])"
   ]
  },
  {
   "cell_type": "code",
   "execution_count": null,
   "metadata": {
    "ExecuteTime": {
     "end_time": "2022-07-19T20:55:43.720018Z",
     "start_time": "2022-07-19T20:55:43.450436Z"
    }
   },
   "outputs": [],
   "source": [
    "fig = plt.figure( figsize = (6, 4) )\n",
    "ax = fig.add_subplot( 111 )\n",
    "half_frame(ax, 'Number of occurrences', 'Frequency', font_size = my_fontsize)\n",
    "\n",
    "ax.hist( counts, bins = np.arange(-0.5, 250.5, 10), \n",
    "         align = 'mid', rwidth = 0.9, label = 'Othello')\n",
    "\n",
    "ax.legend(loc = 'best', frameon = False, fontsize = my_fontsize)\n",
    "\n",
    "plt.tight_layout()"
   ]
  },
  {
   "cell_type": "markdown",
   "metadata": {},
   "source": [
    "Not the most enlightening plot...\n",
    "\n",
    "Setting a logarithmic scale on the y-axis will help "
   ]
  },
  {
   "cell_type": "code",
   "execution_count": null,
   "metadata": {
    "ExecuteTime": {
     "end_time": "2022-07-19T20:55:55.583321Z",
     "start_time": "2022-07-19T20:55:55.302058Z"
    }
   },
   "outputs": [],
   "source": [
    "fig = plt.figure( figsize = (6, 4) )\n",
    "ax = fig.add_subplot( 111 )\n",
    "half_frame(ax, 'Number of occurrences', 'Frequency', font_size = my_fontsize)\n",
    "\n",
    "ax.hist( counts, bins = np.arange(-0.5, 250.5, 10), \n",
    "         align = 'mid', rwidth = 0.9, label = 'Othello' )\n",
    "\n",
    "ax.semilogy()\n",
    "ax.legend(loc = 'best', frameon = False, fontsize = my_fontsize)\n",
    "\n",
    "plt.tight_layout()"
   ]
  },
  {
   "cell_type": "markdown",
   "metadata": {},
   "source": [
    "Better, but not yet great. Let's make the x-axis have a logarithmic scale too..."
   ]
  },
  {
   "cell_type": "code",
   "execution_count": null,
   "metadata": {
    "ExecuteTime": {
     "end_time": "2022-07-19T20:58:12.395585Z",
     "start_time": "2022-07-19T20:58:12.025231Z"
    }
   },
   "outputs": [],
   "source": [
    "fig = plt.figure( figsize = (6, 4) )\n",
    "ax = fig.add_subplot( 111 )\n",
    "half_frame(ax, 'Number of occurrences', 'Frequency', font_size = my_fontsize)\n",
    "\n",
    "ax.hist( counts, bins = np.arange(0.5, 250.5, 10), \n",
    "         align = 'mid', rwidth = 0.9, label = 'Othello' )\n",
    "\n",
    "ax.loglog()\n",
    "ax.legend(loc = 'best', frameon = False, fontsize = my_fontsize)\n",
    "\n",
    "plt.tight_layout()"
   ]
  },
  {
   "cell_type": "markdown",
   "metadata": {},
   "source": [
    "This is not the best plot, but you can kind of see how the frequency decays as a straight like in this double **logarithmic plot**.\n",
    "\n",
    "Such a pattern is indicative of a power-law decay\n",
    "\n",
    "> $P(k) \\propto k^{-\\alpha}$\n",
    "\n",
    "In the context of human languages this is called evidence for [Zipf's law](https://en.wikipedia.org/wiki/Zipf%27s_law). \n",
    "\n",
    "Because the support of the data is so large, the frequency plot gets to be quite noisy for large values of $k$.  \n",
    "\n",
    "For this reason, it is typically best to plot the survival function instead of the frequency.\n",
    "\n",
    "The survival function shows the number of values larger than $k$.\n",
    "\n",
    "The next cell shows how this is calculated.\n"
   ]
  },
  {
   "cell_type": "code",
   "execution_count": null,
   "metadata": {
    "ExecuteTime": {
     "end_time": "2022-07-19T21:49:58.843551Z",
     "start_time": "2022-07-19T21:49:58.355999Z"
    }
   },
   "outputs": [],
   "source": [
    "k_values = []\n",
    "survival_function = []\n",
    "\n",
    "n = len(counts)\n",
    "for k in sorted(counts):\n",
    "    if k not in k_values:\n",
    "        k_values.append(k)\n",
    "        survival_function.append(n)\n",
    "        n -= 1\n",
    "    else:\n",
    "        n -= 1\n",
    "        \n",
    "fig = plt.figure( figsize = (6, 4) )\n",
    "ax = fig.add_subplot( 111 )\n",
    "half_frame(ax, 'Number of occurrences', 'Survival function', font_size = my_fontsize)\n",
    "ax.loglog()\n",
    "\n",
    "# Add a line as a guide to the eye\n",
    "ax.plot([1, 200], [1400, 3.8], 'b-', lw = 6, alpha = 0.3)\n",
    "\n",
    "ax.plot( k_values, survival_function, 'r-', lw = 2, label = 'Othello' )\n",
    "\n",
    "ax.legend(loc = 'best', frameon = False, fontsize = my_fontsize)\n",
    "\n",
    "plt.tight_layout()   \n"
   ]
  },
  {
   "cell_type": "markdown",
   "metadata": {},
   "source": [
    "## Text entropy\n",
    "\n",
    "Bag of words approaches allow for easy calculation of many things. Above, we considered three quantities: number of words, size of vocabulary (aka, number of unique words), and distribution of word frequencies.\n",
    "\n",
    "While is seems hard to compare distributions, the fact is that typical corpus generated from human language obey Zifp's law.  Moreover, the exponent in Zipf's law is related to measures of concentration. The smaller the value of the exponent $\\alpha$ the more concentrated the speech is on a few words. Thus, the distribution also gives us a single number with which to compare characters.\n",
    "\n",
    "Another way to measure someone's speech is by using **entropy**. [Entropy](https://en.wikipedia.org/wiki/Entropy) is a concept introduced in the study of heat. It measures disorder and in a sense tells us how hard to predict something is.\n",
    "\n",
    "We are all much more predictable then we like to think. That is the reason why we are so easy to make fun of.  For instance, I seem to love the word *essentially*. Or at least that is what my so-called loved ones claim.\n",
    "\n",
    "Entropy has also been introduced in the context of [Information Theory](https://en.wikipedia.org/wiki/Entropy_%28information_theory%29) where it is related to how surprising new information is.  When we listen to speech, every new word uttered brings new information. Sometimes, the amount of new information is close to zero because we already know what is coming\n",
    "\n",
    "> baa baa black sheep\n",
    ">\n",
    "> have you any...\n"
   ]
  },
  {
   "cell_type": "markdown",
   "metadata": {},
   "source": [
    "**So, how is entropy calculated?**\n",
    "\n",
    "In the context of language, we can say that our speech is composed of words. Each word is an instance of a token (aka, unique word).  We can associate with each token a probability of selection. \n",
    "\n",
    "For example, let's say that our vocabulary has three tokens -- *hello*, *friends*, and *folks* -- and that each token has an associated probability of being selected. Then we can create a speech generator. Yes this is AI!\n",
    "\n",
    "\n",
    "\n"
   ]
  },
  {
   "cell_type": "code",
   "execution_count": null,
   "metadata": {
    "ExecuteTime": {
     "end_time": "2022-07-20T15:23:44.011666Z",
     "start_time": "2022-07-20T15:23:43.979374Z"
    }
   },
   "outputs": [],
   "source": [
    "vocabulary = {'hello': 0.5, 'friends': 0.35, 'folks': 0.15}\n",
    "\n",
    "speech_size = 100\n",
    "speech = []\n",
    "for i in range(speech_size):\n",
    "    x = random()\n",
    "    p = 0\n",
    "    for key in vocabulary:\n",
    "        p += vocabulary[key]\n",
    "        if x < p:\n",
    "            speech.append(key)\n",
    "            break\n",
    "    \n",
    "print(speech)\n",
    "Counter(speech)\n",
    "\n",
    "speech_counter = Counter(speech)"
   ]
  },
  {
   "cell_type": "markdown",
   "metadata": {},
   "source": [
    "Entropy is expressed as a function of the probabilities of the tokens:\n",
    "\n",
    "\n",
    "> $H(X) = -\\sum ~ p_i ~\\log p_i $\n",
    "\n",
    "Where $i$ is the index for a token and $p_i$ is the probability of that token appearing in the text. \n",
    "\n",
    "In our context, the best estimate that we have of the probability of any given token is the ratio of the number of occurrences to the number of words.\n",
    "\n",
    "> $p_i = \\frac{n_i}{N}$\n",
    "\n",
    "So, go ahead and write a function to calculate the entropy of a text given a `Counter` object."
   ]
  },
  {
   "cell_type": "code",
   "execution_count": null,
   "metadata": {
    "ExecuteTime": {
     "end_time": "2022-07-20T15:23:56.217619Z",
     "start_time": "2022-07-20T15:23:56.185471Z"
    }
   },
   "outputs": [],
   "source": [
    "def text_entropy( counter ):\n",
    "    \"\"\"\n",
    "    This function takes a Counter object and returns the entropy of the \n",
    "    underlying text.\n",
    "    \n",
    "    inputs:\n",
    "        counter -- Counter object\n",
    "        \n",
    "    returns:\n",
    "        entropy -- float\n",
    "    \"\"\"\n",
    "    entropy = 0\n",
    "    \n",
    "    # Code here\n",
    "\n",
    "    return entropy\n"
   ]
  },
  {
   "cell_type": "code",
   "execution_count": null,
   "metadata": {
    "ExecuteTime": {
     "end_time": "2022-07-20T15:21:27.285238Z",
     "start_time": "2022-07-20T15:21:27.253581Z"
    }
   },
   "outputs": [],
   "source": [
    "print(f\"The entropy of the speech generator is \"\n",
    "      f\"{text_entropy(speech_counter):.2f}\\n\")\n",
    "\n",
    "print(\"The entropy of Othello's speech is \"\n",
    "      f\"{text_entropy(othello_counter):.2f}\\n\")\n",
    "\n"
   ]
  },
  {
   "cell_type": "markdown",
   "metadata": {},
   "source": [
    "You can see that the entropy scores for the these two forms of speech are quite different.\n",
    "\n",
    "Not surprisingly, Othello's speech has much higher entropy -- that is, is much less predictable.\n",
    "\n",
    "What about the speech of other the characters?\n"
   ]
  },
  {
   "cell_type": "markdown",
   "metadata": {},
   "source": [
    "# Exercises"
   ]
  },
  {
   "cell_type": "markdown",
   "metadata": {},
   "source": [
    "Go ahead and calculate the speech entropy of other major characters. "
   ]
  },
  {
   "cell_type": "code",
   "execution_count": null,
   "metadata": {},
   "outputs": [],
   "source": []
  },
  {
   "cell_type": "markdown",
   "metadata": {},
   "source": [
    "So far we have calculated the properties of the entirety of the lines of a character.  However, it could be that the properties of the speech change in the course of the play.\n",
    "\n",
    "How would you go about doing this?\n",
    "\n",
    "Yes, exactly, calculate the change in properties of the speech of Othello over a set of 1000 consecutive words and plot how other speech properties change across the play."
   ]
  },
  {
   "cell_type": "code",
   "execution_count": null,
   "metadata": {},
   "outputs": [],
   "source": []
  },
  {
   "cell_type": "markdown",
   "metadata": {},
   "source": [
    "In the previous exercises, you calculated a bunch of numbers.  Sometimes, those numbers appear to be quite different (1.46 *vs.* 8.84). Other times, not so much.\n",
    "\n",
    "How would you be able to estimate the uncertainty in those number?\n",
    "\n",
    "Is it $8.84 \\pm 0.01$ or $8.8 \\pm 1.0$?"
   ]
  },
  {
   "cell_type": "code",
   "execution_count": null,
   "metadata": {},
   "outputs": [],
   "source": []
  }
 ],
 "metadata": {
  "anaconda-cloud": {},
  "kernelspec": {
   "display_name": "base",
   "language": "python",
   "name": "base"
  },
  "language_info": {
   "codemirror_mode": {
    "name": "ipython",
    "version": 3
   },
   "file_extension": ".py",
   "mimetype": "text/x-python",
   "name": "python",
   "nbconvert_exporter": "python",
   "pygments_lexer": "ipython3",
   "version": "3.9.12"
  },
  "toc": {
   "base_numbering": 1,
   "nav_menu": {},
   "number_sections": true,
   "sideBar": true,
   "skip_h1_title": false,
   "title_cell": "Table of Contents",
   "title_sidebar": "Contents",
   "toc_cell": false,
   "toc_position": {
    "height": "calc(100% - 180px)",
    "left": "10px",
    "top": "150px",
    "width": "246.1px"
   },
   "toc_section_display": true,
   "toc_window_display": true
  }
 },
 "nbformat": 4,
 "nbformat_minor": 1
}
