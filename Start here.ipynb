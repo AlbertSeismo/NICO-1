{
 "cells": [
  {
   "cell_type": "code",
   "execution_count": 6,
   "id": "c3b5bc73",
   "metadata": {
    "ExecuteTime": {
     "end_time": "2022-08-15T20:12:16.238238Z",
     "start_time": "2022-08-15T20:12:16.225951Z"
    }
   },
   "outputs": [],
   "source": [
    "from IPython.core.display import HTML\n",
    "from IPython.lib.display import YouTubeVideo"
   ]
  },
  {
   "cell_type": "markdown",
   "id": "0595ea9c",
   "metadata": {},
   "source": [
    "# Amaral Lab Intro to Data Science\n",
    " \n",
    "These materials constitute the textbook for NICO 101/401 - Introduction to Programming for Big Data.\n",
    "This course will teach you the basics of programming in Python, visualizing data, and web-scraping \n",
    "as well as analyzing unstructured text, structured data, and images. \n",
    "\n",
    "This course does not explicitly use any 'big' datasets during the quarter, what it does do is teach\n",
    "you the fundamentals of programming and analysis that can then be scaled to any size data. As a part\n",
    "of this we will discuss the basics of statistical analysis and how that can be applied to datasets.\n",
    "\n",
    "Any comments, questions, or concerns can be directed to:\n",
    "\n",
    "* Luis A. Nunes Amaral <amaral@northwestern.edu>\n",
    "* Adam R. Pah <adamrpah@gmail.com>\n",
    "* Helio Tejedor <heltena@northwestern.edu>\n",
    "\n"
   ]
  },
  {
   "cell_type": "markdown",
   "id": "9d72c78c",
   "metadata": {},
   "source": [
    "## Software Installation\n",
    "\n",
    "This course uses [Anaconda's Python distribution](https://www.anaconda.com/products/distribution). Currently, it installs Python 3.9.12.\n",
    "\n",
    "There are videos to help you understand the installation process; however, it is a simple installer\n",
    "package that should be similar to any other program (so don't be afraid!).\n",
    "\n",
    "* OS X <https://www.youtube.com/watch?v=UQhOyZXHkxI>\n",
    "* Windows <https://www.youtube.com/watch?v=w16iUU6IA5E>\n",
    "\n",
    "You can also watch this \n",
    "\n",
    "<video controls src=\"setting_up_default.mp4\" width = 600/>\n"
   ]
  },
  {
   "cell_type": "markdown",
   "id": "e8661a98",
   "metadata": {},
   "source": [
    "**You must have Python installed before you can start work through the notebooks.** \n",
    "\n",
    "**If you are taking NICO 101/401, you need to have Python installed by the first day of class!**\n",
    "\n",
    "We also require that you have a relatively modern operating system. \n",
    "\n",
    "For Windows, you must be using Windows 7 or later.\n",
    "\n",
    "For Mac, you must be using OS X 10.9 or later.\n",
    "\n"
   ]
  },
  {
   "cell_type": "markdown",
   "id": "9195cf32",
   "metadata": {},
   "source": [
    "## Downloading Course Materials\n",
    "\n",
    "The course materials can be downloaded from the repository's [github page](http://github.com/amarallab/Amaral_Lab_Intro_to_Data_Science). \n",
    "Just download the zip file, unzip it onto your Desktop, and rename the directory `NICO-101`.\n",
    "\n"
   ]
  },
  {
   "cell_type": "markdown",
   "id": "bc7b3494",
   "metadata": {},
   "source": [
    "## Using the Course Materials\n",
    "\n",
    "This course will be conducted using [Jupyter Notebook](http://jupyter.org). `Jupyter Notebook` \n",
    "is a 'web-based interactive computational environment', meaning that it allows to write and execute python code in a web page from your own computers. `Jupyter Notebook` is an excellent environment in which learn the basics of Python programming and computational data analysis.\n",
    "\n",
    "`Jupyter Notebook` is installed by default with the Anaconda Python distribution and can be launched from the Anaconda Navigator program. We have an that details how to launch and use a notebook.\n",
    "\n",
    "<iframe width=\"600\" src=\"https://www.youtube.com/embed/Pul4cqoPLbE\" title=\"NICO 101 - Jupyter Notebook Introduction\" frameborder=\"0\" allow=\"accelerometer; autoplay; clipboard-write; encrypted-media; gyroscope; picture-in-picture\" allowfullscreen></iframe>\n",
    "\n"
   ]
  },
  {
   "cell_type": "code",
   "execution_count": 8,
   "id": "3781b219",
   "metadata": {
    "ExecuteTime": {
     "end_time": "2022-08-15T20:19:20.505411Z",
     "start_time": "2022-08-15T20:19:20.357910Z"
    }
   },
   "outputs": [
    {
     "data": {
      "text/html": [
       "\n",
       "        <iframe\n",
       "            width=\"600\"\n",
       "            height=\"300\"\n",
       "            src=\"https://www.youtube.com/embed/https://youtu.be/Pul4cqoPLbE\"\n",
       "            frameborder=\"0\"\n",
       "            allowfullscreen\n",
       "            \n",
       "        ></iframe>\n",
       "        "
      ],
      "text/plain": [
       "<IPython.lib.display.YouTubeVideo at 0x7fcb013f60a0>"
      ]
     },
     "metadata": {},
     "output_type": "display_data"
    }
   ],
   "source": [
    "vid = YouTubeVideo('https://youtu.be/Pul4cqoPLbE', width = 600)\n",
    "display(vid)"
   ]
  },
  {
   "cell_type": "markdown",
   "id": "8ae2ab2a",
   "metadata": {},
   "source": [
    "## Acknowledgements\n",
    "\n",
    "This incarnation of the course builds on [Introduction to Python Programming and Data Science](https://github.com/amarallab/Introduction-to-Python-Programming-and-Data-Science), which will no longer be maintained. *Introduction to Python Programming and Data Science* was been built through the efforts of many that have served as teaching assistants and lecturers in the \n",
    "many iterations of the course. We would like to thank (in alphabetical order):\n",
    "\n",
    "* Alessandro Febretti\n",
    "* Justin Finkle\n",
    "* Adam Hockenberry\n",
    "* H. Ada Lee\n",
    "* Jeff Lunt\n",
    "* Joao Moreira\n",
    "* Jackie Milhans\n",
    "* Aaron Oppenheimer\n",
    "* Nick Timkovich\n",
    "* Max Wasserman\n",
    "* Peter Winter\n",
    "* Jia Wu\n",
    "\n",
    "The new version, build on the work of all of these and on additional contributions by:\n",
    "\n",
    "* Luiz Alves"
   ]
  },
  {
   "cell_type": "code",
   "execution_count": null,
   "id": "ea841d96",
   "metadata": {},
   "outputs": [],
   "source": []
  }
 ],
 "metadata": {
  "kernelspec": {
   "display_name": "base",
   "language": "python",
   "name": "base"
  },
  "language_info": {
   "codemirror_mode": {
    "name": "ipython",
    "version": 3
   },
   "file_extension": ".py",
   "mimetype": "text/x-python",
   "name": "python",
   "nbconvert_exporter": "python",
   "pygments_lexer": "ipython3",
   "version": "3.9.12"
  },
  "toc": {
   "base_numbering": 1,
   "nav_menu": {},
   "number_sections": true,
   "sideBar": true,
   "skip_h1_title": false,
   "title_cell": "Table of Contents",
   "title_sidebar": "Contents",
   "toc_cell": false,
   "toc_position": {
    "height": "calc(100% - 180px)",
    "left": "10px",
    "top": "150px",
    "width": "208.567px"
   },
   "toc_section_display": true,
   "toc_window_display": true
  }
 },
 "nbformat": 4,
 "nbformat_minor": 5
}
