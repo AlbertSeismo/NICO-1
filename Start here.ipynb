{
 "cells": [
  {
   "cell_type": "code",
   "execution_count": 2,
   "id": "c3b5bc73",
   "metadata": {
    "ExecuteTime": {
     "end_time": "2022-08-16T16:19:29.357376Z",
     "start_time": "2022-08-16T16:19:29.349423Z"
    }
   },
   "outputs": [],
   "source": [
    "from IPython.core.display import HTML\n",
    "from IPython.lib.display import YouTubeVideo"
   ]
  },
  {
   "cell_type": "markdown",
   "id": "0595ea9c",
   "metadata": {},
   "source": [
    "# Amaral Lab Intro to Data Science\n",
    " \n",
    "These materials constitute the textbook for NICO 101/401 - Introduction to Programming for Big Data.\n",
    "This course will teach you the basics of programming in Python, visualizing data, and web-scraping \n",
    "as well as analyzing unstructured text, structured data, and images. \n",
    "\n",
    "This course does not explicitly use any 'big' datasets during the quarter, what it does do is teach\n",
    "you the fundamentals of programming and analysis that can then be scaled to any size data. As a part\n",
    "of this we will discuss the basics of statistical analysis and how that can be applied to datasets.\n",
    "\n",
    "Any comments, questions, or concerns can be directed to:\n",
    "\n",
    "* Luis A. Nunes Amaral <amaral@northwestern.edu>\n",
    "* Adam R. Pah <adamrpah@gmail.com>\n",
    "* Helio Tejedor <heltena@northwestern.edu>\n",
    "\n"
   ]
  },
  {
   "cell_type": "markdown",
   "id": "430ec681",
   "metadata": {},
   "source": [
    "## Software and Hardware requirements\n",
    "\n",
    "If  you want to use these lessons, you should that you have a relatively modern operating system. \n",
    "\n",
    "For Windows, you must be using Windows 7 or later.\n",
    "\n",
    "For Mac, you must be using OS X 10.9 or later.\n",
    "\n",
    "**You must have a Python distribution installed before you can start work with the notebooks we prepared.** \n",
    "\n",
    "**If you are taking NICO 101/401, you need to have the Python distribution installed by the first day of class!**\n",
    "\n"
   ]
  },
  {
   "cell_type": "markdown",
   "id": "9d72c78c",
   "metadata": {},
   "source": [
    "## Installing Anaconda's Python Distribution\n",
    "\n",
    "We strongly recommend that you use install [Anaconda's Python distribution](https://www.anaconda.com/products/distribution#Downloads).\n",
    "\n",
    "If you click on the above link, it will see the following page.\n",
    "\n",
    "<img src = \"Media/anaconda.png\" width = 600>\n",
    "\n",
    "Choose the appropriate option for your computer and operating system.\n",
    "\n",
    "After you click on the appropriate option and start the download, your browser will be directed to [this page](https://www.anaconda.com/products/distribution/download-success-2).\n",
    "\n",
    "<img src = \"Media/anaconda_helpful_videos.png\" width = 600>\n",
    "\n",
    "**If you already have Anaconda installed in your system, the Installer will not work and will instruct you to use `conda` to update your system instead.** "
   ]
  },
  {
   "cell_type": "markdown",
   "id": "9195cf32",
   "metadata": {},
   "source": [
    "## Course Materials\n",
    "\n",
    "To download the course material, you will need to visit the repository's [github page](http://github.com/amarallab/Amaral_Lab_Intro_to_Data_Science). \n",
    "\n",
    "<img src = 'Media/github_repository.png' width = 600>\n",
    "\n",
    "If you click on the green button titled `Code` you will reveal an option to download a `ZIP` file with the entire repository.  \n",
    "\n",
    "Choose that option!\n",
    "\n",
    "Then, unzip the file in your `Desktop`, or even better, in your `Dropbox`, `Box`, or `OneDrive` folder.  If you do the later, you will be having it backed up and accessible anywhere!\n",
    "\n",
    "You can then rename the folder `Amaral_Lab_Intro_to_Data_Science`, `NICO-101`, or whatever you feel like.\n",
    "\n"
   ]
  },
  {
   "cell_type": "markdown",
   "id": "bc7b3494",
   "metadata": {},
   "source": [
    "## Jupyter Notebook\n",
    "\n",
    "We will be making extensive use of the [Jupyter Notebook](http://jupyter.org) environment. `Jupyter Notebook` is a 'web-based interactive computational environment', meaning that it allows to write and execute python code in a web page from your own computer. `Jupyter Notebook` is an excellent environment in which learn the basics of Python programming and computational data analysis.\n",
    "\n",
    "`Jupyter Notebook` is installed by default with the Anaconda Python distribution and can be launched from the `Anaconda Navigator` program. We have another video below that details how to launch and use a notebook.\n",
    "\n",
    "**Find the `Anaconda Navigator` application in your computer and launch it.**\n",
    "\n",
    "<img src = \"Media/navigator.png\" width = 600>\n",
    "\n",
    "If you click on the `Notebook` application (second row, first on the left in image) you will launch the a `Notebook` in instance. in your browser of choice.\n",
    "\n",
    "<img src = \"Media/jupyter_default.png\" width = 600>\n",
    "\n",
    "**Navigate to the folder where you placed the course materials and click on `Start here.ipynb` file to open it.**\n"
   ]
  },
  {
   "cell_type": "code",
   "execution_count": 1,
   "id": "da1f6b92",
   "metadata": {
    "ExecuteTime": {
     "end_time": "2022-08-16T19:22:25.219807Z",
     "start_time": "2022-08-16T19:22:24.878082Z"
    }
   },
   "outputs": [
    {
     "ename": "NameError",
     "evalue": "name 'YouTubeVideo' is not defined",
     "output_type": "error",
     "traceback": [
      "\u001b[0;31m---------------------------------------------------------------------------\u001b[0m",
      "\u001b[0;31mNameError\u001b[0m                                 Traceback (most recent call last)",
      "Input \u001b[0;32mIn [1]\u001b[0m, in \u001b[0;36m<cell line: 3>\u001b[0;34m()\u001b[0m\n\u001b[1;32m      1\u001b[0m \u001b[38;5;66;03m## FOR OS X \u001b[39;00m\n\u001b[0;32m----> 3\u001b[0m vid \u001b[38;5;241m=\u001b[39m \u001b[43mYouTubeVideo\u001b[49m(\u001b[38;5;124m'\u001b[39m\u001b[38;5;124mUQhOyZXHkxI\u001b[39m\u001b[38;5;124m'\u001b[39m, width \u001b[38;5;241m=\u001b[39m \u001b[38;5;241m600\u001b[39m)\n\u001b[1;32m      4\u001b[0m display(vid)\n",
      "\u001b[0;31mNameError\u001b[0m: name 'YouTubeVideo' is not defined"
     ]
    }
   ],
   "source": [
    "## FOR OS X \n",
    "\n",
    "vid = YouTubeVideo('UQhOyZXHkxI', width = 600)\n",
    "display(vid)"
   ]
  },
  {
   "cell_type": "code",
   "execution_count": 4,
   "id": "bcbea606",
   "metadata": {
    "ExecuteTime": {
     "end_time": "2022-08-16T16:19:37.372799Z",
     "start_time": "2022-08-16T16:19:37.223020Z"
    }
   },
   "outputs": [
    {
     "data": {
      "image/jpeg": "[encoded data removed]",
      "text/html": [
       "\n",
       "        <iframe\n",
       "            width=\"600\"\n",
       "            height=\"300\"\n",
       "            src=\"https://www.youtube.com/embed/w16iUU6IA5E\"\n",
       "            frameborder=\"0\"\n",
       "            allowfullscreen\n",
       "            \n",
       "        ></iframe>\n",
       "        "
      ],
      "text/plain": [
       "<IPython.lib.display.YouTubeVideo at 0x7f989015ecd0>"
      ]
     },
     "metadata": {},
     "output_type": "display_data"
    }
   ],
   "source": [
    "## FOR WINDOWS\n",
    "\n",
    "vid = YouTubeVideo('w16iUU6IA5E', width = 600)\n",
    "display(vid)"
   ]
  },
  {
   "cell_type": "markdown",
   "id": "1b9dfd7c",
   "metadata": {},
   "source": [
    "You can also watch this one\n",
    "\n",
    "<video controls src=\"Media/setting_up_default.mp4\" width = 600/>\n"
   ]
  },
  {
   "cell_type": "markdown",
   "id": "e8661a98",
   "metadata": {},
   "source": [
    "## Software Installation\n",
    "\n",
    "This bootcamp uses the [Anaconda distribution](https://www.anaconda.com/products/distribution). Currently, it installs Python 3.9.12.\n",
    "\n",
    "There are videos to help you understand the installation process; however, it is a simple installer\n",
    "package that should be similar to any other program (so don't be afraid!).\n",
    "\n",
    "* [![OS X installation](http://img.youtube.com/vi/UQhOyZXHkxI/0.jpg)](https://www.youtube.com/watch?v=UQhOyZXHkxI \"OS X installation\")\n",
    "\n",
    "* [![Windows installation](http://img.youtube.com/vi/w16iUU6IA5E/0.jpg)](https://www.youtube.com/watch?v=w16iUU6IA5E \"Windows installation\")\n",
    "\n",
    "\n",
    "**You must have Python installed before you can start work through the notebooks.** \n",
    "\n",
    "**If you are taking NICO 101/401, you need to have Python installed by the first day of class!**\n",
    "\n",
    "We also require that you have a relatively modern operating system. \n",
    "\n",
    "For Windows, you must be using Windows 7 or later.\n",
    "\n",
    "For Mac, you must be using OS X 10.9 or later."
   ]
  },
  {
   "cell_type": "code",
   "execution_count": 5,
   "id": "3781b219",
   "metadata": {
    "ExecuteTime": {
     "end_time": "2022-08-16T16:19:53.813217Z",
     "start_time": "2022-08-16T16:19:53.656835Z"
    }
   },
   "outputs": [
    {
     "data": {
      "image/jpeg": "[encoded data removed]",
      "text/html": [
       "\n",
       "        <iframe\n",
       "            width=\"600\"\n",
       "            height=\"300\"\n",
       "            src=\"https://www.youtube.com/embed/Pul4cqoPLbE\"\n",
       "            frameborder=\"0\"\n",
       "            allowfullscreen\n",
       "            \n",
       "        ></iframe>\n",
       "        "
      ],
      "text/plain": [
       "<IPython.lib.display.YouTubeVideo at 0x7f9870713460>"
      ]
     },
     "metadata": {},
     "output_type": "display_data"
    }
   ],
   "source": [
    "vid = YouTubeVideo('Pul4cqoPLbE', width = 600)\n",
    "display(vid)"
   ]
  },
  {
   "cell_type": "markdown",
   "id": "8ae2ab2a",
   "metadata": {},
   "source": [
    "## Acknowledgements\n",
    "\n",
    "This incarnation of the course builds on [Introduction to Python Programming and Data Science](https://github.com/amarallab/Introduction-to-Python-Programming-and-Data-Science), which will no longer be maintained. *Introduction to Python Programming and Data Science* was been built through the efforts of many that have served as teaching assistants and lecturers in the \n",
    "many iterations of the course. We would like to thank (in alphabetical order):\n",
    "\n",
    "* Alessandro Febretti\n",
    "* Justin Finkle\n",
    "* Adam Hockenberry\n",
    "* H. Ada Lee\n",
    "* Jeff Lunt\n",
    "* Joao Moreira\n",
    "* Jackie Milhans\n",
    "* Aaron Oppenheimer\n",
    "* Nick Timkovich\n",
    "* Max Wasserman\n",
    "* Peter Winter\n",
    "* Jia Wu\n",
    "\n",
    "The new version, build on the work of all of these and on additional contributions by:\n",
    "\n",
    "* Luiz Alves"
   ]
  },
  {
   "cell_type": "markdown",
   "id": "fdc686b8",
   "metadata": {},
   "source": [
    "# Pimping your notebook environment\n",
    "\n",
    "`Jupyter Notebook` has lots of cool extensions that make it easier to work efficiently. You can add a table of contents, spell checking, code prettifying, change font size, etc."
   ]
  },
  {
   "cell_type": "code",
   "execution_count": 11,
   "id": "0e86809a",
   "metadata": {
    "ExecuteTime": {
     "end_time": "2022-08-16T18:46:40.372389Z",
     "start_time": "2022-08-16T18:46:39.136051Z"
    }
   },
   "outputs": [
    {
     "name": "stdout",
     "output_type": "stream",
     "text": [
      "Selected Jupyter core packages...\n",
      "IPython          : 8.2.0\n",
      "ipykernel        : 6.9.1\n",
      "ipywidgets       : 7.6.5\n",
      "jupyter_client   : 6.1.12\n",
      "jupyter_core     : 4.9.2\n",
      "jupyter_server   : 1.13.5\n",
      "jupyterlab       : 3.3.2\n",
      "nbclient         : 0.5.13\n",
      "nbconvert        : 6.4.4\n",
      "nbformat         : 5.3.0\n",
      "notebook         : 6.4.8\n",
      "qtconsole        : 5.3.0\n",
      "traitlets        : 5.1.1\n"
     ]
    }
   ],
   "source": [
    "!jupyter --version"
   ]
  },
  {
   "cell_type": "markdown",
   "id": "149ba6aa",
   "metadata": {
    "ExecuteTime": {
     "end_time": "2022-08-16T18:48:25.515982Z",
     "start_time": "2022-08-16T18:46:52.537591Z"
    }
   },
   "source": [
    "In order to get everything setup nicely, you need to run a few commands in the `Terminal`:\n",
    "\n",
    "> `conda install -c conda-forge jupyter_contrib_nbextensions`\n",
    ">\n",
    "> `jupyter contrib nbextension install --user`\n",
    ">\n",
    "> `jupyter nbextension enable varInspector/main`\n",
    "\n",
    "After successfully running these commands, you should quit the `Jupyter` server.  To accomplish this, you click on the `Quit` button to stop the server (see image below), and then close the browser tab (or window). \n",
    "\n",
    "Then restart the `Notebook` and you should see `Nbextensions` there as shown in the image:\n",
    "\n",
    "<img src = 'Media/jupyter_nbextensions.png' width = 600>"
   ]
  },
  {
   "cell_type": "markdown",
   "id": "c1c8bab9",
   "metadata": {},
   "source": [
    "Below, you can see the extensions I selected. But you do you!\n",
    "\n",
    "<img src = 'Media/jupyter_nbextensions_selected.png' width = 600>"
   ]
  },
  {
   "cell_type": "markdown",
   "id": "b02759b5",
   "metadata": {},
   "source": [
    "# To start the course...\n",
    "\n",
    "just open [this notebook](Module_An_Intro_to_Python/nb_01_Introduction.ipynb)."
   ]
  }
 ],
 "metadata": {
  "kernelspec": {
   "display_name": "base",
   "language": "python",
   "name": "base"
  },
  "language_info": {
   "codemirror_mode": {
    "name": "ipython",
    "version": 3
   },
   "file_extension": ".py",
   "mimetype": "text/x-python",
   "name": "python",
   "nbconvert_exporter": "python",
   "pygments_lexer": "ipython3",
   "version": "3.9.12"
  },
  "toc": {
   "base_numbering": 1,
   "nav_menu": {},
   "number_sections": true,
   "sideBar": true,
   "skip_h1_title": false,
   "title_cell": "Table of Contents",
   "title_sidebar": "Contents",
   "toc_cell": false,
   "toc_position": {
    "height": "calc(100% - 180px)",
    "left": "10px",
    "top": "150px",
    "width": "208.567px"
   },
   "toc_section_display": true,
   "toc_window_display": true
  },
  "varInspector": {
   "cols": {
    "lenName": 16,
    "lenType": 16,
    "lenVar": 40
   },
   "kernels_config": {
    "python": {
     "delete_cmd_postfix": "",
     "delete_cmd_prefix": "del ",
     "library": "var_list.py",
     "varRefreshCmd": "print(var_dic_list())"
    },
    "r": {
     "delete_cmd_postfix": ") ",
     "delete_cmd_prefix": "rm(",
     "library": "var_list.r",
     "varRefreshCmd": "cat(var_dic_list()) "
    }
   },
   "types_to_exclude": [
    "module",
    "function",
    "builtin_function_or_method",
    "instance",
    "_Feature"
   ],
   "window_display": false
  }
 },
 "nbformat": 4,
 "nbformat_minor": 5
}
